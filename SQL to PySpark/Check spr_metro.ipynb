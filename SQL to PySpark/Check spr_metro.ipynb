{
 "cells": [
  {
   "cell_type": "markdown",
   "id": "93ca94f4",
   "metadata": {},
   "source": [
    "# Tech Intro"
   ]
  },
  {
   "cell_type": "markdown",
   "id": "2fce20ac",
   "metadata": {},
   "source": [
    "## Main tables"
   ]
  },
  {
   "cell_type": "code",
   "execution_count": 8,
   "id": "e46f86d7",
   "metadata": {},
   "outputs": [],
   "source": [
    "# Real Estate's objects\n",
    "real_estate_list: list = [\n",
    "    'ag_object',\n",
    "    'ag_parse_ad',\n",
    "    'ag_lead_object',\n",
    "    'ag_presentation_object',\n",
    "    'ag_object_platform',\n",
    "    'ag_posting_ad_realty',\n",
    "    'native_realty_filial',\n",
    "    'foreign_realty_filial',\n",
    "    'spr_metro',\n",
    "    'spr_metro_connection',\n",
    "    'ag_object_parking']\n",
    "# Lead's objects\n",
    "lead_list: list = [\n",
    "    'leads',\n",
    "    'lead_utm',\n",
    "    'client_wishes',\n",
    "    'leads_email_order',\n",
    "    'request_from_site',\n",
    "    'lead_finance',\n",
    "    'leads_source_spr',\n",
    "    'leads_calls_connection',\n",
    "    'leads_pipeline',\n",
    "    'leads_not_implemented_reason',\n",
    "    'leads_status',\n",
    "    'ag_pipeline',\n",
    "    'ag_pipeline_status',\n",
    "    'leads_meta',\n",
    "    'leads_meta_fields',\n",
    "    'leads_meta_group',\n",
    "    'leads_contacts_connect',\n",
    "    'leads_contact',\n",
    "    'leads_contact_meta',\n",
    "    'leads_contact_meta_fields']\n",
    "# Deal's objects\n",
    "deal_list: list = [\n",
    "    # Deal\n",
    "    'a_deal',\n",
    "    'a_deal_meta',\n",
    "    'deal_passport',\n",
    "    'a_deal_finance',\n",
    "    'a_deal_check',\n",
    "    'a_deal_test',\n",
    "    # Contractor\n",
    "    'a_contractor',\n",
    "    'a_contractor_meta',\n",
    "    'a_deal_contractor',\n",
    "    'a_deal_contractor_meta',\n",
    "    # Object\n",
    "    'a_object',\n",
    "    'a_object_meta',\n",
    "    'a_deal_object']"
   ]
  },
  {
   "cell_type": "markdown",
   "id": "86c6ee69",
   "metadata": {},
   "source": [
    "## Main Variables"
   ]
  },
  {
   "cell_type": "code",
   "execution_count": 9,
   "id": "f9fb4d41",
   "metadata": {},
   "outputs": [],
   "source": [
    "# Address and name of your notebook\n",
    "venv_path = \"/home/bigdata/a.umarov/jupyter_P24\"\n",
    "# Exploratory Data Analysis(EDA) table (eda_table)\n",
    "eda_table = real_estate_list[8] # You can generate full-EDA cycle if you want through the all of tables\n",
    "                                # Just iterate it !\n",
    "# Exploratory Data Analysis(EDA) obj as PySpark DataFrame\n",
    "eda_df = None\n",
    "# Set the date of checking\n",
    "sample_data_date = '20221027'"
   ]
  },
  {
   "cell_type": "markdown",
   "id": "79cec746",
   "metadata": {},
   "source": [
    "## Useful command and modules (can be transform into the 'importlib'- smart import logic)"
   ]
  },
  {
   "cell_type": "code",
   "execution_count": 10,
   "id": "19563688",
   "metadata": {},
   "outputs": [
    {
     "name": "stderr",
     "output_type": "stream",
     "text": [
      "W1106 21:40:03.946552 55868 process.cpp:2877] Attempted to spawn already running process version@10.62.4.11:34678\n",
      "I1106 21:40:03.947083 58299 sched.cpp:241] Version: 1.11.0\n",
      "I1106 21:40:03.947212 56027 sched.cpp:345] New master detected at master@10.62.4.8:5050\n",
      "I1106 21:40:03.947248 56027 sched.cpp:365] No credentials provided. Attempting to register without authentication\n",
      "I1106 21:40:03.948469 56029 sched.cpp:753] Framework registered with 89161c75-8817-4ae4-ab24-cba26241d6f9-53196\n"
     ]
    }
   ],
   "source": [
    "import os\n",
    "import pandas as pd\n",
    "# To data analyze need the module\n",
    "import pyspark.pandas as ps\n",
    "os.environ[\"PYSPARK_PYTHON\"] = f\"{venv_path}/bin/python3\"\n",
    "os.environ[\"PYSPARK_DRIVER_PYTHON\"] = f\"{venv_path}/bin/python3\"\n",
    "\n",
    "import findspark\n",
    "findspark.init(\"/opt/dev/spark/spark\")\n",
    " \n",
    "from pyspark import SparkContext, SparkConf\n",
    "from pyspark.sql import SparkSession, SQLContext, DataFrameNaFunctions, \\\n",
    "                        Window, DataFrame, DataFrameStatFunctions, \\\n",
    "                        Column, Row, GroupedData, functions, types\n",
    "from pyspark.sql.functions import isnan, when, count, col\n",
    "\n",
    "\n",
    "conf = SparkConf().setAppName(\"get_info_from_\" + eda_table + \"_table\")\n",
    "sc = SparkContext(conf=conf)\n",
    "sc.setLogLevel(\"ERROR\")\n",
    "spark = SparkSession(sc)"
   ]
  },
  {
   "cell_type": "markdown",
   "id": "025c6aa9",
   "metadata": {},
   "source": [
    "## Read the spec-file from Hadoop and show some data sample"
   ]
  },
  {
   "cell_type": "code",
   "execution_count": 11,
   "id": "578e3061",
   "metadata": {
    "scrolled": true
   },
   "outputs": [
    {
     "name": "stderr",
     "output_type": "stream",
     "text": [
      "[Stage 1:>                                                          (0 + 1) / 1]\r"
     ]
    },
    {
     "name": "stdout",
     "output_type": "stream",
     "text": [
      "+---+----------------------+------------------+--------+------+---------+-------+\n",
      "|id |name                  |platform_system_id|platform|city  |filial_id|deleted|\n",
      "+---+----------------------+------------------+--------+------+---------+-------+\n",
      "|1  |Авиамоторная          |1                 |Cian    |Москва|null     |0      |\n",
      "|10 |Бабушкинская          |10                |Cian    |Москва|null     |0      |\n",
      "|100|Преображенская площадь|100               |Cian    |Москва|null     |0      |\n",
      "|101|Пролетарская          |101               |Cian    |Москва|null     |0      |\n",
      "|102|Проспект Вернадского  |102               |Cian    |Москва|null     |0      |\n",
      "|103|Проспект Мира         |103               |Cian    |Москва|null     |0      |\n",
      "|104|Профсоюзная           |104               |Cian    |Москва|null     |0      |\n",
      "|105|Пушкинская            |105               |Cian    |Москва|null     |0      |\n",
      "|106|Речной вокзал         |106               |Cian    |Москва|null     |0      |\n",
      "|107|Рижская               |107               |Cian    |Москва|null     |0      |\n",
      "+---+----------------------+------------------+--------+------+---------+-------+\n",
      "only showing top 10 rows\n",
      "\n"
     ]
    },
    {
     "name": "stderr",
     "output_type": "stream",
     "text": [
      "                                                                                \r"
     ]
    }
   ],
   "source": [
    "eda_df = spark.read.parquet(\"/prod/source/p24/\" + eda_table + \"/datekey=\" + sample_data_date)\n",
    "eda_df.show(10, False)"
   ]
  },
  {
   "cell_type": "markdown",
   "id": "c62a4902",
   "metadata": {},
   "source": [
    "## Show columns' properties"
   ]
  },
  {
   "cell_type": "code",
   "execution_count": 12,
   "id": "f8ff7f9c",
   "metadata": {},
   "outputs": [
    {
     "name": "stdout",
     "output_type": "stream",
     "text": [
      "Data overview\n",
      "root\n",
      " |-- id: string (nullable = true)\n",
      " |-- name: string (nullable = true)\n",
      " |-- platform_system_id: string (nullable = true)\n",
      " |-- platform: string (nullable = true)\n",
      " |-- city: string (nullable = true)\n",
      " |-- filial_id: string (nullable = true)\n",
      " |-- deleted: string (nullable = true)\n",
      "\n"
     ]
    }
   ],
   "source": [
    "print('Data overview')\n",
    "eda_df.printSchema()"
   ]
  },
  {
   "cell_type": "markdown",
   "id": "04bc5dc3",
   "metadata": {},
   "source": [
    "## Total rows (count)"
   ]
  },
  {
   "cell_type": "code",
   "execution_count": 13,
   "id": "d8a63c96",
   "metadata": {},
   "outputs": [
    {
     "name": "stderr",
     "output_type": "stream",
     "text": [
      "                                                                                \r"
     ]
    },
    {
     "data": {
      "text/plain": [
       "431"
      ]
     },
     "execution_count": 13,
     "metadata": {},
     "output_type": "execute_result"
    }
   ],
   "source": [
    "eda_df.count()"
   ]
  },
  {
   "cell_type": "markdown",
   "id": "d6c93fce",
   "metadata": {},
   "source": [
    "## Simple func to execute and show the result of the SQL-instruction"
   ]
  },
  {
   "cell_type": "code",
   "execution_count": 14,
   "id": "29bbb505",
   "metadata": {},
   "outputs": [],
   "source": [
    "def execute(select_instruction: str = \"select count(*) from realEstate\") -> object:\n",
    "    \"\"\"\n",
    "    Method to execute and show the result of your SQL-instruction\n",
    "    :default -> \"select count(*) from realEstate\"\n",
    "    :param :string select_instruction: SQL statement\n",
    "    :return: result of the SQL-operation as a table\n",
    "    \"\"\"\n",
    "    return spark.sql(select_instruction).show()"
   ]
  },
  {
   "cell_type": "markdown",
   "id": "06551cc5",
   "metadata": {},
   "source": [
    "## Create the temp-table-view from the DF (called as \"eda_sql\")"
   ]
  },
  {
   "cell_type": "code",
   "execution_count": 15,
   "id": "673475aa",
   "metadata": {},
   "outputs": [],
   "source": [
    "eda_df.createOrReplaceTempView(\"eda_sql\")"
   ]
  },
  {
   "cell_type": "markdown",
   "id": "d98e84ed",
   "metadata": {},
   "source": [
    "## Check the method and temp-table"
   ]
  },
  {
   "cell_type": "code",
   "execution_count": 16,
   "id": "a2d571a0",
   "metadata": {},
   "outputs": [
    {
     "name": "stdout",
     "output_type": "stream",
     "text": [
      "+--------+\n",
      "|count(1)|\n",
      "+--------+\n",
      "|     431|\n",
      "+--------+\n",
      "\n"
     ]
    }
   ],
   "source": [
    "execute(\"select count(*) from eda_sql\")"
   ]
  },
  {
   "cell_type": "markdown",
   "id": "baeadc7c",
   "metadata": {},
   "source": [
    "## Detect missing values and abnormal zeroes and print it"
   ]
  },
  {
   "cell_type": "markdown",
   "id": "69ed9472",
   "metadata": {},
   "source": [
    "###### Check-rule Matrix\n",
    "\n",
    "\n",
    "|  Name of the rule    |Available                   \n",
    "|----------------------|-------------------------|\n",
    "|NULL/NaN/NA           |+                        |\n",
    "|'Zero'-value          |+                        |\n",
    "|'Empty-string'        |+                        |"
   ]
  },
  {
   "cell_type": "markdown",
   "id": "8bfc12ee",
   "metadata": {},
   "source": [
    "### 1st solution (PySpark & Pandas version)\n",
    "#### Max perfomance but harder to read & understand"
   ]
  },
  {
   "cell_type": "markdown",
   "id": "ceb2d291",
   "metadata": {},
   "source": [
    "##### Filter and count after - all the values in the  our EDA-DF"
   ]
  },
  {
   "cell_type": "code",
   "execution_count": 17,
   "id": "a69cc029",
   "metadata": {},
   "outputs": [
    {
     "data": {
      "text/html": [
       "<div>\n",
       "<style scoped>\n",
       "    .dataframe tbody tr th:only-of-type {\n",
       "        vertical-align: middle;\n",
       "    }\n",
       "\n",
       "    .dataframe tbody tr th {\n",
       "        vertical-align: top;\n",
       "    }\n",
       "\n",
       "    .dataframe thead th {\n",
       "        text-align: right;\n",
       "    }\n",
       "</style>\n",
       "<table border=\"1\" class=\"dataframe\">\n",
       "  <thead>\n",
       "    <tr style=\"text-align: right;\">\n",
       "      <th></th>\n",
       "      <th>id</th>\n",
       "      <th>name</th>\n",
       "      <th>platform_system_id</th>\n",
       "      <th>platform</th>\n",
       "      <th>city</th>\n",
       "      <th>filial_id</th>\n",
       "      <th>deleted</th>\n",
       "    </tr>\n",
       "  </thead>\n",
       "  <tbody>\n",
       "    <tr>\n",
       "      <th>0</th>\n",
       "      <td>0</td>\n",
       "      <td>0</td>\n",
       "      <td>3</td>\n",
       "      <td>0</td>\n",
       "      <td>0</td>\n",
       "      <td>431</td>\n",
       "      <td>0</td>\n",
       "    </tr>\n",
       "  </tbody>\n",
       "</table>\n",
       "</div>"
      ],
      "text/plain": [
       "   id  name  platform_system_id  platform  city  filial_id  deleted\n",
       "0   0     0                   3         0     0        431        0"
      ]
     },
     "execution_count": 17,
     "metadata": {},
     "output_type": "execute_result"
    }
   ],
   "source": [
    "# NULL/NaN/NA values condition\n",
    "eda_df_null_values = eda_df.select([count(when(isnan(c) | col(c).isNull(), c)).alias(c) \\\n",
    "                                    for c in eda_df.columns]).toPandas()\n",
    "eda_df_null_values"
   ]
  },
  {
   "cell_type": "code",
   "execution_count": 18,
   "id": "e08597da",
   "metadata": {},
   "outputs": [
    {
     "data": {
      "text/html": [
       "<div>\n",
       "<style scoped>\n",
       "    .dataframe tbody tr th:only-of-type {\n",
       "        vertical-align: middle;\n",
       "    }\n",
       "\n",
       "    .dataframe tbody tr th {\n",
       "        vertical-align: top;\n",
       "    }\n",
       "\n",
       "    .dataframe thead th {\n",
       "        text-align: right;\n",
       "    }\n",
       "</style>\n",
       "<table border=\"1\" class=\"dataframe\">\n",
       "  <thead>\n",
       "    <tr style=\"text-align: right;\">\n",
       "      <th></th>\n",
       "      <th>id</th>\n",
       "      <th>name</th>\n",
       "      <th>platform_system_id</th>\n",
       "      <th>platform</th>\n",
       "      <th>city</th>\n",
       "      <th>filial_id</th>\n",
       "      <th>deleted</th>\n",
       "    </tr>\n",
       "  </thead>\n",
       "  <tbody>\n",
       "    <tr>\n",
       "      <th>0</th>\n",
       "      <td>0</td>\n",
       "      <td>0</td>\n",
       "      <td>0</td>\n",
       "      <td>0</td>\n",
       "      <td>0</td>\n",
       "      <td>0</td>\n",
       "      <td>430</td>\n",
       "    </tr>\n",
       "  </tbody>\n",
       "</table>\n",
       "</div>"
      ],
      "text/plain": [
       "   id  name  platform_system_id  platform  city  filial_id  deleted\n",
       "0   0     0                   0         0     0          0      430"
      ]
     },
     "execution_count": 18,
     "metadata": {},
     "output_type": "execute_result"
    }
   ],
   "source": [
    "# Zero values condition\n",
    "eda_df_zero_values = eda_df.select([count(when(col(c) == 0, c)).alias(c) \\\n",
    "                                    for c in eda_df.columns]).toPandas()\n",
    "eda_df_zero_values"
   ]
  },
  {
   "cell_type": "code",
   "execution_count": 19,
   "id": "5a6cb426",
   "metadata": {},
   "outputs": [
    {
     "data": {
      "text/html": [
       "<div>\n",
       "<style scoped>\n",
       "    .dataframe tbody tr th:only-of-type {\n",
       "        vertical-align: middle;\n",
       "    }\n",
       "\n",
       "    .dataframe tbody tr th {\n",
       "        vertical-align: top;\n",
       "    }\n",
       "\n",
       "    .dataframe thead th {\n",
       "        text-align: right;\n",
       "    }\n",
       "</style>\n",
       "<table border=\"1\" class=\"dataframe\">\n",
       "  <thead>\n",
       "    <tr style=\"text-align: right;\">\n",
       "      <th></th>\n",
       "      <th>id</th>\n",
       "      <th>name</th>\n",
       "      <th>platform_system_id</th>\n",
       "      <th>platform</th>\n",
       "      <th>city</th>\n",
       "      <th>filial_id</th>\n",
       "      <th>deleted</th>\n",
       "    </tr>\n",
       "  </thead>\n",
       "  <tbody>\n",
       "    <tr>\n",
       "      <th>0</th>\n",
       "      <td>0</td>\n",
       "      <td>0</td>\n",
       "      <td>0</td>\n",
       "      <td>0</td>\n",
       "      <td>0</td>\n",
       "      <td>0</td>\n",
       "      <td>0</td>\n",
       "    </tr>\n",
       "  </tbody>\n",
       "</table>\n",
       "</div>"
      ],
      "text/plain": [
       "   id  name  platform_system_id  platform  city  filial_id  deleted\n",
       "0   0     0                   0         0     0          0        0"
      ]
     },
     "execution_count": 19,
     "metadata": {},
     "output_type": "execute_result"
    }
   ],
   "source": [
    "# Empty-string values condition\n",
    "eda_df_empty_values = eda_df.select([count(when(col(c) == '', c)).alias(c) \\\n",
    "                                     for c in eda_df.columns]).toPandas()\n",
    "eda_df_empty_values"
   ]
  },
  {
   "cell_type": "code",
   "execution_count": 20,
   "id": "6e9f5025",
   "metadata": {},
   "outputs": [
    {
     "data": {
      "text/html": [
       "<div>\n",
       "<style scoped>\n",
       "    .dataframe tbody tr th:only-of-type {\n",
       "        vertical-align: middle;\n",
       "    }\n",
       "\n",
       "    .dataframe tbody tr th {\n",
       "        vertical-align: top;\n",
       "    }\n",
       "\n",
       "    .dataframe thead th {\n",
       "        text-align: right;\n",
       "    }\n",
       "</style>\n",
       "<table border=\"1\" class=\"dataframe\">\n",
       "  <thead>\n",
       "    <tr style=\"text-align: right;\">\n",
       "      <th></th>\n",
       "      <th>NULL</th>\n",
       "      <th>Zero</th>\n",
       "      <th>Empty_string</th>\n",
       "    </tr>\n",
       "  </thead>\n",
       "  <tbody>\n",
       "    <tr>\n",
       "      <th>id</th>\n",
       "      <td>0</td>\n",
       "      <td>0</td>\n",
       "      <td>0</td>\n",
       "    </tr>\n",
       "    <tr>\n",
       "      <th>name</th>\n",
       "      <td>0</td>\n",
       "      <td>0</td>\n",
       "      <td>0</td>\n",
       "    </tr>\n",
       "    <tr>\n",
       "      <th>platform_system_id</th>\n",
       "      <td>3</td>\n",
       "      <td>0</td>\n",
       "      <td>0</td>\n",
       "    </tr>\n",
       "    <tr>\n",
       "      <th>platform</th>\n",
       "      <td>0</td>\n",
       "      <td>0</td>\n",
       "      <td>0</td>\n",
       "    </tr>\n",
       "    <tr>\n",
       "      <th>city</th>\n",
       "      <td>0</td>\n",
       "      <td>0</td>\n",
       "      <td>0</td>\n",
       "    </tr>\n",
       "    <tr>\n",
       "      <th>filial_id</th>\n",
       "      <td>431</td>\n",
       "      <td>0</td>\n",
       "      <td>0</td>\n",
       "    </tr>\n",
       "    <tr>\n",
       "      <th>deleted</th>\n",
       "      <td>0</td>\n",
       "      <td>430</td>\n",
       "      <td>0</td>\n",
       "    </tr>\n",
       "  </tbody>\n",
       "</table>\n",
       "</div>"
      ],
      "text/plain": [
       "                    NULL  Zero  Empty_string\n",
       "id                     0     0             0\n",
       "name                   0     0             0\n",
       "platform_system_id     3     0             0\n",
       "platform               0     0             0\n",
       "city                   0     0             0\n",
       "filial_id            431     0             0\n",
       "deleted                0   430             0"
      ]
     },
     "execution_count": 20,
     "metadata": {},
     "output_type": "execute_result"
    }
   ],
   "source": [
    "# Unlock the limit to display all the columns\n",
    "pd.options.display.max_rows = None\n",
    "# To transpose a dataframe - use .T method\n",
    "eda_df_pandas = pd.concat([eda_df_null_values, eda_df_zero_values, eda_df_empty_values], axis = 'index').T\n",
    "# To rename columns to anything else after the transpose\n",
    "eda_df_pandas.columns = (['NULL','Zero','Empty_string'])\n",
    "eda_df_pandas"
   ]
  },
  {
   "cell_type": "code",
   "execution_count": 23,
   "id": "7b26312a",
   "metadata": {},
   "outputs": [],
   "source": [
    "def set_result_to_percent(df: object = None) -> object:\n",
    "    \"\"\"\n",
    "    Method to execute and show the result of your PandasDataFrame\n",
    "    :default -> None-object\n",
    "    :param :Pandas DF\n",
    "    :return: DF after the conversion (absolute -> percent)\n",
    "    \"\"\"\n",
    "    if df is None:\n",
    "        return \"Please incl. at least one Pandas DF as a parameter\"\n",
    "    return round(df * 100 / eda_df.count(), 3)"
   ]
  },
  {
   "cell_type": "code",
   "execution_count": 24,
   "id": "0fd205c2",
   "metadata": {},
   "outputs": [
    {
     "data": {
      "text/html": [
       "<div>\n",
       "<style scoped>\n",
       "    .dataframe tbody tr th:only-of-type {\n",
       "        vertical-align: middle;\n",
       "    }\n",
       "\n",
       "    .dataframe tbody tr th {\n",
       "        vertical-align: top;\n",
       "    }\n",
       "\n",
       "    .dataframe thead th {\n",
       "        text-align: right;\n",
       "    }\n",
       "</style>\n",
       "<table border=\"1\" class=\"dataframe\">\n",
       "  <thead>\n",
       "    <tr style=\"text-align: right;\">\n",
       "      <th></th>\n",
       "      <th>NULL</th>\n",
       "      <th>Zero</th>\n",
       "      <th>Empty_string</th>\n",
       "    </tr>\n",
       "  </thead>\n",
       "  <tbody>\n",
       "    <tr>\n",
       "      <th>id</th>\n",
       "      <td>0.000</td>\n",
       "      <td>0.000</td>\n",
       "      <td>0.0</td>\n",
       "    </tr>\n",
       "    <tr>\n",
       "      <th>name</th>\n",
       "      <td>0.000</td>\n",
       "      <td>0.000</td>\n",
       "      <td>0.0</td>\n",
       "    </tr>\n",
       "    <tr>\n",
       "      <th>platform_system_id</th>\n",
       "      <td>0.696</td>\n",
       "      <td>0.000</td>\n",
       "      <td>0.0</td>\n",
       "    </tr>\n",
       "    <tr>\n",
       "      <th>platform</th>\n",
       "      <td>0.000</td>\n",
       "      <td>0.000</td>\n",
       "      <td>0.0</td>\n",
       "    </tr>\n",
       "    <tr>\n",
       "      <th>city</th>\n",
       "      <td>0.000</td>\n",
       "      <td>0.000</td>\n",
       "      <td>0.0</td>\n",
       "    </tr>\n",
       "    <tr>\n",
       "      <th>filial_id</th>\n",
       "      <td>100.000</td>\n",
       "      <td>0.000</td>\n",
       "      <td>0.0</td>\n",
       "    </tr>\n",
       "    <tr>\n",
       "      <th>deleted</th>\n",
       "      <td>0.000</td>\n",
       "      <td>99.768</td>\n",
       "      <td>0.0</td>\n",
       "    </tr>\n",
       "  </tbody>\n",
       "</table>\n",
       "</div>"
      ],
      "text/plain": [
       "                       NULL    Zero  Empty_string\n",
       "id                    0.000   0.000           0.0\n",
       "name                  0.000   0.000           0.0\n",
       "platform_system_id    0.696   0.000           0.0\n",
       "platform              0.000   0.000           0.0\n",
       "city                  0.000   0.000           0.0\n",
       "filial_id           100.000   0.000           0.0\n",
       "deleted               0.000  99.768           0.0"
      ]
     },
     "execution_count": 24,
     "metadata": {},
     "output_type": "execute_result"
    }
   ],
   "source": [
    "set_result_to_percent(eda_df_pandas)"
   ]
  },
  {
   "cell_type": "markdown",
   "id": "99ca0812",
   "metadata": {},
   "source": [
    "### SQL-instructions"
   ]
  },
  {
   "cell_type": "code",
   "execution_count": 25,
   "id": "87c1d8d8",
   "metadata": {},
   "outputs": [
    {
     "name": "stderr",
     "output_type": "stream",
     "text": [
      "                                                                                \r"
     ]
    },
    {
     "name": "stdout",
     "output_type": "stream",
     "text": [
      "+------------------+\n",
      "|count(DISTINCT id)|\n",
      "+------------------+\n",
      "|               431|\n",
      "+------------------+\n",
      "\n",
      "+--------------------+\n",
      "|count(DISTINCT name)|\n",
      "+--------------------+\n",
      "|                 401|\n",
      "+--------------------+\n",
      "\n",
      "+----------------------------------+\n",
      "|count(DISTINCT platform_system_id)|\n",
      "+----------------------------------+\n",
      "|                               428|\n",
      "+----------------------------------+\n",
      "\n",
      "+------------------------+\n",
      "|count(DISTINCT platform)|\n",
      "+------------------------+\n",
      "|                       1|\n",
      "+------------------------+\n",
      "\n",
      "+--------------------+\n",
      "|count(DISTINCT city)|\n",
      "+--------------------+\n",
      "|                   8|\n",
      "+--------------------+\n",
      "\n",
      "+-------------------------+\n",
      "|count(DISTINCT filial_id)|\n",
      "+-------------------------+\n",
      "|                        0|\n",
      "+-------------------------+\n",
      "\n",
      "+-----------------------+\n",
      "|count(DISTINCT deleted)|\n",
      "+-----------------------+\n",
      "|                      2|\n",
      "+-----------------------+\n",
      "\n"
     ]
    }
   ],
   "source": [
    "#Find dupes or misunderstanding or useless static values 18 845 total\n",
    "for col in eda_df.columns: \n",
    "    execute(\"select count(distinct(\"+ col + \")) from eda_sql\")\n",
    "    \n",
    "        \n",
    "   \n",
    "\n",
    "\n"
   ]
  },
  {
   "cell_type": "markdown",
   "id": "a34abecb",
   "metadata": {},
   "source": [
    "## Bonus"
   ]
  },
  {
   "cell_type": "markdown",
   "id": "83df95a9",
   "metadata": {},
   "source": [
    "### 2nd solution (Cycle and variables)\n",
    "#### Slower but more simple and has more readability than the previous method "
   ]
  },
  {
   "cell_type": "markdown",
   "id": "19b4d65b",
   "metadata": {},
   "source": [
    "### Create the list of variables to re-use if needed"
   ]
  },
  {
   "cell_type": "code",
   "execution_count": null,
   "id": "c4b8e5d6",
   "metadata": {},
   "outputs": [],
   "source": [
    "useless_columns = []\n",
    "null_values = []\n",
    "zero_values = []\n",
    "empty_string = []\n",
    "col_name = []"
   ]
  },
  {
   "cell_type": "code",
   "execution_count": null,
   "id": "82a51d3d",
   "metadata": {},
   "outputs": [],
   "source": [
    "for col in eda_df.columns:\n",
    "    null = round((eda_df.filter(eda_df[col].isNull()).count()/eda_df.count())*100, 3)\n",
    "    zero = round(eda_df.filter(eda_df[col]==0).count()/eda_df.count()*100, 3)\n",
    "    empty = round(eda_df.filter(eda_df[col]=='').count()/eda_df.count()*100, 3)\n",
    "    if null in [0, 100] and zero in [0, 100] and empty in [0, 100]:\n",
    "        useless_columns.append(col)\n",
    "        continue\n",
    "    null_values.append(null)\n",
    "    zero_values.append(zero)\n",
    "    empty_string.append(empty)\n",
    "    col_name.append(col)"
   ]
  },
  {
   "cell_type": "code",
   "execution_count": null,
   "id": "6b405596",
   "metadata": {},
   "outputs": [],
   "source": [
    "zipped = list(zip(null_values, zero_values, empty_string))\n",
    "eda_df_pandas2 = pd.DataFrame(zipped, index=col_name, columns=['NULL', 'Zero', 'Empty'])\n",
    "eda_df_pandas2"
   ]
  },
  {
   "cell_type": "markdown",
   "id": "16caef6a",
   "metadata": {},
   "source": [
    "### Remove useless columns"
   ]
  },
  {
   "cell_type": "code",
   "execution_count": null,
   "id": "c1ea0350",
   "metadata": {},
   "outputs": [],
   "source": [
    "eda_df = eda_df.drop(*useless_columns)"
   ]
  },
  {
   "cell_type": "code",
   "execution_count": null,
   "id": "c8306999",
   "metadata": {},
   "outputs": [],
   "source": [
    "pd.DataFrame(eda_df.dtypes, columns = ['Column Name','Data type'])"
   ]
  },
  {
   "cell_type": "code",
   "execution_count": 26,
   "id": "89b3aa90",
   "metadata": {},
   "outputs": [
    {
     "name": "stderr",
     "output_type": "stream",
     "text": [
      "I1106 21:47:16.411927 55868 sched.cpp:2174] Asked to stop the driver\n",
      "I1106 21:47:16.412070 56024 sched.cpp:1207] Stopping framework 89161c75-8817-4ae4-ab24-cba26241d6f9-53196\n"
     ]
    }
   ],
   "source": [
    "spark.stop()"
   ]
  },
  {
   "cell_type": "code",
   "execution_count": null,
   "id": "063105aa",
   "metadata": {},
   "outputs": [],
   "source": []
  }
 ],
 "metadata": {
  "kernelspec": {
   "display_name": "jupyter_P24",
   "language": "python",
   "name": "jupyter_p24"
  },
  "language_info": {
   "codemirror_mode": {
    "name": "ipython",
    "version": 3
   },
   "file_extension": ".py",
   "mimetype": "text/x-python",
   "name": "python",
   "nbconvert_exporter": "python",
   "pygments_lexer": "ipython3",
   "version": "3.9.13"
  }
 },
 "nbformat": 4,
 "nbformat_minor": 5
}
