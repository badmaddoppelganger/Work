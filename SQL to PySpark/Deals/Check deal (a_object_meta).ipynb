{
 "cells": [
  {
   "cell_type": "markdown",
   "id": "93ca94f4",
   "metadata": {},
   "source": [
    "# Tech Intro"
   ]
  },
  {
   "cell_type": "markdown",
   "id": "2fce20ac",
   "metadata": {},
   "source": [
    "## Main tables"
   ]
  },
  {
   "cell_type": "code",
   "execution_count": 827,
   "id": "e46f86d7",
   "metadata": {},
   "outputs": [],
   "source": [
    "# Real Estate's objects\n",
    "real_estate_list: list = [\n",
    "    'ag_object',\n",
    "    'ag_parse_ad',\n",
    "    'ag_lead_object',\n",
    "    'ag_presentation_object',\n",
    "    'ag_object_platform',\n",
    "    'ag_posting_ad_realty',\n",
    "    'native_realty_filial',\n",
    "    'foreign_realty_filial',\n",
    "    'spr_metro',\n",
    "    'spr_metro_connection',\n",
    "    'ag_object_parking']\n",
    "# Lead's objects\n",
    "lead_list: list = [\n",
    "    'leads',\n",
    "    'lead_utm',\n",
    "    'client_wishes',\n",
    "    'leads_email_order',\n",
    "    'request_from_site',\n",
    "    'lead_finance',\n",
    "    'leads_source_spr',\n",
    "    'leads_calls_connection',\n",
    "    'leads_pipeline',\n",
    "    'leads_not_implemented_reason',\n",
    "    'leads_status',\n",
    "    'ag_pipeline',\n",
    "    'ag_pipeline_status',\n",
    "    'leads_meta',\n",
    "    'leads_meta_fields',\n",
    "    'leads_meta_group',\n",
    "    'leads_contacts_connect',\n",
    "    'leads_contact',\n",
    "    'leads_contact_meta',\n",
    "    'leads_contact_meta_fields']\n",
    "# Deal's objects\n",
    "deal_list: list = [\n",
    "    # Deal\n",
    "    'a_deal',\n",
    "    'a_deal_meta',\n",
    "    'deal_passport',\n",
    "    'a_deal_finance',\n",
    "    'a_deal_check',\n",
    "    'a_deal_test',\n",
    "    # Contractor\n",
    "    'a_contractor',\n",
    "    'a_contractor_meta',\n",
    "    'a_deal_contractor',\n",
    "    'a_deal_contractor_meta',\n",
    "    # Object\n",
    "    'a_object',\n",
    "    'a_object_meta',\n",
    "    'a_deal_object']"
   ]
  },
  {
   "cell_type": "markdown",
   "id": "86c6ee69",
   "metadata": {},
   "source": [
    "## Main Variables"
   ]
  },
  {
   "cell_type": "code",
   "execution_count": 828,
   "id": "f9fb4d41",
   "metadata": {},
   "outputs": [],
   "source": [
    "# Address and name of your notebook\n",
    "venv_path = \"/home/bigdata/a.umarov/jupyter_P24\"\n",
    "# Exploratory Data Analysis(EDA) table (eda_table)\n",
    "eda_table = deal_list[11] # You can generate full-EDA cycle if you want through the all of tables\n",
    "                                # Just iterate it !\n",
    "# Exploratory Data Analysis(EDA) obj as PySpark DataFrame\n",
    "eda_df = None\n",
    "# Set the date of checking\n",
    "sample_data_date = '20221027'"
   ]
  },
  {
   "cell_type": "markdown",
   "id": "79cec746",
   "metadata": {},
   "source": [
    "## Useful command and modules (can be transform into the 'importlib'- smart import logic)"
   ]
  },
  {
   "cell_type": "code",
   "execution_count": 829,
   "id": "19563688",
   "metadata": {},
   "outputs": [
    {
     "name": "stderr",
     "output_type": "stream",
     "text": [
      "W1120 02:27:36.862079 10390 process.cpp:2877] Attempted to spawn already running process version@10.62.4.11:44708\n",
      "I1120 02:27:36.862977 57195 sched.cpp:241] Version: 1.11.0\n",
      "I1120 02:27:36.863234 10570 sched.cpp:345] New master detected at master@10.62.4.8:5050\n",
      "I1120 02:27:36.863308 10570 sched.cpp:365] No credentials provided. Attempting to register without authentication\n",
      "I1120 02:27:36.864657 10554 sched.cpp:753] Framework registered with 89161c75-8817-4ae4-ab24-cba26241d6f9-75627\n"
     ]
    }
   ],
   "source": [
    "import os\n",
    "import pandas as pd\n",
    "# To data analyze need the module\n",
    "import pyspark.pandas as ps\n",
    "os.environ[\"PYSPARK_PYTHON\"] = f\"{venv_path}/bin/python3\"\n",
    "os.environ[\"PYSPARK_DRIVER_PYTHON\"] = f\"{venv_path}/bin/python3\"\n",
    "\n",
    "import findspark\n",
    "findspark.init(\"/opt/dev/spark/spark\")\n",
    " \n",
    "from pyspark import SparkContext, SparkConf\n",
    "from pyspark.sql import SparkSession, SQLContext, DataFrameNaFunctions, \\\n",
    "                        Window, DataFrame, DataFrameStatFunctions, \\\n",
    "                        Column, Row, GroupedData, functions, types\n",
    "from pyspark.sql.functions import isnan, when, count, col\n",
    "\n",
    "\n",
    "conf = SparkConf().setAppName(\"get_info_from_\" + eda_table + \"_table\")\n",
    "sc = SparkContext(conf=conf)\n",
    "sc.setLogLevel(\"ERROR\")\n",
    "spark = SparkSession(sc)"
   ]
  },
  {
   "cell_type": "markdown",
   "id": "025c6aa9",
   "metadata": {},
   "source": [
    "## Read the spec-file from Hadoop and show some data sample"
   ]
  },
  {
   "cell_type": "code",
   "execution_count": 830,
   "id": "578e3061",
   "metadata": {
    "scrolled": true
   },
   "outputs": [
    {
     "name": "stderr",
     "output_type": "stream",
     "text": [
      "[Stage 3:======================================================>  (19 + 1) / 20]\r"
     ]
    },
    {
     "name": "stdout",
     "output_type": "stream",
     "text": [
      "+--------+------+---------------------------------------------------------------------------------------------------------------+-------------+--------------------+\n",
      "|id      |object|key                                                                                                            |value        |updated             |\n",
      "+--------+------+---------------------------------------------------------------------------------------------------------------+-------------+--------------------+\n",
      "|10000012|196747|Регион                                                                                                         |Краснодарский|2022-07-08T08:03:59Z|\n",
      "|10000036|196748|Площадь по внутреннему обмеру с учетом лоджий, балконов и веранд                                               |             |2022-07-08T08:05:31Z|\n",
      "|10000049|196748|Гарантийный срок на технологическое и инженерное оборудование, входящее в состав объекта долевого строительства|             |2022-07-08T08:05:31Z|\n",
      "|1000005 |22011 |Уровень отделки                                                                                                |             |2018-11-10T10:27:47Z|\n",
      "|1000006 |22011 |Строение селектор                                                                                              |             |2018-11-10T10:27:47Z|\n",
      "|1000008 |22011 |Незавершенное строительство селектор                                                                           |             |2018-11-10T10:27:47Z|\n",
      "|10000116|196750|Наименование                                                                                                   |Квартира     |2022-07-08T08:07:09Z|\n",
      "|10000137|196750|Планируемый срок передачи застройщиком объекта долевого строительства участнику долевого строительства         |             |2022-07-08T08:07:09Z|\n",
      "|10000138|196750|Гарантийный срок на объект долевого строительства                                                              |             |2022-07-08T08:07:09Z|\n",
      "|10000140|196750|Уровень отделки                                                                                                |             |2022-07-08T08:07:09Z|\n",
      "+--------+------+---------------------------------------------------------------------------------------------------------------+-------------+--------------------+\n",
      "only showing top 10 rows\n",
      "\n"
     ]
    },
    {
     "name": "stderr",
     "output_type": "stream",
     "text": [
      "                                                                                \r"
     ]
    }
   ],
   "source": [
    "eda_df = spark.read.parquet(\"/prod/source/p24/\" + eda_table + \"/datekey=\" + sample_data_date)\n",
    "eda_df.show(10, False)"
   ]
  },
  {
   "cell_type": "markdown",
   "id": "c62a4902",
   "metadata": {},
   "source": [
    "## Show columns' properties"
   ]
  },
  {
   "cell_type": "code",
   "execution_count": 831,
   "id": "f8ff7f9c",
   "metadata": {},
   "outputs": [
    {
     "name": "stdout",
     "output_type": "stream",
     "text": [
      "Data overview\n",
      "root\n",
      " |-- id: string (nullable = true)\n",
      " |-- object: string (nullable = true)\n",
      " |-- key: string (nullable = true)\n",
      " |-- value: string (nullable = true)\n",
      " |-- updated: string (nullable = true)\n",
      "\n"
     ]
    }
   ],
   "source": [
    "print('Data overview')\n",
    "eda_df.printSchema()"
   ]
  },
  {
   "cell_type": "markdown",
   "id": "04bc5dc3",
   "metadata": {},
   "source": [
    "## Total rows (count)"
   ]
  },
  {
   "cell_type": "code",
   "execution_count": 832,
   "id": "d8a63c96",
   "metadata": {},
   "outputs": [
    {
     "name": "stderr",
     "output_type": "stream",
     "text": [
      "                                                                                \r"
     ]
    },
    {
     "data": {
      "text/plain": [
       "8109002"
      ]
     },
     "execution_count": 832,
     "metadata": {},
     "output_type": "execute_result"
    }
   ],
   "source": [
    "eda_df.count()"
   ]
  },
  {
   "cell_type": "markdown",
   "id": "d6c93fce",
   "metadata": {},
   "source": [
    "## Simple func to execute and show the result of the SQL-instruction"
   ]
  },
  {
   "cell_type": "code",
   "execution_count": 833,
   "id": "29bbb505",
   "metadata": {},
   "outputs": [],
   "source": [
    "def execute(select_instruction: str = \"select count(*) from eda_sql\") -> object:\n",
    "    \"\"\"\n",
    "    Method to execute and show the result of your SQL-instruction\n",
    "    :default -> \"select count(*) from eda_sql\"\n",
    "    :param :string select_instruction: SQL statement\n",
    "    :return: result of the SQL-operation as a table\n",
    "    \"\"\"\n",
    "    return spark.sql(select_instruction).show(truncate = False)"
   ]
  },
  {
   "cell_type": "markdown",
   "id": "06551cc5",
   "metadata": {},
   "source": [
    "## Create the temp-table-view from the DF (called as \"eda_sql\")"
   ]
  },
  {
   "cell_type": "code",
   "execution_count": 834,
   "id": "673475aa",
   "metadata": {},
   "outputs": [],
   "source": [
    "eda_df.createOrReplaceTempView(\"eda_sql\")"
   ]
  },
  {
   "cell_type": "markdown",
   "id": "d98e84ed",
   "metadata": {},
   "source": [
    "## Check the method and temp-table"
   ]
  },
  {
   "cell_type": "code",
   "execution_count": 835,
   "id": "a2d571a0",
   "metadata": {},
   "outputs": [
    {
     "name": "stderr",
     "output_type": "stream",
     "text": [
      "[Stage 7:============================================>            (24 + 2) / 31]\r"
     ]
    },
    {
     "name": "stdout",
     "output_type": "stream",
     "text": [
      "+--------+\n",
      "|count(1)|\n",
      "+--------+\n",
      "|8109002 |\n",
      "+--------+\n",
      "\n"
     ]
    },
    {
     "name": "stderr",
     "output_type": "stream",
     "text": [
      "                                                                                \r"
     ]
    }
   ],
   "source": [
    "execute(\"select count(*) from eda_sql\")"
   ]
  },
  {
   "cell_type": "markdown",
   "id": "baeadc7c",
   "metadata": {},
   "source": [
    "## Detect missing values and abnormal zeroes and print it"
   ]
  },
  {
   "cell_type": "markdown",
   "id": "69ed9472",
   "metadata": {},
   "source": [
    "###### Check-rule Matrix\n",
    "\n",
    "\n",
    "|  Name of the rule    |Available                   \n",
    "|----------------------|-------------------------|\n",
    "|NULL/NaN/NA           |+                        |\n",
    "|'Zero'-value          |+                        |\n",
    "|'Empty-string'        |+                        |"
   ]
  },
  {
   "cell_type": "markdown",
   "id": "8bfc12ee",
   "metadata": {},
   "source": [
    "### 1st solution (PySpark & Pandas version)\n",
    "#### Max perfomance but harder to read & understand"
   ]
  },
  {
   "cell_type": "markdown",
   "id": "ceb2d291",
   "metadata": {},
   "source": [
    "##### Filter and count after - all the values in the  our EDA-DF"
   ]
  },
  {
   "cell_type": "code",
   "execution_count": 836,
   "id": "a69cc029",
   "metadata": {},
   "outputs": [
    {
     "name": "stderr",
     "output_type": "stream",
     "text": [
      "                                                                                \r"
     ]
    },
    {
     "data": {
      "text/html": [
       "<div>\n",
       "<style scoped>\n",
       "    .dataframe tbody tr th:only-of-type {\n",
       "        vertical-align: middle;\n",
       "    }\n",
       "\n",
       "    .dataframe tbody tr th {\n",
       "        vertical-align: top;\n",
       "    }\n",
       "\n",
       "    .dataframe thead th {\n",
       "        text-align: right;\n",
       "    }\n",
       "</style>\n",
       "<table border=\"1\" class=\"dataframe\">\n",
       "  <thead>\n",
       "    <tr style=\"text-align: right;\">\n",
       "      <th></th>\n",
       "      <th>id</th>\n",
       "      <th>object</th>\n",
       "      <th>key</th>\n",
       "      <th>value</th>\n",
       "      <th>updated</th>\n",
       "    </tr>\n",
       "  </thead>\n",
       "  <tbody>\n",
       "    <tr>\n",
       "      <th>0</th>\n",
       "      <td>0</td>\n",
       "      <td>0</td>\n",
       "      <td>0</td>\n",
       "      <td>374</td>\n",
       "      <td>0</td>\n",
       "    </tr>\n",
       "  </tbody>\n",
       "</table>\n",
       "</div>"
      ],
      "text/plain": [
       "   id  object  key  value  updated\n",
       "0   0       0    0    374        0"
      ]
     },
     "execution_count": 836,
     "metadata": {},
     "output_type": "execute_result"
    }
   ],
   "source": [
    "# NULL/NaN/NA values condition\n",
    "eda_df_null_values = eda_df.select([count(when(isnan(c) | col(c).isNull(), c)).alias(c) \\\n",
    "                                    for c in eda_df.columns]).toPandas()\n",
    "eda_df_null_values"
   ]
  },
  {
   "cell_type": "code",
   "execution_count": 837,
   "id": "e08597da",
   "metadata": {},
   "outputs": [
    {
     "name": "stderr",
     "output_type": "stream",
     "text": [
      "                                                                                \r"
     ]
    },
    {
     "data": {
      "text/html": [
       "<div>\n",
       "<style scoped>\n",
       "    .dataframe tbody tr th:only-of-type {\n",
       "        vertical-align: middle;\n",
       "    }\n",
       "\n",
       "    .dataframe tbody tr th {\n",
       "        vertical-align: top;\n",
       "    }\n",
       "\n",
       "    .dataframe thead th {\n",
       "        text-align: right;\n",
       "    }\n",
       "</style>\n",
       "<table border=\"1\" class=\"dataframe\">\n",
       "  <thead>\n",
       "    <tr style=\"text-align: right;\">\n",
       "      <th></th>\n",
       "      <th>id</th>\n",
       "      <th>object</th>\n",
       "      <th>key</th>\n",
       "      <th>value</th>\n",
       "      <th>updated</th>\n",
       "    </tr>\n",
       "  </thead>\n",
       "  <tbody>\n",
       "    <tr>\n",
       "      <th>0</th>\n",
       "      <td>0</td>\n",
       "      <td>0</td>\n",
       "      <td>0</td>\n",
       "      <td>9008</td>\n",
       "      <td>0</td>\n",
       "    </tr>\n",
       "  </tbody>\n",
       "</table>\n",
       "</div>"
      ],
      "text/plain": [
       "   id  object  key  value  updated\n",
       "0   0       0    0   9008        0"
      ]
     },
     "execution_count": 837,
     "metadata": {},
     "output_type": "execute_result"
    }
   ],
   "source": [
    "# Zero values condition\n",
    "eda_df_zero_values = eda_df.select([count(when(col(c) == 0, c)).alias(c) \\\n",
    "                                    for c in eda_df.columns]).toPandas()\n",
    "eda_df_zero_values"
   ]
  },
  {
   "cell_type": "code",
   "execution_count": 838,
   "id": "5a6cb426",
   "metadata": {},
   "outputs": [
    {
     "name": "stderr",
     "output_type": "stream",
     "text": [
      "                                                                                \r"
     ]
    },
    {
     "data": {
      "text/html": [
       "<div>\n",
       "<style scoped>\n",
       "    .dataframe tbody tr th:only-of-type {\n",
       "        vertical-align: middle;\n",
       "    }\n",
       "\n",
       "    .dataframe tbody tr th {\n",
       "        vertical-align: top;\n",
       "    }\n",
       "\n",
       "    .dataframe thead th {\n",
       "        text-align: right;\n",
       "    }\n",
       "</style>\n",
       "<table border=\"1\" class=\"dataframe\">\n",
       "  <thead>\n",
       "    <tr style=\"text-align: right;\">\n",
       "      <th></th>\n",
       "      <th>id</th>\n",
       "      <th>object</th>\n",
       "      <th>key</th>\n",
       "      <th>value</th>\n",
       "      <th>updated</th>\n",
       "    </tr>\n",
       "  </thead>\n",
       "  <tbody>\n",
       "    <tr>\n",
       "      <th>0</th>\n",
       "      <td>0</td>\n",
       "      <td>0</td>\n",
       "      <td>0</td>\n",
       "      <td>5424367</td>\n",
       "      <td>0</td>\n",
       "    </tr>\n",
       "  </tbody>\n",
       "</table>\n",
       "</div>"
      ],
      "text/plain": [
       "   id  object  key    value  updated\n",
       "0   0       0    0  5424367        0"
      ]
     },
     "execution_count": 838,
     "metadata": {},
     "output_type": "execute_result"
    }
   ],
   "source": [
    "# Empty-string values condition\n",
    "eda_df_empty_values = eda_df.select([count(when(col(c) == '', c)).alias(c) \\\n",
    "                                     for c in eda_df.columns]).toPandas()\n",
    "eda_df_empty_values"
   ]
  },
  {
   "cell_type": "code",
   "execution_count": 839,
   "id": "6e9f5025",
   "metadata": {},
   "outputs": [
    {
     "data": {
      "text/html": [
       "<div>\n",
       "<style scoped>\n",
       "    .dataframe tbody tr th:only-of-type {\n",
       "        vertical-align: middle;\n",
       "    }\n",
       "\n",
       "    .dataframe tbody tr th {\n",
       "        vertical-align: top;\n",
       "    }\n",
       "\n",
       "    .dataframe thead th {\n",
       "        text-align: right;\n",
       "    }\n",
       "</style>\n",
       "<table border=\"1\" class=\"dataframe\">\n",
       "  <thead>\n",
       "    <tr style=\"text-align: right;\">\n",
       "      <th></th>\n",
       "      <th>NULL</th>\n",
       "      <th>Zero</th>\n",
       "      <th>Empty_string</th>\n",
       "    </tr>\n",
       "  </thead>\n",
       "  <tbody>\n",
       "    <tr>\n",
       "      <th>id</th>\n",
       "      <td>0</td>\n",
       "      <td>0</td>\n",
       "      <td>0</td>\n",
       "    </tr>\n",
       "    <tr>\n",
       "      <th>object</th>\n",
       "      <td>0</td>\n",
       "      <td>0</td>\n",
       "      <td>0</td>\n",
       "    </tr>\n",
       "    <tr>\n",
       "      <th>key</th>\n",
       "      <td>0</td>\n",
       "      <td>0</td>\n",
       "      <td>0</td>\n",
       "    </tr>\n",
       "    <tr>\n",
       "      <th>value</th>\n",
       "      <td>374</td>\n",
       "      <td>9008</td>\n",
       "      <td>5424367</td>\n",
       "    </tr>\n",
       "    <tr>\n",
       "      <th>updated</th>\n",
       "      <td>0</td>\n",
       "      <td>0</td>\n",
       "      <td>0</td>\n",
       "    </tr>\n",
       "  </tbody>\n",
       "</table>\n",
       "</div>"
      ],
      "text/plain": [
       "         NULL  Zero  Empty_string\n",
       "id          0     0             0\n",
       "object      0     0             0\n",
       "key         0     0             0\n",
       "value     374  9008       5424367\n",
       "updated     0     0             0"
      ]
     },
     "execution_count": 839,
     "metadata": {},
     "output_type": "execute_result"
    }
   ],
   "source": [
    "# Unlock the limit to display all the columns\n",
    "pd.options.display.max_rows = None\n",
    "# To transpose a dataframe - use .T method\n",
    "eda_df_pandas = pd.concat([eda_df_null_values, eda_df_zero_values, eda_df_empty_values], axis = 'index').T\n",
    "# To rename columns to anything else after the transpose\n",
    "eda_df_pandas.columns = (['NULL','Zero','Empty_string'])\n",
    "eda_df_pandas"
   ]
  },
  {
   "cell_type": "code",
   "execution_count": 840,
   "id": "7b26312a",
   "metadata": {},
   "outputs": [],
   "source": [
    "def set_result_to_percent(df: object = None) -> object:\n",
    "    \"\"\"\n",
    "    Method to execute and show the result of your PandasDataFrame\n",
    "    :default -> None-object\n",
    "    :param :Pandas DF\n",
    "    :return: DF after the conversion (absolute -> percent)\n",
    "    \"\"\"\n",
    "    if df is None:\n",
    "        return \"Please incl. at least one Pandas DF as a parameter\"\n",
    "    return round(df * 100 / eda_df.count(), 3)"
   ]
  },
  {
   "cell_type": "code",
   "execution_count": 841,
   "id": "0fd205c2",
   "metadata": {},
   "outputs": [
    {
     "data": {
      "text/html": [
       "<div>\n",
       "<style scoped>\n",
       "    .dataframe tbody tr th:only-of-type {\n",
       "        vertical-align: middle;\n",
       "    }\n",
       "\n",
       "    .dataframe tbody tr th {\n",
       "        vertical-align: top;\n",
       "    }\n",
       "\n",
       "    .dataframe thead th {\n",
       "        text-align: right;\n",
       "    }\n",
       "</style>\n",
       "<table border=\"1\" class=\"dataframe\">\n",
       "  <thead>\n",
       "    <tr style=\"text-align: right;\">\n",
       "      <th></th>\n",
       "      <th>NULL</th>\n",
       "      <th>Zero</th>\n",
       "      <th>Empty_string</th>\n",
       "    </tr>\n",
       "  </thead>\n",
       "  <tbody>\n",
       "    <tr>\n",
       "      <th>id</th>\n",
       "      <td>0.000</td>\n",
       "      <td>0.000</td>\n",
       "      <td>0.000</td>\n",
       "    </tr>\n",
       "    <tr>\n",
       "      <th>object</th>\n",
       "      <td>0.000</td>\n",
       "      <td>0.000</td>\n",
       "      <td>0.000</td>\n",
       "    </tr>\n",
       "    <tr>\n",
       "      <th>key</th>\n",
       "      <td>0.000</td>\n",
       "      <td>0.000</td>\n",
       "      <td>0.000</td>\n",
       "    </tr>\n",
       "    <tr>\n",
       "      <th>value</th>\n",
       "      <td>0.005</td>\n",
       "      <td>0.111</td>\n",
       "      <td>66.893</td>\n",
       "    </tr>\n",
       "    <tr>\n",
       "      <th>updated</th>\n",
       "      <td>0.000</td>\n",
       "      <td>0.000</td>\n",
       "      <td>0.000</td>\n",
       "    </tr>\n",
       "  </tbody>\n",
       "</table>\n",
       "</div>"
      ],
      "text/plain": [
       "          NULL   Zero  Empty_string\n",
       "id       0.000  0.000         0.000\n",
       "object   0.000  0.000         0.000\n",
       "key      0.000  0.000         0.000\n",
       "value    0.005  0.111        66.893\n",
       "updated  0.000  0.000         0.000"
      ]
     },
     "execution_count": 841,
     "metadata": {},
     "output_type": "execute_result"
    }
   ],
   "source": [
    "set_result_to_percent(eda_df_pandas)"
   ]
  },
  {
   "cell_type": "markdown",
   "id": "99ca0812",
   "metadata": {},
   "source": [
    "### SQL-instructions"
   ]
  },
  {
   "cell_type": "code",
   "execution_count": 842,
   "id": "3790ddd5",
   "metadata": {},
   "outputs": [
    {
     "name": "stderr",
     "output_type": "stream",
     "text": [
      "                                                                                \r"
     ]
    },
    {
     "name": "stdout",
     "output_type": "stream",
     "text": [
      "+------------------+\n",
      "|count(DISTINCT id)|\n",
      "+------------------+\n",
      "|8109002           |\n",
      "+------------------+\n",
      "\n"
     ]
    },
    {
     "name": "stderr",
     "output_type": "stream",
     "text": [
      "                                                                                \r"
     ]
    },
    {
     "name": "stdout",
     "output_type": "stream",
     "text": [
      "+----------------------+\n",
      "|count(DISTINCT object)|\n",
      "+----------------------+\n",
      "|177438                |\n",
      "+----------------------+\n",
      "\n"
     ]
    },
    {
     "name": "stderr",
     "output_type": "stream",
     "text": [
      "                                                                                \r"
     ]
    },
    {
     "name": "stdout",
     "output_type": "stream",
     "text": [
      "+-------------------+\n",
      "|count(DISTINCT key)|\n",
      "+-------------------+\n",
      "|47                 |\n",
      "+-------------------+\n",
      "\n"
     ]
    },
    {
     "name": "stderr",
     "output_type": "stream",
     "text": [
      "                                                                                \r"
     ]
    },
    {
     "name": "stdout",
     "output_type": "stream",
     "text": [
      "+---------------------+\n",
      "|count(DISTINCT value)|\n",
      "+---------------------+\n",
      "|242419               |\n",
      "+---------------------+\n",
      "\n"
     ]
    },
    {
     "name": "stderr",
     "output_type": "stream",
     "text": [
      "[Stage 46:======================================================> (30 + 1) / 31]\r"
     ]
    },
    {
     "name": "stdout",
     "output_type": "stream",
     "text": [
      "+-----------------------+\n",
      "|count(DISTINCT updated)|\n",
      "+-----------------------+\n",
      "|221735                 |\n",
      "+-----------------------+\n",
      "\n"
     ]
    },
    {
     "name": "stderr",
     "output_type": "stream",
     "text": [
      "                                                                                \r"
     ]
    }
   ],
   "source": [
    "#Find dupes or misunderstanding or useless static values 3 244 006 total\n",
    "for col in eda_df.columns:\n",
    "    execute(\"select count(distinct(\"+ col + \")) from eda_sql\")"
   ]
  },
  {
   "cell_type": "code",
   "execution_count": 843,
   "id": "57e5d03f",
   "metadata": {},
   "outputs": [],
   "source": [
    "def execute_template(column: str ='id') -> object:\n",
    "    \"\"\"\n",
    "    Method to execute and show the result of your SQL-instruction\n",
    "    :default -> \"ID incl.\"\n",
    "    :param :string select_instruction: column name\n",
    "    :return: result of the SQL-operation as a table\n",
    "    \"\"\"\n",
    "    print(execute(\"SELECT DISTINCT(\" + column + \")\\\n",
    "                FROM eda_sql\\\n",
    "                WHERE 1 = 1 \\\n",
    "                ORDER BY \" + column + \" DESC\"))\n",
    "    return execute(\"SELECT DISTINCT(\" + column + \")\\\n",
    "                    FROM eda_sql\\\n",
    "                    WHERE 1 = 1 \\\n",
    "                    ORDER BY \" + column + \" ASC\")"
   ]
  },
  {
   "cell_type": "code",
   "execution_count": 844,
   "id": "87c1d8d8",
   "metadata": {},
   "outputs": [
    {
     "name": "stderr",
     "output_type": "stream",
     "text": [
      "                                                                                \r"
     ]
    },
    {
     "name": "stdout",
     "output_type": "stream",
     "text": [
      "+-------+\n",
      "|id     |\n",
      "+-------+\n",
      "|9999999|\n",
      "|9999998|\n",
      "|9999997|\n",
      "|9999996|\n",
      "|9999995|\n",
      "|9999994|\n",
      "|9999993|\n",
      "|9999992|\n",
      "|9999991|\n",
      "|9999990|\n",
      "|999999 |\n",
      "|9999989|\n",
      "|9999988|\n",
      "|9999987|\n",
      "|9999986|\n",
      "|9999985|\n",
      "|9999984|\n",
      "|9999983|\n",
      "|9999982|\n",
      "|9999981|\n",
      "+-------+\n",
      "only showing top 20 rows\n",
      "\n",
      "None\n"
     ]
    },
    {
     "name": "stderr",
     "output_type": "stream",
     "text": [
      "                                                                                \r"
     ]
    },
    {
     "name": "stdout",
     "output_type": "stream",
     "text": [
      "+--------+\n",
      "|id      |\n",
      "+--------+\n",
      "|10000   |\n",
      "|100000  |\n",
      "|1000000 |\n",
      "|10000000|\n",
      "|10000001|\n",
      "|10000002|\n",
      "|10000003|\n",
      "|10000004|\n",
      "|10000005|\n",
      "|10000006|\n",
      "|10000007|\n",
      "|10000008|\n",
      "|10000009|\n",
      "|1000001 |\n",
      "|10000010|\n",
      "|10000011|\n",
      "|10000012|\n",
      "|10000013|\n",
      "|10000014|\n",
      "|10000015|\n",
      "+--------+\n",
      "only showing top 20 rows\n",
      "\n"
     ]
    },
    {
     "name": "stderr",
     "output_type": "stream",
     "text": [
      "                                                                                \r"
     ]
    },
    {
     "name": "stdout",
     "output_type": "stream",
     "text": [
      "+------+\n",
      "|object|\n",
      "+------+\n",
      "|99999 |\n",
      "|99998 |\n",
      "|99997 |\n",
      "|99996 |\n",
      "|99995 |\n",
      "|99994 |\n",
      "|99993 |\n",
      "|99992 |\n",
      "|99991 |\n",
      "|99990 |\n",
      "|9999  |\n",
      "|99989 |\n",
      "|99988 |\n",
      "|99987 |\n",
      "|99986 |\n",
      "|99985 |\n",
      "|99984 |\n",
      "|99983 |\n",
      "|99982 |\n",
      "|99981 |\n",
      "+------+\n",
      "only showing top 20 rows\n",
      "\n",
      "None\n"
     ]
    },
    {
     "name": "stderr",
     "output_type": "stream",
     "text": [
      "                                                                                \r"
     ]
    },
    {
     "name": "stdout",
     "output_type": "stream",
     "text": [
      "+------+\n",
      "|object|\n",
      "+------+\n",
      "|100   |\n",
      "|1000  |\n",
      "|10000 |\n",
      "|100000|\n",
      "|100001|\n",
      "|100002|\n",
      "|100003|\n",
      "|100004|\n",
      "|100005|\n",
      "|100006|\n",
      "|100007|\n",
      "|100008|\n",
      "|100009|\n",
      "|10001 |\n",
      "|100010|\n",
      "|100011|\n",
      "|100012|\n",
      "|100013|\n",
      "|100014|\n",
      "|100015|\n",
      "+------+\n",
      "only showing top 20 rows\n",
      "\n"
     ]
    },
    {
     "name": "stderr",
     "output_type": "stream",
     "text": [
      "                                                                                \r"
     ]
    },
    {
     "name": "stdout",
     "output_type": "stream",
     "text": [
      "+-------------------------------------------------------------------------------------------------------+\n",
      "|key                                                                                                    |\n",
      "+-------------------------------------------------------------------------------------------------------+\n",
      "|Этаж(и), на котором(ых) расположено помещение                                                          |\n",
      "|Уровень отделки                                                                                        |\n",
      "|Улица_название                                                                                         |\n",
      "|Улица                                                                                                  |\n",
      "|Строительный номер объекта долевого участия в многоквартирном доме                                     |\n",
      "|Строение_название                                                                                      |\n",
      "|Строение селектор значение                                                                             |\n",
      "|Строение селектор                                                                                      |\n",
      "|Строение                                                                                               |\n",
      "|Секция или строительный номер многоквартирного дома, в котором расположен объект долевого строительства|\n",
      "|Сведения о праве на отчуждаемый объект недвижимости                                                    |\n",
      "|Регион_название                                                                                        |\n",
      "|Регион                                                                                                 |\n",
      "|Район_название                                                                                         |\n",
      "|Район                                                                                                  |\n",
      "|Разрешенное использование                                                                              |\n",
      "|Проектная площадь по внутреннему обмеру с учетом лоджий, балконов и веранд                             |\n",
      "|Проектная площадь по внутреннему обмеру без учета лоджий, балконов и веранд                            |\n",
      "|Проектная жилая площадь по внутреннему обмеру                                                          |\n",
      "|Проектируемое назначение здания, сооружения, строительство которых не завершено                        |\n",
      "+-------------------------------------------------------------------------------------------------------+\n",
      "only showing top 20 rows\n",
      "\n",
      "None\n"
     ]
    },
    {
     "name": "stderr",
     "output_type": "stream",
     "text": [
      "                                                                                \r"
     ]
    },
    {
     "name": "stdout",
     "output_type": "stream",
     "text": [
      "+---------------------------------------------------------------------------------------------------------------+\n",
      "|key                                                                                                            |\n",
      "+---------------------------------------------------------------------------------------------------------------+\n",
      "|Адрес прочее                                                                                                   |\n",
      "|Вид                                                                                                            |\n",
      "|Вид использования земель                                                                                       |\n",
      "|Гарантийный срок на объект долевого строительства                                                              |\n",
      "|Гарантийный срок на технологическое и инженерное оборудование, входящее в состав объекта долевого строительства|\n",
      "|Жилая площадь по внутреннему обмеру                                                                            |\n",
      "|Индекс                                                                                                         |\n",
      "|Кадастровая стоимость                                                                                          |\n",
      "|Кадастровая стоимость коп                                                                                      |\n",
      "|Категории земель                                                                                               |\n",
      "|Качество квартиры                                                                                              |\n",
      "|Количество комнат в квартире                                                                                   |\n",
      "|Количество этажей, в том числе подземных                                                                       |\n",
      "|Материал стен многоквартирного дома                                                                            |\n",
      "|Назначение                                                                                                     |\n",
      "|Наименование                                                                                                   |\n",
      "|Населенный пункт                                                                                               |\n",
      "|Населенный пункт_название                                                                                      |\n",
      "|Незавершенное строительство значение                                                                           |\n",
      "|Незавершенное строительство селектор                                                                           |\n",
      "+---------------------------------------------------------------------------------------------------------------+\n",
      "only showing top 20 rows\n",
      "\n"
     ]
    },
    {
     "name": "stderr",
     "output_type": "stream",
     "text": [
      "                                                                                \r"
     ]
    },
    {
     "name": "stdout",
     "output_type": "stream",
     "text": [
      "+-------------------------------------------------------------------------------------------------------------------------------------------------------------------------------------------------------------------------------------------------------------------------------------------------------------------------------------------------------------------------------------------------------------------------------------------+\n",
      "|value                                                                                                                                                                                                                                                                                                                                                                                                                                      |\n",
      "+-------------------------------------------------------------------------------------------------------------------------------------------------------------------------------------------------------------------------------------------------------------------------------------------------------------------------------------------------------------------------------------------------------------------------------------------+\n",
      "|№№29,30,31,32,33,34,35                                                                                                                                                                                                                                                                                                                                                                                                                     |\n",
      "|№№ на поэтажном плане: 2, 4-9а, 10-12                                                                                                                                                                                                                                                                                                                                                                                                      |\n",
      "|№№ 50:55:0000000:50907-50/027/2019-3 от 16.01.2019-3 (Собственность)                                                                                                                                                                                                                                                                                                                                                                       |\n",
      "|№№ 50:28:0050307:21-50/028/2018-1  от 19.10.2018  (Собственность)                                                                                                                                                                                                                                                                                                                                                                          |\n",
      "|№№ 50:27:0000000:109850-77/017/2017-5  от 13.02.2017  (Общая долевая собственность)\\t  № 50:27:0000000:109850-77/017/2017-4  от 13.02.2017  (Общая долевая собственность)\\t  № 50:27:0000000:109850-77/017/2017-3  от 13.02.2017  (Общая долевая собственность)\\t  № 50:27:0000000:109850-77/017/2017-6  от 13.02.2017  (Общая долевая собственность)\\t  № 50:27:0000000:109850-77/017/2017-2  от 13.02.2017  (Общая долевая собственность)|\n",
      "|№№ 50-50-55/053/2005-44  от 29.11.2005  (Общая долевая собственность)\\t  № 50-50-55/053/2005-44  от 29.11.2005  (Общая долевая собственность)                                                                                                                                                                                                                                                                                              |\n",
      "|№№ 29:22:081004:376-29/001/2018-6, 29:22:081004:376-29/001/2018-4 от 19.04.2018 (Общая долевая собственность)                                                                                                                                                                                                                                                                                                                              |\n",
      "|№№ 18, 19, 20, 21, 22, 24, 26, 27, 28, 29                                                                                                                                                                                                                                                                                                                                                                                                  |\n",
      "|№№ 1-13                                                                                                                                                                                                                                                                                                                                                                                                                                    |\n",
      "|№цокольный, Этаж №1                                                                                                                                                                                                                                                                                                                                                                                                                        |\n",
      "|№на п/пл 4,5,6                                                                                                                                                                                                                                                                                                                                                                                                                             |\n",
      "|№б/н (Цокольный этаж)                                                                                                                                                                                                                                                                                                                                                                                                                      |\n",
      "|№Общая долевая собственность № 02-04-13/017/2013-802 от 10.07.2013 Общая долевая собственность № 02-04-13/017/2013-802 от 10.07.2013 Общая долевая собственность № 02-04-13/017/2013-802 от 10.07.2013 Общая долевая собственность № 02-04-13/017/2013-802 от 10.07.2013                                                                                                                                                                   |\n",
      "|№БФ-3-2-1                                                                                                                                                                                                                                                                                                                                                                                                                                  |\n",
      "|№:76:23:061203:200-76/097/2020-4                                                                                                                                                                                                                                                                                                                                                                                                           |\n",
      "|№9                                                                                                                                                                                                                                                                                                                                                                                                                                         |\n",
      "|№87                                                                                                                                                                                                                                                                                                                                                                                                                                        |\n",
      "|№867                                                                                                                                                                                                                                                                                                                                                                                                                                       |\n",
      "|№86-86-02/030/2014-862 (Собственность)                                                                                                                                                                                                                                                                                                                                                                                                     |\n",
      "|№86-01/03-22/2004-217/03 от 13.08.2004 (Общая долевая собственность), №86-01/03-22/2004-217/01 от 13.08.2004 (Общая долевая собственность), №86-01/03-22/2004-217/02 от 13.08.2004 (Общая долевая собственность)                                                                                                                                                                                                                           |\n",
      "+-------------------------------------------------------------------------------------------------------------------------------------------------------------------------------------------------------------------------------------------------------------------------------------------------------------------------------------------------------------------------------------------------------------------------------------------+\n",
      "only showing top 20 rows\n",
      "\n",
      "None\n"
     ]
    },
    {
     "name": "stderr",
     "output_type": "stream",
     "text": [
      "                                                                                \r"
     ]
    },
    {
     "name": "stdout",
     "output_type": "stream",
     "text": [
      "+-----------------------------------------------------------------------------------------------------------------------------------------------------------+\n",
      "|value                                                                                                                                                      |\n",
      "+-----------------------------------------------------------------------------------------------------------------------------------------------------------+\n",
      "|null                                                                                                                                                       |\n",
      "|                                                                                                                                                           |\n",
      "|\\t                                                                                                                                                         |\n",
      "|\\t\\tЗдание (Нежилое здание, Жилое строение без права регистрации проживания, расположенное на садовом земельном участке)                                   |\n",
      "|\\t\\r\\n                                                                                                                                                     |\n",
      "|\\t  № 23-23-37/006/2009-550  от 27.04.2009  (1/24 общей долевой собственности) № 23-23-37/2005/2014-267  от 03.04.2014  ( 1/24 общей долевой собственности)|\n",
      "|\\t  № 23-23/037-23/037/600/2015-255/1  от 30.01.2015  (1/2 от общей долевой собственности)                                                                 |\n",
      "|\\t  № 29-29/006-29/006/033/2016-64/4  от 25.05.2016  (Общая долевая собственность, 400/1100)                                                               |\n",
      "|\\t  № 50-50-61/011/2014-391  от 11.03.2014 \\t  № 50:12:0100805:2293-50/001/2018-3  от 11.12.2018                                                           |\n",
      "|\\t Право собственности №73:24:021011:43-73/049/2020-340 от 05.02.2020                                                                                      |\n",
      "|\\t р-н Орехово-Зуевский, с/т \"Вертолет\", южнее пос. Мисцево, участок 719                                                                                   |\n",
      "|\\t № 02-04-10/001/2011-193  от 14.03.2011  (Аренда)                                                                                                        |\n",
      "|\\t № 21:17:000000:2104-21/042/2020-25  от 17.06.2020  (Собственность),  № 21-21-07/003/2013-353  от 22.02.2013  (Аренда (в том числе, субаренда))          |\n",
      "|\\t № 22-22-01/081/2010-198  от 01.06.2010  (общая долевая собственность)                                                                                   |\n",
      "|\\t № 32-32-16/006/2011-046  от 07.11.2011  (Общая долевая собственность)                                                                                   |\n",
      "|\\t № 58-58-37/001/2012-204  от 20.09.2012  (Аренда (в том числе, субаренда))                                                                               |\n",
      "|\\t № 72-72-04/038/2013-085  от 27.05.2013  (Аренда)                                                                                                        |\n",
      "|\\t1                                                                                                                                                        |\n",
      "|\\t1 (Антресоль)                                                                                                                                            |\n",
      "|\\t1 (Мансарда)                                                                                                                                             |\n",
      "+-----------------------------------------------------------------------------------------------------------------------------------------------------------+\n",
      "only showing top 20 rows\n",
      "\n"
     ]
    },
    {
     "name": "stderr",
     "output_type": "stream",
     "text": [
      "                                                                                \r"
     ]
    },
    {
     "name": "stdout",
     "output_type": "stream",
     "text": [
      "+--------------------+\n",
      "|updated             |\n",
      "+--------------------+\n",
      "|2022-10-26T15:46:51Z|\n",
      "|2022-10-26T15:46:50Z|\n",
      "|2022-10-26T15:43:58Z|\n",
      "|2022-10-26T15:20:52Z|\n",
      "|2022-10-26T15:19:20Z|\n",
      "|2022-10-26T15:19:19Z|\n",
      "|2022-10-26T15:14:56Z|\n",
      "|2022-10-26T15:14:55Z|\n",
      "|2022-10-26T15:01:40Z|\n",
      "|2022-10-26T14:57:42Z|\n",
      "|2022-10-26T14:54:45Z|\n",
      "|2022-10-26T14:53:00Z|\n",
      "|2022-10-26T14:50:03Z|\n",
      "|2022-10-26T14:38:15Z|\n",
      "|2022-10-26T14:34:13Z|\n",
      "|2022-10-26T14:34:02Z|\n",
      "|2022-10-26T14:32:28Z|\n",
      "|2022-10-26T14:29:17Z|\n",
      "|2022-10-26T14:11:15Z|\n",
      "|2022-10-26T14:03:38Z|\n",
      "+--------------------+\n",
      "only showing top 20 rows\n",
      "\n",
      "None\n"
     ]
    },
    {
     "name": "stderr",
     "output_type": "stream",
     "text": [
      "[Stage 79:======================================================> (30 + 1) / 31]\r"
     ]
    },
    {
     "name": "stdout",
     "output_type": "stream",
     "text": [
      "+--------------------+\n",
      "|updated             |\n",
      "+--------------------+\n",
      "|2017-01-28T08:52:52Z|\n",
      "|2017-01-30T02:48:23Z|\n",
      "|2017-01-30T06:09:13Z|\n",
      "|2017-01-30T06:31:35Z|\n",
      "|2017-01-30T08:29:25Z|\n",
      "|2017-01-30T08:46:27Z|\n",
      "|2017-01-31T02:34:27Z|\n",
      "|2017-01-31T04:38:28Z|\n",
      "|2017-02-01T07:42:02Z|\n",
      "|2017-02-04T04:36:58Z|\n",
      "|2017-02-06T13:21:21Z|\n",
      "|2017-02-06T13:21:22Z|\n",
      "|2017-02-07T03:15:31Z|\n",
      "|2017-02-07T06:44:22Z|\n",
      "|2017-02-08T05:55:03Z|\n",
      "|2017-02-08T11:09:07Z|\n",
      "|2017-02-08T11:10:39Z|\n",
      "|2017-02-09T11:15:25Z|\n",
      "|2017-02-13T07:27:32Z|\n",
      "|2017-02-13T09:52:09Z|\n",
      "+--------------------+\n",
      "only showing top 20 rows\n",
      "\n"
     ]
    },
    {
     "name": "stderr",
     "output_type": "stream",
     "text": [
      "                                                                                \r"
     ]
    }
   ],
   "source": [
    "#Find dupes or misunderstanding or useless static values 3 244 006 total\n",
    "for col in eda_df.columns:\n",
    "    execute_template(col)"
   ]
  },
  {
   "cell_type": "markdown",
   "id": "a34abecb",
   "metadata": {},
   "source": [
    "## Bonus"
   ]
  },
  {
   "cell_type": "markdown",
   "id": "83df95a9",
   "metadata": {},
   "source": [
    "### 2nd solution (Cycle and variables)\n",
    "#### Slower but more simple and has more readability than the previous method "
   ]
  },
  {
   "cell_type": "markdown",
   "id": "19b4d65b",
   "metadata": {},
   "source": [
    "### Create the list of variables to re-use if needed"
   ]
  },
  {
   "cell_type": "code",
   "execution_count": null,
   "id": "c4b8e5d6",
   "metadata": {},
   "outputs": [],
   "source": [
    "useless_columns = []\n",
    "null_values = []\n",
    "zero_values = []\n",
    "empty_string = []\n",
    "col_name = []"
   ]
  },
  {
   "cell_type": "code",
   "execution_count": null,
   "id": "82a51d3d",
   "metadata": {},
   "outputs": [],
   "source": [
    "for col in eda_df.columns:\n",
    "    null = round((eda_df.filter(eda_df[col].isNull()).count()/eda_df.count())*100, 3)\n",
    "    zero = round(eda_df.filter(eda_df[col]==0).count()/eda_df.count()*100, 3)\n",
    "    empty = round(eda_df.filter(eda_df[col]=='').count()/eda_df.count()*100, 3)\n",
    "    if null in [0, 100] and zero in [0, 100] and empty in [0, 100]:\n",
    "        useless_columns.append(col)\n",
    "        continue\n",
    "    null_values.append(null)\n",
    "    zero_values.append(zero)\n",
    "    empty_string.append(empty)\n",
    "    col_name.append(col)"
   ]
  },
  {
   "cell_type": "code",
   "execution_count": null,
   "id": "6b405596",
   "metadata": {},
   "outputs": [],
   "source": [
    "zipped = list(zip(null_values, zero_values, empty_string))\n",
    "eda_df_pandas2 = pd.DataFrame(zipped, index=col_name, columns=['NULL', 'Zero', 'Empty'])\n",
    "eda_df_pandas2"
   ]
  },
  {
   "cell_type": "markdown",
   "id": "16caef6a",
   "metadata": {},
   "source": [
    "### Remove useless columns"
   ]
  },
  {
   "cell_type": "code",
   "execution_count": null,
   "id": "c1ea0350",
   "metadata": {},
   "outputs": [],
   "source": [
    "eda_df = eda_df.drop(*useless_columns)"
   ]
  },
  {
   "cell_type": "code",
   "execution_count": null,
   "id": "c8306999",
   "metadata": {},
   "outputs": [],
   "source": [
    "pd.DataFrame(eda_df.dtypes, columns = ['Column Name','Data type'])"
   ]
  },
  {
   "cell_type": "code",
   "execution_count": 826,
   "id": "89b3aa90",
   "metadata": {},
   "outputs": [
    {
     "name": "stderr",
     "output_type": "stream",
     "text": [
      "I1120 02:27:28.831347 10390 sched.cpp:2174] Asked to stop the driver\n",
      "I1120 02:27:28.831444 10550 sched.cpp:1207] Stopping framework 89161c75-8817-4ae4-ab24-cba26241d6f9-75626\n"
     ]
    }
   ],
   "source": [
    "spark.stop()"
   ]
  },
  {
   "cell_type": "code",
   "execution_count": null,
   "id": "063105aa",
   "metadata": {},
   "outputs": [],
   "source": []
  }
 ],
 "metadata": {
  "kernelspec": {
   "display_name": "jupyter_P24",
   "language": "python",
   "name": "jupyter_p24"
  },
  "language_info": {
   "codemirror_mode": {
    "name": "ipython",
    "version": 3
   },
   "file_extension": ".py",
   "mimetype": "text/x-python",
   "name": "python",
   "nbconvert_exporter": "python",
   "pygments_lexer": "ipython3",
   "version": "3.9.13"
  }
 },
 "nbformat": 4,
 "nbformat_minor": 5
}
