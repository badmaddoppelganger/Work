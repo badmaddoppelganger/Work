{
 "cells": [
  {
   "cell_type": "markdown",
   "id": "93ca94f4",
   "metadata": {},
   "source": [
    "# Tech Intro"
   ]
  },
  {
   "cell_type": "markdown",
   "id": "2fce20ac",
   "metadata": {},
   "source": [
    "## Main tables"
   ]
  },
  {
   "cell_type": "code",
   "execution_count": 789,
   "id": "e46f86d7",
   "metadata": {},
   "outputs": [],
   "source": [
    "# Real Estate's objects\n",
    "real_estate_list: list = [\n",
    "    'ag_object',\n",
    "    'ag_parse_ad',\n",
    "    'ag_lead_object',\n",
    "    'ag_presentation_object',\n",
    "    'ag_object_platform',\n",
    "    'ag_posting_ad_realty',\n",
    "    'native_realty_filial',\n",
    "    'foreign_realty_filial',\n",
    "    'spr_metro',\n",
    "    'spr_metro_connection',\n",
    "    'ag_object_parking']\n",
    "# Lead's objects\n",
    "lead_list: list = [\n",
    "    'leads',\n",
    "    'lead_utm',\n",
    "    'client_wishes',\n",
    "    'leads_email_order',\n",
    "    'request_from_site',\n",
    "    'lead_finance',\n",
    "    'leads_source_spr',\n",
    "    'leads_calls_connection',\n",
    "    'leads_pipeline',\n",
    "    'leads_not_implemented_reason',\n",
    "    'leads_status',\n",
    "    'ag_pipeline',\n",
    "    'ag_pipeline_status',\n",
    "    'leads_meta',\n",
    "    'leads_meta_fields',\n",
    "    'leads_meta_group',\n",
    "    'leads_contacts_connect',\n",
    "    'leads_contact',\n",
    "    'leads_contact_meta',\n",
    "    'leads_contact_meta_fields']\n",
    "# Deal's objects\n",
    "deal_list: list = [\n",
    "    # Deal\n",
    "    'a_deal',\n",
    "    'a_deal_meta',\n",
    "    'deal_passport',\n",
    "    'a_deal_finance',\n",
    "    'a_deal_check',\n",
    "    'a_deal_test',\n",
    "    # Contractor\n",
    "    'a_contractor',\n",
    "    'a_contractor_meta',\n",
    "    'a_deal_contractor',\n",
    "    'a_deal_contractor_meta',\n",
    "    # Object\n",
    "    'a_object',\n",
    "    'a_object_meta',\n",
    "    'a_deal_object']"
   ]
  },
  {
   "cell_type": "markdown",
   "id": "86c6ee69",
   "metadata": {},
   "source": [
    "## Main Variables"
   ]
  },
  {
   "cell_type": "code",
   "execution_count": 790,
   "id": "f9fb4d41",
   "metadata": {},
   "outputs": [],
   "source": [
    "# Address and name of your notebook\n",
    "venv_path = \"/home/bigdata/a.umarov/jupyter_P24\"\n",
    "# Exploratory Data Analysis(EDA) table (eda_table)\n",
    "eda_table = deal_list[10] # You can generate full-EDA cycle if you want through the all of tables\n",
    "                                # Just iterate it !\n",
    "# Exploratory Data Analysis(EDA) obj as PySpark DataFrame\n",
    "eda_df = None\n",
    "# Set the date of checking\n",
    "sample_data_date = '20221027'"
   ]
  },
  {
   "cell_type": "markdown",
   "id": "79cec746",
   "metadata": {},
   "source": [
    "## Useful command and modules (can be transform into the 'importlib'- smart import logic)"
   ]
  },
  {
   "cell_type": "code",
   "execution_count": 791,
   "id": "19563688",
   "metadata": {},
   "outputs": [
    {
     "name": "stderr",
     "output_type": "stream",
     "text": [
      "W1120 02:21:29.993331 10390 process.cpp:2877] Attempted to spawn already running process version@10.62.4.11:44708\n",
      "I1120 02:21:29.994007 44470 sched.cpp:241] Version: 1.11.0\n",
      "I1120 02:21:29.994235 10544 sched.cpp:345] New master detected at master@10.62.4.8:5050\n",
      "I1120 02:21:29.994309 10544 sched.cpp:365] No credentials provided. Attempting to register without authentication\n",
      "I1120 02:21:29.995682 10542 sched.cpp:753] Framework registered with 89161c75-8817-4ae4-ab24-cba26241d6f9-75625\n",
      "22/11/20 02:21:30 WARN HttpChannel: /jobs/\n",
      "java.util.NoSuchElementException: Failed to get the application information. If you are starting up Spark, please wait a while until it's ready.\n",
      "\tat org.apache.spark.status.AppStatusStore.applicationInfo(AppStatusStore.scala:51)\n",
      "\tat org.apache.spark.ui.jobs.AllJobsPage.render(AllJobsPage.scala:276)\n",
      "\tat org.apache.spark.ui.WebUI.$anonfun$attachPage$1(WebUI.scala:90)\n",
      "\tat org.apache.spark.ui.JettyUtils$$anon$1.doGet(JettyUtils.scala:81)\n",
      "\tat javax.servlet.http.HttpServlet.service(HttpServlet.java:503)\n",
      "\tat javax.servlet.http.HttpServlet.service(HttpServlet.java:590)\n",
      "\tat org.sparkproject.jetty.servlet.ServletHolder.handle(ServletHolder.java:799)\n",
      "\tat org.sparkproject.jetty.servlet.ServletHandler$ChainEnd.doFilter(ServletHandler.java:1626)\n",
      "\tat org.apache.spark.ui.HttpSecurityFilter.doFilter(HttpSecurityFilter.scala:95)\n",
      "\tat org.sparkproject.jetty.servlet.FilterHolder.doFilter(FilterHolder.java:193)\n",
      "\tat org.sparkproject.jetty.servlet.ServletHandler$Chain.doFilter(ServletHandler.java:1601)\n",
      "\tat org.sparkproject.jetty.servlet.ServletHandler.doHandle(ServletHandler.java:548)\n",
      "\tat org.sparkproject.jetty.server.handler.ScopedHandler.nextHandle(ScopedHandler.java:233)\n",
      "\tat org.sparkproject.jetty.server.handler.ContextHandler.doHandle(ContextHandler.java:1434)\n",
      "\tat org.sparkproject.jetty.server.handler.ScopedHandler.nextScope(ScopedHandler.java:188)\n",
      "\tat org.sparkproject.jetty.servlet.ServletHandler.doScope(ServletHandler.java:501)\n",
      "\tat org.sparkproject.jetty.server.handler.ScopedHandler.nextScope(ScopedHandler.java:186)\n",
      "\tat org.sparkproject.jetty.server.handler.ContextHandler.doScope(ContextHandler.java:1349)\n",
      "\tat org.sparkproject.jetty.server.handler.ScopedHandler.handle(ScopedHandler.java:141)\n",
      "\tat org.sparkproject.jetty.server.handler.gzip.GzipHandler.handle(GzipHandler.java:763)\n",
      "\tat org.sparkproject.jetty.server.handler.ContextHandlerCollection.handle(ContextHandlerCollection.java:234)\n",
      "\tat org.sparkproject.jetty.server.handler.HandlerWrapper.handle(HandlerWrapper.java:127)\n",
      "\tat org.sparkproject.jetty.server.Server.handle(Server.java:516)\n",
      "\tat org.sparkproject.jetty.server.HttpChannel.lambda$handle$1(HttpChannel.java:388)\n",
      "\tat org.sparkproject.jetty.server.HttpChannel.dispatch(HttpChannel.java:633)\n",
      "\tat org.sparkproject.jetty.server.HttpChannel.handle(HttpChannel.java:380)\n",
      "\tat org.sparkproject.jetty.server.HttpConnection.onFillable(HttpConnection.java:277)\n",
      "\tat org.sparkproject.jetty.io.AbstractConnection$ReadCallback.succeeded(AbstractConnection.java:311)\n",
      "\tat org.sparkproject.jetty.io.FillInterest.fillable(FillInterest.java:105)\n",
      "\tat org.sparkproject.jetty.io.ChannelEndPoint$1.run(ChannelEndPoint.java:104)\n",
      "\tat org.sparkproject.jetty.util.thread.strategy.EatWhatYouKill.runTask(EatWhatYouKill.java:338)\n",
      "\tat org.sparkproject.jetty.util.thread.strategy.EatWhatYouKill.doProduce(EatWhatYouKill.java:315)\n",
      "\tat org.sparkproject.jetty.util.thread.strategy.EatWhatYouKill.tryProduce(EatWhatYouKill.java:173)\n",
      "\tat org.sparkproject.jetty.util.thread.strategy.EatWhatYouKill.produce(EatWhatYouKill.java:137)\n",
      "\tat org.sparkproject.jetty.util.thread.QueuedThreadPool.runJob(QueuedThreadPool.java:883)\n",
      "\tat org.sparkproject.jetty.util.thread.QueuedThreadPool$Runner.run(QueuedThreadPool.java:1034)\n",
      "\tat java.lang.Thread.run(Thread.java:748)\n"
     ]
    }
   ],
   "source": [
    "import os\n",
    "import pandas as pd\n",
    "# To data analyze need the module\n",
    "import pyspark.pandas as ps\n",
    "os.environ[\"PYSPARK_PYTHON\"] = f\"{venv_path}/bin/python3\"\n",
    "os.environ[\"PYSPARK_DRIVER_PYTHON\"] = f\"{venv_path}/bin/python3\"\n",
    "\n",
    "import findspark\n",
    "findspark.init(\"/opt/dev/spark/spark\")\n",
    " \n",
    "from pyspark import SparkContext, SparkConf\n",
    "from pyspark.sql import SparkSession, SQLContext, DataFrameNaFunctions, \\\n",
    "                        Window, DataFrame, DataFrameStatFunctions, \\\n",
    "                        Column, Row, GroupedData, functions, types\n",
    "from pyspark.sql.functions import isnan, when, count, col\n",
    "\n",
    "\n",
    "conf = SparkConf().setAppName(\"get_info_from_\" + eda_table + \"_table\")\n",
    "sc = SparkContext(conf=conf)\n",
    "sc.setLogLevel(\"ERROR\")\n",
    "spark = SparkSession(sc)"
   ]
  },
  {
   "cell_type": "markdown",
   "id": "025c6aa9",
   "metadata": {},
   "source": [
    "## Read the spec-file from Hadoop and show some data sample"
   ]
  },
  {
   "cell_type": "code",
   "execution_count": 792,
   "id": "578e3061",
   "metadata": {
    "scrolled": true
   },
   "outputs": [
    {
     "name": "stderr",
     "output_type": "stream",
     "text": [
      "[Stage 1:>                                                          (0 + 1) / 1]\r"
     ]
    },
    {
     "name": "stdout",
     "output_type": "stream",
     "text": [
      "+------+-------------------+----+----+-------+---------+----------+--------------------------------------------------------------------------------------+---+\n",
      "|id    |cad                |type|deal|deleted|filial_id|black_list|full_address                                                                          |lot|\n",
      "+------+-------------------+----+----+-------+---------+----------+--------------------------------------------------------------------------------------+---+\n",
      "|100002|73:24:040303:3462  |0   |0   |0      |28       |0         |Ульяновская, Ульяновск, Архитекторов 9 корп. 2, 4                                     |   |\n",
      "|10001 |02:55:010601:394   |0   |0   |0      |1        |0         |Башкортостан, Уфа, Достоевского 99, 42                                                |   |\n",
      "|10002 |02:55:010601:815   |0   |0   |0      |1        |0         |Башкортостан, Уфа, Достоевского 101, 6                                                |   |\n",
      "|100024|72:24:0304013:5469 |0   |0   |0      |22       |0         |Тюменская, Тобольск, 10 65, 14                                                        |   |\n",
      "|100028|42:24:0101002:21135|0   |0   |0      |53       |0         |Кемеровская, Кемерово, Ленина д. 14, 4                                                |   |\n",
      "|10004 |02:55:010817:352   |0   |0   |0      |1        |0         |Башкортостан, Уфа, Кавказкая 8/8, 2                                                   |   |\n",
      "|100040|72:08:1301002:174  |0   |0   |0      |22       |0         |Тюменская, Старая Заимка, Клубная, 8/1                                                |   |\n",
      "|100066|                   |0   |0   |0      |43       |0         |Астраханская область , Астрахань, Власова/Ген. Епишева  2/18, пом. 144 , корп. комн. 2|   |\n",
      "|100077|44:27:020331:228   |0   |0   |0      |62       |0         |Костромская, Кострома, Сплавщиков 3, 2                                                |   |\n",
      "|100085|                   |0   |0   |0      |43       |0         |Астраханская область , Астрахань, Товарищеская 19А                                    |   |\n",
      "+------+-------------------+----+----+-------+---------+----------+--------------------------------------------------------------------------------------+---+\n",
      "only showing top 10 rows\n",
      "\n"
     ]
    },
    {
     "name": "stderr",
     "output_type": "stream",
     "text": [
      "                                                                                \r"
     ]
    }
   ],
   "source": [
    "eda_df = spark.read.parquet(\"/prod/source/p24/\" + eda_table + \"/datekey=\" + sample_data_date)\n",
    "eda_df.show(10, False)"
   ]
  },
  {
   "cell_type": "markdown",
   "id": "c62a4902",
   "metadata": {},
   "source": [
    "## Show columns' properties"
   ]
  },
  {
   "cell_type": "code",
   "execution_count": 793,
   "id": "f8ff7f9c",
   "metadata": {},
   "outputs": [
    {
     "name": "stdout",
     "output_type": "stream",
     "text": [
      "Data overview\n",
      "root\n",
      " |-- id: string (nullable = true)\n",
      " |-- cad: string (nullable = true)\n",
      " |-- type: string (nullable = true)\n",
      " |-- deal: string (nullable = true)\n",
      " |-- deleted: string (nullable = true)\n",
      " |-- filial_id: string (nullable = true)\n",
      " |-- black_list: string (nullable = true)\n",
      " |-- full_address: string (nullable = true)\n",
      " |-- lot: string (nullable = true)\n",
      "\n"
     ]
    }
   ],
   "source": [
    "print('Data overview')\n",
    "eda_df.printSchema()"
   ]
  },
  {
   "cell_type": "markdown",
   "id": "04bc5dc3",
   "metadata": {},
   "source": [
    "## Total rows (count)"
   ]
  },
  {
   "cell_type": "code",
   "execution_count": 794,
   "id": "d8a63c96",
   "metadata": {},
   "outputs": [
    {
     "name": "stderr",
     "output_type": "stream",
     "text": [
      "                                                                                \r"
     ]
    },
    {
     "data": {
      "text/plain": [
       "177439"
      ]
     },
     "execution_count": 794,
     "metadata": {},
     "output_type": "execute_result"
    }
   ],
   "source": [
    "eda_df.count()"
   ]
  },
  {
   "cell_type": "markdown",
   "id": "d6c93fce",
   "metadata": {},
   "source": [
    "## Simple func to execute and show the result of the SQL-instruction"
   ]
  },
  {
   "cell_type": "code",
   "execution_count": 795,
   "id": "29bbb505",
   "metadata": {},
   "outputs": [],
   "source": [
    "def execute(select_instruction: str = \"select count(*) from eda_sql\") -> object:\n",
    "    \"\"\"\n",
    "    Method to execute and show the result of your SQL-instruction\n",
    "    :default -> \"select count(*) from eda_sql\"\n",
    "    :param :string select_instruction: SQL statement\n",
    "    :return: result of the SQL-operation as a table\n",
    "    \"\"\"\n",
    "    return spark.sql(select_instruction).show(truncate = False)"
   ]
  },
  {
   "cell_type": "markdown",
   "id": "06551cc5",
   "metadata": {},
   "source": [
    "## Create the temp-table-view from the DF (called as \"eda_sql\")"
   ]
  },
  {
   "cell_type": "code",
   "execution_count": 796,
   "id": "673475aa",
   "metadata": {},
   "outputs": [],
   "source": [
    "eda_df.createOrReplaceTempView(\"eda_sql\")"
   ]
  },
  {
   "cell_type": "markdown",
   "id": "d98e84ed",
   "metadata": {},
   "source": [
    "## Check the method and temp-table"
   ]
  },
  {
   "cell_type": "code",
   "execution_count": 797,
   "id": "a2d571a0",
   "metadata": {},
   "outputs": [
    {
     "name": "stdout",
     "output_type": "stream",
     "text": [
      "+--------+\n",
      "|count(1)|\n",
      "+--------+\n",
      "|177439  |\n",
      "+--------+\n",
      "\n"
     ]
    }
   ],
   "source": [
    "execute(\"select count(*) from eda_sql\")"
   ]
  },
  {
   "cell_type": "markdown",
   "id": "baeadc7c",
   "metadata": {},
   "source": [
    "## Detect missing values and abnormal zeroes and print it"
   ]
  },
  {
   "cell_type": "markdown",
   "id": "69ed9472",
   "metadata": {},
   "source": [
    "###### Check-rule Matrix\n",
    "\n",
    "\n",
    "|  Name of the rule    |Available                   \n",
    "|----------------------|-------------------------|\n",
    "|NULL/NaN/NA           |+                        |\n",
    "|'Zero'-value          |+                        |\n",
    "|'Empty-string'        |+                        |"
   ]
  },
  {
   "cell_type": "markdown",
   "id": "8bfc12ee",
   "metadata": {},
   "source": [
    "### 1st solution (PySpark & Pandas version)\n",
    "#### Max perfomance but harder to read & understand"
   ]
  },
  {
   "cell_type": "markdown",
   "id": "ceb2d291",
   "metadata": {},
   "source": [
    "##### Filter and count after - all the values in the  our EDA-DF"
   ]
  },
  {
   "cell_type": "code",
   "execution_count": 798,
   "id": "a69cc029",
   "metadata": {},
   "outputs": [
    {
     "name": "stderr",
     "output_type": "stream",
     "text": [
      "                                                                                \r"
     ]
    },
    {
     "data": {
      "text/html": [
       "<div>\n",
       "<style scoped>\n",
       "    .dataframe tbody tr th:only-of-type {\n",
       "        vertical-align: middle;\n",
       "    }\n",
       "\n",
       "    .dataframe tbody tr th {\n",
       "        vertical-align: top;\n",
       "    }\n",
       "\n",
       "    .dataframe thead th {\n",
       "        text-align: right;\n",
       "    }\n",
       "</style>\n",
       "<table border=\"1\" class=\"dataframe\">\n",
       "  <thead>\n",
       "    <tr style=\"text-align: right;\">\n",
       "      <th></th>\n",
       "      <th>id</th>\n",
       "      <th>cad</th>\n",
       "      <th>type</th>\n",
       "      <th>deal</th>\n",
       "      <th>deleted</th>\n",
       "      <th>filial_id</th>\n",
       "      <th>black_list</th>\n",
       "      <th>full_address</th>\n",
       "      <th>lot</th>\n",
       "    </tr>\n",
       "  </thead>\n",
       "  <tbody>\n",
       "    <tr>\n",
       "      <th>0</th>\n",
       "      <td>0</td>\n",
       "      <td>0</td>\n",
       "      <td>0</td>\n",
       "      <td>0</td>\n",
       "      <td>0</td>\n",
       "      <td>55</td>\n",
       "      <td>0</td>\n",
       "      <td>7974</td>\n",
       "      <td>0</td>\n",
       "    </tr>\n",
       "  </tbody>\n",
       "</table>\n",
       "</div>"
      ],
      "text/plain": [
       "   id  cad  type  deal  deleted  filial_id  black_list  full_address  lot\n",
       "0   0    0     0     0        0         55           0          7974    0"
      ]
     },
     "execution_count": 798,
     "metadata": {},
     "output_type": "execute_result"
    }
   ],
   "source": [
    "# NULL/NaN/NA values condition\n",
    "eda_df_null_values = eda_df.select([count(when(isnan(c) | col(c).isNull(), c)).alias(c) \\\n",
    "                                    for c in eda_df.columns]).toPandas()\n",
    "eda_df_null_values"
   ]
  },
  {
   "cell_type": "code",
   "execution_count": 799,
   "id": "e08597da",
   "metadata": {},
   "outputs": [
    {
     "data": {
      "text/html": [
       "<div>\n",
       "<style scoped>\n",
       "    .dataframe tbody tr th:only-of-type {\n",
       "        vertical-align: middle;\n",
       "    }\n",
       "\n",
       "    .dataframe tbody tr th {\n",
       "        vertical-align: top;\n",
       "    }\n",
       "\n",
       "    .dataframe thead th {\n",
       "        text-align: right;\n",
       "    }\n",
       "</style>\n",
       "<table border=\"1\" class=\"dataframe\">\n",
       "  <thead>\n",
       "    <tr style=\"text-align: right;\">\n",
       "      <th></th>\n",
       "      <th>id</th>\n",
       "      <th>cad</th>\n",
       "      <th>type</th>\n",
       "      <th>deal</th>\n",
       "      <th>deleted</th>\n",
       "      <th>filial_id</th>\n",
       "      <th>black_list</th>\n",
       "      <th>full_address</th>\n",
       "      <th>lot</th>\n",
       "    </tr>\n",
       "  </thead>\n",
       "  <tbody>\n",
       "    <tr>\n",
       "      <th>0</th>\n",
       "      <td>0</td>\n",
       "      <td>1</td>\n",
       "      <td>177439</td>\n",
       "      <td>177439</td>\n",
       "      <td>176977</td>\n",
       "      <td>0</td>\n",
       "      <td>177335</td>\n",
       "      <td>0</td>\n",
       "      <td>0</td>\n",
       "    </tr>\n",
       "  </tbody>\n",
       "</table>\n",
       "</div>"
      ],
      "text/plain": [
       "   id  cad    type    deal  deleted  filial_id  black_list  full_address  lot\n",
       "0   0    1  177439  177439   176977          0      177335             0    0"
      ]
     },
     "execution_count": 799,
     "metadata": {},
     "output_type": "execute_result"
    }
   ],
   "source": [
    "# Zero values condition\n",
    "eda_df_zero_values = eda_df.select([count(when(col(c) == 0, c)).alias(c) \\\n",
    "                                    for c in eda_df.columns]).toPandas()\n",
    "eda_df_zero_values"
   ]
  },
  {
   "cell_type": "code",
   "execution_count": 800,
   "id": "5a6cb426",
   "metadata": {},
   "outputs": [
    {
     "data": {
      "text/html": [
       "<div>\n",
       "<style scoped>\n",
       "    .dataframe tbody tr th:only-of-type {\n",
       "        vertical-align: middle;\n",
       "    }\n",
       "\n",
       "    .dataframe tbody tr th {\n",
       "        vertical-align: top;\n",
       "    }\n",
       "\n",
       "    .dataframe thead th {\n",
       "        text-align: right;\n",
       "    }\n",
       "</style>\n",
       "<table border=\"1\" class=\"dataframe\">\n",
       "  <thead>\n",
       "    <tr style=\"text-align: right;\">\n",
       "      <th></th>\n",
       "      <th>id</th>\n",
       "      <th>cad</th>\n",
       "      <th>type</th>\n",
       "      <th>deal</th>\n",
       "      <th>deleted</th>\n",
       "      <th>filial_id</th>\n",
       "      <th>black_list</th>\n",
       "      <th>full_address</th>\n",
       "      <th>lot</th>\n",
       "    </tr>\n",
       "  </thead>\n",
       "  <tbody>\n",
       "    <tr>\n",
       "      <th>0</th>\n",
       "      <td>0</td>\n",
       "      <td>11199</td>\n",
       "      <td>0</td>\n",
       "      <td>0</td>\n",
       "      <td>0</td>\n",
       "      <td>0</td>\n",
       "      <td>0</td>\n",
       "      <td>0</td>\n",
       "      <td>177439</td>\n",
       "    </tr>\n",
       "  </tbody>\n",
       "</table>\n",
       "</div>"
      ],
      "text/plain": [
       "   id    cad  type  deal  deleted  filial_id  black_list  full_address     lot\n",
       "0   0  11199     0     0        0          0           0             0  177439"
      ]
     },
     "execution_count": 800,
     "metadata": {},
     "output_type": "execute_result"
    }
   ],
   "source": [
    "# Empty-string values condition\n",
    "eda_df_empty_values = eda_df.select([count(when(col(c) == '', c)).alias(c) \\\n",
    "                                     for c in eda_df.columns]).toPandas()\n",
    "eda_df_empty_values"
   ]
  },
  {
   "cell_type": "code",
   "execution_count": 801,
   "id": "6e9f5025",
   "metadata": {},
   "outputs": [
    {
     "data": {
      "text/html": [
       "<div>\n",
       "<style scoped>\n",
       "    .dataframe tbody tr th:only-of-type {\n",
       "        vertical-align: middle;\n",
       "    }\n",
       "\n",
       "    .dataframe tbody tr th {\n",
       "        vertical-align: top;\n",
       "    }\n",
       "\n",
       "    .dataframe thead th {\n",
       "        text-align: right;\n",
       "    }\n",
       "</style>\n",
       "<table border=\"1\" class=\"dataframe\">\n",
       "  <thead>\n",
       "    <tr style=\"text-align: right;\">\n",
       "      <th></th>\n",
       "      <th>NULL</th>\n",
       "      <th>Zero</th>\n",
       "      <th>Empty_string</th>\n",
       "    </tr>\n",
       "  </thead>\n",
       "  <tbody>\n",
       "    <tr>\n",
       "      <th>id</th>\n",
       "      <td>0</td>\n",
       "      <td>0</td>\n",
       "      <td>0</td>\n",
       "    </tr>\n",
       "    <tr>\n",
       "      <th>cad</th>\n",
       "      <td>0</td>\n",
       "      <td>1</td>\n",
       "      <td>11199</td>\n",
       "    </tr>\n",
       "    <tr>\n",
       "      <th>type</th>\n",
       "      <td>0</td>\n",
       "      <td>177439</td>\n",
       "      <td>0</td>\n",
       "    </tr>\n",
       "    <tr>\n",
       "      <th>deal</th>\n",
       "      <td>0</td>\n",
       "      <td>177439</td>\n",
       "      <td>0</td>\n",
       "    </tr>\n",
       "    <tr>\n",
       "      <th>deleted</th>\n",
       "      <td>0</td>\n",
       "      <td>176977</td>\n",
       "      <td>0</td>\n",
       "    </tr>\n",
       "    <tr>\n",
       "      <th>filial_id</th>\n",
       "      <td>55</td>\n",
       "      <td>0</td>\n",
       "      <td>0</td>\n",
       "    </tr>\n",
       "    <tr>\n",
       "      <th>black_list</th>\n",
       "      <td>0</td>\n",
       "      <td>177335</td>\n",
       "      <td>0</td>\n",
       "    </tr>\n",
       "    <tr>\n",
       "      <th>full_address</th>\n",
       "      <td>7974</td>\n",
       "      <td>0</td>\n",
       "      <td>0</td>\n",
       "    </tr>\n",
       "    <tr>\n",
       "      <th>lot</th>\n",
       "      <td>0</td>\n",
       "      <td>0</td>\n",
       "      <td>177439</td>\n",
       "    </tr>\n",
       "  </tbody>\n",
       "</table>\n",
       "</div>"
      ],
      "text/plain": [
       "              NULL    Zero  Empty_string\n",
       "id               0       0             0\n",
       "cad              0       1         11199\n",
       "type             0  177439             0\n",
       "deal             0  177439             0\n",
       "deleted          0  176977             0\n",
       "filial_id       55       0             0\n",
       "black_list       0  177335             0\n",
       "full_address  7974       0             0\n",
       "lot              0       0        177439"
      ]
     },
     "execution_count": 801,
     "metadata": {},
     "output_type": "execute_result"
    }
   ],
   "source": [
    "# Unlock the limit to display all the columns\n",
    "pd.options.display.max_rows = None\n",
    "# To transpose a dataframe - use .T method\n",
    "eda_df_pandas = pd.concat([eda_df_null_values, eda_df_zero_values, eda_df_empty_values], axis = 'index').T\n",
    "# To rename columns to anything else after the transpose\n",
    "eda_df_pandas.columns = (['NULL','Zero','Empty_string'])\n",
    "eda_df_pandas"
   ]
  },
  {
   "cell_type": "code",
   "execution_count": 802,
   "id": "7b26312a",
   "metadata": {},
   "outputs": [],
   "source": [
    "def set_result_to_percent(df: object = None) -> object:\n",
    "    \"\"\"\n",
    "    Method to execute and show the result of your PandasDataFrame\n",
    "    :default -> None-object\n",
    "    :param :Pandas DF\n",
    "    :return: DF after the conversion (absolute -> percent)\n",
    "    \"\"\"\n",
    "    if df is None:\n",
    "        return \"Please incl. at least one Pandas DF as a parameter\"\n",
    "    return round(df * 100 / eda_df.count(), 3)"
   ]
  },
  {
   "cell_type": "code",
   "execution_count": 803,
   "id": "0fd205c2",
   "metadata": {},
   "outputs": [
    {
     "data": {
      "text/html": [
       "<div>\n",
       "<style scoped>\n",
       "    .dataframe tbody tr th:only-of-type {\n",
       "        vertical-align: middle;\n",
       "    }\n",
       "\n",
       "    .dataframe tbody tr th {\n",
       "        vertical-align: top;\n",
       "    }\n",
       "\n",
       "    .dataframe thead th {\n",
       "        text-align: right;\n",
       "    }\n",
       "</style>\n",
       "<table border=\"1\" class=\"dataframe\">\n",
       "  <thead>\n",
       "    <tr style=\"text-align: right;\">\n",
       "      <th></th>\n",
       "      <th>NULL</th>\n",
       "      <th>Zero</th>\n",
       "      <th>Empty_string</th>\n",
       "    </tr>\n",
       "  </thead>\n",
       "  <tbody>\n",
       "    <tr>\n",
       "      <th>id</th>\n",
       "      <td>0.000</td>\n",
       "      <td>0.000</td>\n",
       "      <td>0.000</td>\n",
       "    </tr>\n",
       "    <tr>\n",
       "      <th>cad</th>\n",
       "      <td>0.000</td>\n",
       "      <td>0.001</td>\n",
       "      <td>6.311</td>\n",
       "    </tr>\n",
       "    <tr>\n",
       "      <th>type</th>\n",
       "      <td>0.000</td>\n",
       "      <td>100.000</td>\n",
       "      <td>0.000</td>\n",
       "    </tr>\n",
       "    <tr>\n",
       "      <th>deal</th>\n",
       "      <td>0.000</td>\n",
       "      <td>100.000</td>\n",
       "      <td>0.000</td>\n",
       "    </tr>\n",
       "    <tr>\n",
       "      <th>deleted</th>\n",
       "      <td>0.000</td>\n",
       "      <td>99.740</td>\n",
       "      <td>0.000</td>\n",
       "    </tr>\n",
       "    <tr>\n",
       "      <th>filial_id</th>\n",
       "      <td>0.031</td>\n",
       "      <td>0.000</td>\n",
       "      <td>0.000</td>\n",
       "    </tr>\n",
       "    <tr>\n",
       "      <th>black_list</th>\n",
       "      <td>0.000</td>\n",
       "      <td>99.941</td>\n",
       "      <td>0.000</td>\n",
       "    </tr>\n",
       "    <tr>\n",
       "      <th>full_address</th>\n",
       "      <td>4.494</td>\n",
       "      <td>0.000</td>\n",
       "      <td>0.000</td>\n",
       "    </tr>\n",
       "    <tr>\n",
       "      <th>lot</th>\n",
       "      <td>0.000</td>\n",
       "      <td>0.000</td>\n",
       "      <td>100.000</td>\n",
       "    </tr>\n",
       "  </tbody>\n",
       "</table>\n",
       "</div>"
      ],
      "text/plain": [
       "               NULL     Zero  Empty_string\n",
       "id            0.000    0.000         0.000\n",
       "cad           0.000    0.001         6.311\n",
       "type          0.000  100.000         0.000\n",
       "deal          0.000  100.000         0.000\n",
       "deleted       0.000   99.740         0.000\n",
       "filial_id     0.031    0.000         0.000\n",
       "black_list    0.000   99.941         0.000\n",
       "full_address  4.494    0.000         0.000\n",
       "lot           0.000    0.000       100.000"
      ]
     },
     "execution_count": 803,
     "metadata": {},
     "output_type": "execute_result"
    }
   ],
   "source": [
    "set_result_to_percent(eda_df_pandas)"
   ]
  },
  {
   "cell_type": "markdown",
   "id": "99ca0812",
   "metadata": {},
   "source": [
    "### SQL-instructions"
   ]
  },
  {
   "cell_type": "code",
   "execution_count": 804,
   "id": "3790ddd5",
   "metadata": {},
   "outputs": [
    {
     "name": "stderr",
     "output_type": "stream",
     "text": [
      "                                                                                \r"
     ]
    },
    {
     "name": "stdout",
     "output_type": "stream",
     "text": [
      "+------------------+\n",
      "|count(DISTINCT id)|\n",
      "+------------------+\n",
      "|177439            |\n",
      "+------------------+\n",
      "\n",
      "+-------------------+\n",
      "|count(DISTINCT cad)|\n",
      "+-------------------+\n",
      "|148324             |\n",
      "+-------------------+\n",
      "\n",
      "+--------------------+\n",
      "|count(DISTINCT type)|\n",
      "+--------------------+\n",
      "|1                   |\n",
      "+--------------------+\n",
      "\n",
      "+--------------------+\n",
      "|count(DISTINCT deal)|\n",
      "+--------------------+\n",
      "|1                   |\n",
      "+--------------------+\n",
      "\n",
      "+-----------------------+\n",
      "|count(DISTINCT deleted)|\n",
      "+-----------------------+\n",
      "|2                      |\n",
      "+-----------------------+\n",
      "\n",
      "+-------------------------+\n",
      "|count(DISTINCT filial_id)|\n",
      "+-------------------------+\n",
      "|177                      |\n",
      "+-------------------------+\n",
      "\n",
      "+--------------------------+\n",
      "|count(DISTINCT black_list)|\n",
      "+--------------------------+\n",
      "|2                         |\n",
      "+--------------------------+\n",
      "\n",
      "+----------------------------+\n",
      "|count(DISTINCT full_address)|\n",
      "+----------------------------+\n",
      "|132332                      |\n",
      "+----------------------------+\n",
      "\n",
      "+-------------------+\n",
      "|count(DISTINCT lot)|\n",
      "+-------------------+\n",
      "|1                  |\n",
      "+-------------------+\n",
      "\n"
     ]
    }
   ],
   "source": [
    "#Find dupes or misunderstanding or useless static values 3 244 006 total\n",
    "for col in eda_df.columns:\n",
    "    execute(\"select count(distinct(\"+ col + \")) from eda_sql\")"
   ]
  },
  {
   "cell_type": "code",
   "execution_count": 805,
   "id": "1ea0d3b4",
   "metadata": {},
   "outputs": [],
   "source": [
    "def execute_template(column: str ='id') -> object:\n",
    "    \"\"\"\n",
    "    Method to execute and show the result of your SQL-instruction\n",
    "    :default -> \"ID incl.\"\n",
    "    :param :string select_instruction: column name\n",
    "    :return: result of the SQL-operation as a table\n",
    "    \"\"\"\n",
    "    print(execute(\"SELECT DISTINCT(\" + column + \")\\\n",
    "                FROM eda_sql\\\n",
    "                WHERE 1 = 1 \\\n",
    "                ORDER BY \" + column + \" DESC\"))\n",
    "    return execute(\"SELECT DISTINCT(\" + column + \")\\\n",
    "                    FROM eda_sql\\\n",
    "                    WHERE 1 = 1 \\\n",
    "                    ORDER BY \" + column + \" ASC\")"
   ]
  },
  {
   "cell_type": "code",
   "execution_count": 806,
   "id": "87c1d8d8",
   "metadata": {},
   "outputs": [
    {
     "name": "stdout",
     "output_type": "stream",
     "text": [
      "+-----+\n",
      "|id   |\n",
      "+-----+\n",
      "|99999|\n",
      "|99998|\n",
      "|99997|\n",
      "|99996|\n",
      "|99995|\n",
      "|99994|\n",
      "|99993|\n",
      "|99992|\n",
      "|99991|\n",
      "|99990|\n",
      "|9999 |\n",
      "|99989|\n",
      "|99988|\n",
      "|99987|\n",
      "|99986|\n",
      "|99985|\n",
      "|99984|\n",
      "|99983|\n",
      "|99982|\n",
      "|99981|\n",
      "+-----+\n",
      "only showing top 20 rows\n",
      "\n",
      "None\n",
      "+------+\n",
      "|id    |\n",
      "+------+\n",
      "|100   |\n",
      "|1000  |\n",
      "|10000 |\n",
      "|100000|\n",
      "|100001|\n",
      "|100002|\n",
      "|100003|\n",
      "|100004|\n",
      "|100005|\n",
      "|100006|\n",
      "|100007|\n",
      "|100008|\n",
      "|100009|\n",
      "|10001 |\n",
      "|100010|\n",
      "|100011|\n",
      "|100012|\n",
      "|100013|\n",
      "|100014|\n",
      "|100015|\n",
      "+------+\n",
      "only showing top 20 rows\n",
      "\n",
      "+----------------------------------------------------------------------------------+\n",
      "|cad                                                                               |\n",
      "+----------------------------------------------------------------------------------+\n",
      "|№87 21кв.м. 8 этаж в комплексе Ручьи 2 очередь корп.2                             |\n",
      "|№47:14:0312001:184                                                                |\n",
      "|№ 78:36:0013262:693-78/039/2018-1  от 20.05.2018  (Собственность)                 |\n",
      "|№ 56:47:0101015:408-56/008/2019-12от 26.11.2019                                   |\n",
      "|№ 47-47/012-47/012/022/2016-6379/2  от 24.10.2016  (Собственность)                |\n",
      "|№ 43-43-12/082/2011-290  от 24.03.2011  (Собственность)                           |\n",
      "|№ 41-41/001-41/002/007/2015-1494/1  от 03.03.2015  (Собственность)                |\n",
      "|№ 30-30/011-30/001/151/2016-133/2  от 25.08.2016  (Общая совместная собственность)|\n",
      "|№ 02:57:020917:5-02/114/2019-4  от 20.08.2019                                     |\n",
      "|№ 02-04-46/010/2013-147  от 20.09.2013  (Собственность)                           |\n",
      "|юг. спб                                                                           |\n",
      "|шаблон                                                                            |\n",
      "|условный номер 50:55:03:00332:001:0062                                            |\n",
      "|строительство на участке 25:28:050037:1228                                        |\n",
      "|р44:07:024401:30                                                                  |\n",
      "|объект незавершенного строительства                                               |\n",
      "|лоолл                                                                             |\n",
      "|земельного участка 78:34:0428601:1329                                             |\n",
      "|земельного участка 50:27:0020412:609                                              |\n",
      "|з.у. 91:02:004003:71                                                              |\n",
      "+----------------------------------------------------------------------------------+\n",
      "only showing top 20 rows\n",
      "\n",
      "None\n",
      "+---------------------+\n",
      "|cad                  |\n",
      "+---------------------+\n",
      "|                     |\n",
      "|\\t\\t02:35:010104:169 |\n",
      "|\\t\\t02:35:010110:189 |\n",
      "|\\t\\t02:57:010207:548 |\n",
      "|\\t\\t02:60:010301:1698|\n",
      "|\\t\\t30:12:041549:138 |\n",
      "|\\t\\t43:40:000263:478 |\n",
      "|\\t\\t73:24:030204:330 |\n",
      "|\\t02:03:110801:209   |\n",
      "|\\t02:03:110801:305   |\n",
      "|\\t02:03:110801:331   |\n",
      "|\\t02:03:110802:492   |\n",
      "|\\t02:09:090601:153   |\n",
      "|\\t02:16:090401:301   |\n",
      "|\\t02:26:161701:2567  |\n",
      "|\\t02:31:140402:123   |\n",
      "|\\t02:31:140402:196   |\n",
      "|\\t02:34:010601:320   |\n",
      "|\\t02:34:010601:37    |\n",
      "|\\t02:34:100901:428   |\n",
      "+---------------------+\n",
      "only showing top 20 rows\n",
      "\n",
      "+----+\n",
      "|type|\n",
      "+----+\n",
      "|0   |\n",
      "+----+\n",
      "\n",
      "None\n",
      "+----+\n",
      "|type|\n",
      "+----+\n",
      "|0   |\n",
      "+----+\n",
      "\n",
      "+----+\n",
      "|deal|\n",
      "+----+\n",
      "|0   |\n",
      "+----+\n",
      "\n",
      "None\n",
      "+----+\n",
      "|deal|\n",
      "+----+\n",
      "|0   |\n",
      "+----+\n",
      "\n",
      "+-------+\n",
      "|deleted|\n",
      "+-------+\n",
      "|1      |\n",
      "|0      |\n",
      "+-------+\n",
      "\n",
      "None\n",
      "+-------+\n",
      "|deleted|\n",
      "+-------+\n",
      "|0      |\n",
      "|1      |\n",
      "+-------+\n",
      "\n",
      "+---------+\n",
      "|filial_id|\n",
      "+---------+\n",
      "|99       |\n",
      "|98       |\n",
      "|97       |\n",
      "|96       |\n",
      "|94       |\n",
      "|93       |\n",
      "|92       |\n",
      "|91       |\n",
      "|90       |\n",
      "|9        |\n",
      "|89       |\n",
      "|87       |\n",
      "|86       |\n",
      "|85       |\n",
      "|84       |\n",
      "|83       |\n",
      "|82       |\n",
      "|81       |\n",
      "|80       |\n",
      "|8        |\n",
      "+---------+\n",
      "only showing top 20 rows\n",
      "\n",
      "None\n",
      "+---------+\n",
      "|filial_id|\n",
      "+---------+\n",
      "|null     |\n",
      "|1        |\n",
      "|100      |\n",
      "|101      |\n",
      "|102      |\n",
      "|103      |\n",
      "|106      |\n",
      "|107      |\n",
      "|108      |\n",
      "|109      |\n",
      "|11       |\n",
      "|110      |\n",
      "|111      |\n",
      "|112      |\n",
      "|114      |\n",
      "|115      |\n",
      "|116      |\n",
      "|117      |\n",
      "|118      |\n",
      "|119      |\n",
      "+---------+\n",
      "only showing top 20 rows\n",
      "\n",
      "+----------+\n",
      "|black_list|\n",
      "+----------+\n",
      "|1         |\n",
      "|0         |\n",
      "+----------+\n",
      "\n",
      "None\n",
      "+----------+\n",
      "|black_list|\n",
      "+----------+\n",
      "|0         |\n",
      "|1         |\n",
      "+----------+\n",
      "\n",
      "+------------------------------------------------------------------------------------------------------------------------------------------------------------------------------------------------------------+\n",
      "|full_address                                                                                                                                                                                                |\n",
      "+------------------------------------------------------------------------------------------------------------------------------------------------------------------------------------------------------------+\n",
      "|чувашская, чебоксары, мичмана павлова                                                                                                                                                                       |\n",
      "|усть-славянка, Советский пр-кт 41, стр. 1, корп. 1, 720                                                                                                                                                     |\n",
      "|усть-славянка, Советский 73                                                                                                                                                                                 |\n",
      "|установлено относительно ориентира, расположенного за пределами участка. Ориентир: жилой дом. Участок находится примерно в 680м от ориентира по направлению на запад. Почтовый адрес ориентира: участок №300|\n",
      "|улаарина, аарина 49                                                                                                                                                                                         |\n",
      "|ул Цвиллина, Цвиллина 48                                                                                                                                                                                    |\n",
      "|ул Островскоо, Островскоо 17а, 34                                                                                                                                                                           |\n",
      "|ул Маеова, Маеова 20, 525                                                                                                                                                                                   |\n",
      "|ул Дзержинскоо, Дзержинскоо 8, 80                                                                                                                                                                           |\n",
      "|ул Даестанская, Даестанская 10 (1), 24                                                                                                                                                                      |\n",
      "|ул Волорадская, Волорадская 17, 59                                                                                                                                                                          |\n",
      "|тат, Осиново, Ленина 3, 5                                                                                                                                                                                   |\n",
      "|ст \"Прироа\"                                                                                                                                                                                                 |\n",
      "|ст \" Маручак \"                                                                                                                                                                                              |\n",
      "|ст \" Контакт \"                                                                                                                                                                                              |\n",
      "|саовоческое товарищество \"Автомобилист\"                                                                                                                                                                     |\n",
      "|с/т \"идро\" 0605008, с/т \"иро\" 0605008                                                                                                                                                                       |\n",
      "|с.Нижегородка, Руслана Низамутдинова 16                                                                                                                                                                     |\n",
      "|с. Яуново, Асиновская 3                                                                                                                                                                                     |\n",
      "|с. Яуново, Асиновская                                                                                                                                                                                       |\n",
      "+------------------------------------------------------------------------------------------------------------------------------------------------------------------------------------------------------------+\n",
      "only showing top 20 rows\n",
      "\n",
      "None\n",
      "+--------------------------------------------------------------------------------------------------------------------------------------------------+\n",
      "|full_address                                                                                                                                      |\n",
      "+--------------------------------------------------------------------------------------------------------------------------------------------------+\n",
      "|null                                                                                                                                              |\n",
      "|\\tКалужская область, Жуковский район, Муниципальное образование \"Сельское поселение деревня Корсаково\", с/т \"Красная Пахра\", участок № 5, Подольск|\n",
      "|\\tМосква, Бирюлево Восточное, ул. Радиальная 6-я, д. 5, корп. 2, кв. 2                                                                            |\n",
      "|\\tМосква, Бирюлево Восточное, ул. Радиальная 6-я, д. 5, корп. 2, кв. 40                                                                           |\n",
      "|\\tМосква, Бирюлево Восточное, ул. Радиальная 6-я, д. 5, корп. 2, кв. 47                                                                           |\n",
      "|\\tМосква, Бирюлево Восточное, ул. Радиальная 6-я, д. 5, корп. 2, кв. 577                                                                          |\n",
      "|\\tМосковская обл., Домодедовский р-н, город Домодедово, микрорайон Авиационный, улица Королева, д. 4, кв. 151                                     |\n",
      "|\\tМосковская область, Городской округ Подольск, в районе деревни Бородино, Варшавское шоссе, дом 70, квартира 26                                  |\n",
      "|\\tМосковская область, Ленинский муниципальный район, сельское поселение Булатниковское, д. Боброво, ул. Лесная, д.22, корп. 2, кв. 219            |\n",
      "|\\tМосковская область, Ленинский муниципальный район, сельское поселение Булатниковское, д. Дрожжино, ул. Южная, д.19, кв. 548                     |\n",
      "|\\tМосковская область, Наро-Фоминский район, городское поселение Селятино, ст.Селятино, в/ч 92925, д.35, кв.30                                     |\n",
      "|\\tМосковская область, Подольск г/о, г. Подольск, ул. Садовая, д. 5, корп. 1, кв. 319                                                              |\n",
      "|\\tМосковская область, Подольский район, садоводческий кооператив \"Трасса\", вблизи д. Матвеевское Лаговского сельского округа                      |\n",
      "|\\tМосковская область, Серпуховский район, район д.Глебово, СНТ \"Биоприбор\", участок №46                                                           |\n",
      "|\\tМосковская область, Ступинский район, сельское поселение Леонтьевское, в районе д. Волково                                                      |\n",
      "|\\tМосковская область, Щелковский муниципальный район, городское поселение Щелково, город Щелково, ул.Чкаловская, дом №5, квартира № 126           |\n",
      "|\\tМосковская область, г Подольск, б-р Бородинский, д 5, кв 34                                                                                     |\n",
      "|\\tМосковская область, г Подольск, ул Бородинская, д 17, пом 9                                                                                     |\n",
      "|\\tМосковская область, г Подольск, ул Колхозная, д 16, корп 1, пом 62, Подольск                                                                    |\n",
      "|\\tМосковская область, г. Подольск, ул. Кирова, д. 64а, пом. 9                                                                                     |\n",
      "+--------------------------------------------------------------------------------------------------------------------------------------------------+\n",
      "only showing top 20 rows\n",
      "\n",
      "+---+\n",
      "|lot|\n",
      "+---+\n",
      "|   |\n",
      "+---+\n",
      "\n",
      "None\n",
      "+---+\n",
      "|lot|\n",
      "+---+\n",
      "|   |\n",
      "+---+\n",
      "\n"
     ]
    }
   ],
   "source": [
    "#Find dupes or misunderstanding or useless static values 3 244 006 total\n",
    "for col in eda_df.columns:\n",
    "    execute_template(col)"
   ]
  },
  {
   "cell_type": "markdown",
   "id": "a34abecb",
   "metadata": {},
   "source": [
    "## Bonus"
   ]
  },
  {
   "cell_type": "markdown",
   "id": "83df95a9",
   "metadata": {},
   "source": [
    "### 2nd solution (Cycle and variables)\n",
    "#### Slower but more simple and has more readability than the previous method "
   ]
  },
  {
   "cell_type": "markdown",
   "id": "19b4d65b",
   "metadata": {},
   "source": [
    "### Create the list of variables to re-use if needed"
   ]
  },
  {
   "cell_type": "code",
   "execution_count": null,
   "id": "c4b8e5d6",
   "metadata": {},
   "outputs": [],
   "source": [
    "useless_columns = []\n",
    "null_values = []\n",
    "zero_values = []\n",
    "empty_string = []\n",
    "col_name = []"
   ]
  },
  {
   "cell_type": "code",
   "execution_count": null,
   "id": "82a51d3d",
   "metadata": {},
   "outputs": [],
   "source": [
    "for col in eda_df.columns:\n",
    "    null = round((eda_df.filter(eda_df[col].isNull()).count()/eda_df.count())*100, 3)\n",
    "    zero = round(eda_df.filter(eda_df[col]==0).count()/eda_df.count()*100, 3)\n",
    "    empty = round(eda_df.filter(eda_df[col]=='').count()/eda_df.count()*100, 3)\n",
    "    if null in [0, 100] and zero in [0, 100] and empty in [0, 100]:\n",
    "        useless_columns.append(col)\n",
    "        continue\n",
    "    null_values.append(null)\n",
    "    zero_values.append(zero)\n",
    "    empty_string.append(empty)\n",
    "    col_name.append(col)"
   ]
  },
  {
   "cell_type": "code",
   "execution_count": null,
   "id": "6b405596",
   "metadata": {},
   "outputs": [],
   "source": [
    "zipped = list(zip(null_values, zero_values, empty_string))\n",
    "eda_df_pandas2 = pd.DataFrame(zipped, index=col_name, columns=['NULL', 'Zero', 'Empty'])\n",
    "eda_df_pandas2"
   ]
  },
  {
   "cell_type": "markdown",
   "id": "16caef6a",
   "metadata": {},
   "source": [
    "### Remove useless columns"
   ]
  },
  {
   "cell_type": "code",
   "execution_count": null,
   "id": "c1ea0350",
   "metadata": {},
   "outputs": [],
   "source": [
    "eda_df = eda_df.drop(*useless_columns)"
   ]
  },
  {
   "cell_type": "code",
   "execution_count": null,
   "id": "c8306999",
   "metadata": {},
   "outputs": [],
   "source": [
    "pd.DataFrame(eda_df.dtypes, columns = ['Column Name','Data type'])"
   ]
  },
  {
   "cell_type": "code",
   "execution_count": 807,
   "id": "89b3aa90",
   "metadata": {},
   "outputs": [
    {
     "name": "stderr",
     "output_type": "stream",
     "text": [
      "I1120 02:26:20.088167 10390 sched.cpp:2174] Asked to stop the driver\n",
      "I1120 02:26:20.088843 10527 sched.cpp:1207] Stopping framework 89161c75-8817-4ae4-ab24-cba26241d6f9-75625\n"
     ]
    }
   ],
   "source": [
    "spark.stop()"
   ]
  },
  {
   "cell_type": "code",
   "execution_count": null,
   "id": "063105aa",
   "metadata": {},
   "outputs": [],
   "source": []
  }
 ],
 "metadata": {
  "kernelspec": {
   "display_name": "jupyter_P24",
   "language": "python",
   "name": "jupyter_p24"
  },
  "language_info": {
   "codemirror_mode": {
    "name": "ipython",
    "version": 3
   },
   "file_extension": ".py",
   "mimetype": "text/x-python",
   "name": "python",
   "nbconvert_exporter": "python",
   "pygments_lexer": "ipython3",
   "version": "3.9.13"
  }
 },
 "nbformat": 4,
 "nbformat_minor": 5
}
