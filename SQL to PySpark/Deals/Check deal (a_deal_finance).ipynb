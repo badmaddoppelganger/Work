{
 "cells": [
  {
   "cell_type": "markdown",
   "id": "93ca94f4",
   "metadata": {},
   "source": [
    "# Tech Intro"
   ]
  },
  {
   "cell_type": "markdown",
   "id": "2fce20ac",
   "metadata": {},
   "source": [
    "## Main tables"
   ]
  },
  {
   "cell_type": "code",
   "execution_count": 654,
   "id": "e46f86d7",
   "metadata": {},
   "outputs": [],
   "source": [
    "# Real Estate's objects\n",
    "real_estate_list: list = [\n",
    "    'ag_object',\n",
    "    'ag_parse_ad',\n",
    "    'ag_lead_object',\n",
    "    'ag_presentation_object',\n",
    "    'ag_object_platform',\n",
    "    'ag_posting_ad_realty',\n",
    "    'native_realty_filial',\n",
    "    'foreign_realty_filial',\n",
    "    'spr_metro',\n",
    "    'spr_metro_connection',\n",
    "    'ag_object_parking']\n",
    "# Lead's objects\n",
    "lead_list: list = [\n",
    "    'leads',\n",
    "    'lead_utm',\n",
    "    'client_wishes',\n",
    "    'leads_email_order',\n",
    "    'request_from_site',\n",
    "    'lead_finance',\n",
    "    'leads_source_spr',\n",
    "    'leads_calls_connection',\n",
    "    'leads_pipeline',\n",
    "    'leads_not_implemented_reason',\n",
    "    'leads_status',\n",
    "    'ag_pipeline',\n",
    "    'ag_pipeline_status',\n",
    "    'leads_meta',\n",
    "    'leads_meta_fields',\n",
    "    'leads_meta_group',\n",
    "    'leads_contacts_connect',\n",
    "    'leads_contact',\n",
    "    'leads_contact_meta',\n",
    "    'leads_contact_meta_fields']\n",
    "# Deal's objects\n",
    "deal_list: list = [\n",
    "    # Deal\n",
    "    'a_deal',\n",
    "    'a_deal_meta',\n",
    "    'deal_passport',\n",
    "    'a_deal_finance',\n",
    "    'a_deal_check',\n",
    "    'a_deal_test',\n",
    "    # Contractor\n",
    "    'a_contractor',\n",
    "    'a_contractor_meta',\n",
    "    'a_deal_contractor',\n",
    "    'a_deal_contractor_meta',\n",
    "    # Object\n",
    "    'a_object',\n",
    "    'a_object_meta',\n",
    "    'a_deal_object']"
   ]
  },
  {
   "cell_type": "markdown",
   "id": "86c6ee69",
   "metadata": {},
   "source": [
    "## Main Variables"
   ]
  },
  {
   "cell_type": "code",
   "execution_count": 655,
   "id": "f9fb4d41",
   "metadata": {},
   "outputs": [],
   "source": [
    "# Address and name of your notebook\n",
    "venv_path = \"/home/bigdata/a.umarov/jupyter_P24\"\n",
    "# Exploratory Data Analysis(EDA) table (eda_table)\n",
    "eda_table = deal_list[3] # You can generate full-EDA cycle if you want through the all of tables\n",
    "                                # Just iterate it !\n",
    "# Exploratory Data Analysis(EDA) obj as PySpark DataFrame\n",
    "eda_df = None\n",
    "# Set the date of checking\n",
    "sample_data_date = '20221027'"
   ]
  },
  {
   "cell_type": "markdown",
   "id": "79cec746",
   "metadata": {},
   "source": [
    "## Useful command and modules (can be transform into the 'importlib'- smart import logic)"
   ]
  },
  {
   "cell_type": "code",
   "execution_count": 656,
   "id": "19563688",
   "metadata": {},
   "outputs": [
    {
     "name": "stderr",
     "output_type": "stream",
     "text": [
      "W1120 01:52:14.315583 10390 process.cpp:2877] Attempted to spawn already running process version@10.62.4.11:44708\n",
      "I1120 01:52:14.316124 48928 sched.cpp:241] Version: 1.11.0\n",
      "I1120 01:52:14.316300 10528 sched.cpp:345] New master detected at master@10.62.4.8:5050\n",
      "I1120 01:52:14.316367 10528 sched.cpp:365] No credentials provided. Attempting to register without authentication\n",
      "I1120 01:52:14.317867 10538 sched.cpp:753] Framework registered with 89161c75-8817-4ae4-ab24-cba26241d6f9-75613\n"
     ]
    }
   ],
   "source": [
    "import os\n",
    "import pandas as pd\n",
    "# To data analyze need the module\n",
    "import pyspark.pandas as ps\n",
    "os.environ[\"PYSPARK_PYTHON\"] = f\"{venv_path}/bin/python3\"\n",
    "os.environ[\"PYSPARK_DRIVER_PYTHON\"] = f\"{venv_path}/bin/python3\"\n",
    "\n",
    "import findspark\n",
    "findspark.init(\"/opt/dev/spark/spark\")\n",
    " \n",
    "from pyspark import SparkContext, SparkConf\n",
    "from pyspark.sql import SparkSession, SQLContext, DataFrameNaFunctions, \\\n",
    "                        Window, DataFrame, DataFrameStatFunctions, \\\n",
    "                        Column, Row, GroupedData, functions, types\n",
    "from pyspark.sql.functions import isnan, when, count, col\n",
    "\n",
    "\n",
    "conf = SparkConf().setAppName(\"get_info_from_\" + eda_table + \"_table\")\n",
    "sc = SparkContext(conf=conf)\n",
    "sc.setLogLevel(\"ERROR\")\n",
    "spark = SparkSession(sc)"
   ]
  },
  {
   "cell_type": "markdown",
   "id": "025c6aa9",
   "metadata": {},
   "source": [
    "## Read the spec-file from Hadoop and show some data sample"
   ]
  },
  {
   "cell_type": "code",
   "execution_count": 657,
   "id": "578e3061",
   "metadata": {
    "scrolled": true
   },
   "outputs": [
    {
     "name": "stderr",
     "output_type": "stream",
     "text": [
      "                                                                                \r"
     ]
    },
    {
     "name": "stdout",
     "output_type": "stream",
     "text": [
      "+-------+-----------------------------------------------------+-----+------+----------+----------------------------------------------------------------+---------+\n",
      "|id     |name                                                 |cost |deal  |updated   |note                                                            |type_cost|\n",
      "+-------+-----------------------------------------------------+-----+------+----------+----------------------------------------------------------------+---------+\n",
      "|1000005|Планируемый размер вознаграждения                    |3 %  |107949|1586909450|Планируемый размер вознаграждения                               |null     |\n",
      "|1000006|Планируемый размер дополнительного вознаграждения    |null |107949|null      |Планируемый размер дополнительного вознаграждения               |null     |\n",
      "|1000008|Фактически полученная сумма вознаграждения           |null |107949|null      |Фактически полученная сумма вознаграждения                      |null     |\n",
      "|1000019|Сумма аванса между продавцом и покупателем           |null |107949|null      |Сумма аванса между продавцом и покупателем                      |null     |\n",
      "|100002 |Сумма задатка по соглашению предварительного договора|null |7078  |null      |Сумма задатка (аванса) по соглашению к предварительному договору|null     |\n",
      "|1000020|Планируемый размер вознаграждения                    |70000|107950|1586920526|Планируемый размер вознаграждения                               |null     |\n",
      "|1000022|Фактический размер вознаграждения по отчету          |70000|107950|1611815182|Фактический размер вознаграждения по отчету                     |null     |\n",
      "|1000030|Стоимость неотделимых улучшений объекта недвижимости |null |107950|null      |Стоимость неотделимых улучшений объекта недвижимости            |null     |\n",
      "|1000035|Планируемый размер вознаграждения                    |5%   |107951|1586920834|Планируемый размер вознаграждения                               |null     |\n",
      "|1000036|Планируемый размер дополнительного вознаграждения    |null |107951|null      |Планируемый размер дополнительного вознаграждения               |null     |\n",
      "+-------+-----------------------------------------------------+-----+------+----------+----------------------------------------------------------------+---------+\n",
      "only showing top 10 rows\n",
      "\n"
     ]
    }
   ],
   "source": [
    "eda_df = spark.read.parquet(\"/prod/source/p24/\" + eda_table + \"/datekey=\" + sample_data_date)\n",
    "eda_df.show(10, False)"
   ]
  },
  {
   "cell_type": "markdown",
   "id": "c62a4902",
   "metadata": {},
   "source": [
    "## Show columns' properties"
   ]
  },
  {
   "cell_type": "code",
   "execution_count": 658,
   "id": "f8ff7f9c",
   "metadata": {},
   "outputs": [
    {
     "name": "stdout",
     "output_type": "stream",
     "text": [
      "Data overview\n",
      "root\n",
      " |-- id: string (nullable = true)\n",
      " |-- name: string (nullable = true)\n",
      " |-- cost: string (nullable = true)\n",
      " |-- deal: string (nullable = true)\n",
      " |-- updated: string (nullable = true)\n",
      " |-- note: string (nullable = true)\n",
      " |-- type_cost: string (nullable = true)\n",
      "\n"
     ]
    }
   ],
   "source": [
    "print('Data overview')\n",
    "eda_df.printSchema()"
   ]
  },
  {
   "cell_type": "markdown",
   "id": "04bc5dc3",
   "metadata": {},
   "source": [
    "## Total rows (count)"
   ]
  },
  {
   "cell_type": "code",
   "execution_count": 659,
   "id": "d8a63c96",
   "metadata": {},
   "outputs": [
    {
     "data": {
      "text/plain": [
       "2863029"
      ]
     },
     "execution_count": 659,
     "metadata": {},
     "output_type": "execute_result"
    }
   ],
   "source": [
    "eda_df.count()"
   ]
  },
  {
   "cell_type": "markdown",
   "id": "d6c93fce",
   "metadata": {},
   "source": [
    "## Simple func to execute and show the result of the SQL-instruction"
   ]
  },
  {
   "cell_type": "code",
   "execution_count": 660,
   "id": "29bbb505",
   "metadata": {},
   "outputs": [],
   "source": [
    "def execute(select_instruction: str = \"select count(*) from eda_sql\") -> object:\n",
    "    \"\"\"\n",
    "    Method to execute and show the result of your SQL-instruction\n",
    "    :default -> \"select count(*) from eda_sql\"\n",
    "    :param :string select_instruction: SQL statement\n",
    "    :return: result of the SQL-operation as a table\n",
    "    \"\"\"\n",
    "    return spark.sql(select_instruction).show(truncate = False)"
   ]
  },
  {
   "cell_type": "markdown",
   "id": "06551cc5",
   "metadata": {},
   "source": [
    "## Create the temp-table-view from the DF (called as \"eda_sql\")"
   ]
  },
  {
   "cell_type": "code",
   "execution_count": 661,
   "id": "673475aa",
   "metadata": {},
   "outputs": [],
   "source": [
    "eda_df.createOrReplaceTempView(\"eda_sql\")"
   ]
  },
  {
   "cell_type": "markdown",
   "id": "d98e84ed",
   "metadata": {},
   "source": [
    "## Check the method and temp-table"
   ]
  },
  {
   "cell_type": "code",
   "execution_count": 662,
   "id": "a2d571a0",
   "metadata": {},
   "outputs": [
    {
     "name": "stdout",
     "output_type": "stream",
     "text": [
      "+--------+\n",
      "|count(1)|\n",
      "+--------+\n",
      "|2863029 |\n",
      "+--------+\n",
      "\n"
     ]
    }
   ],
   "source": [
    "execute(\"select count(*) from eda_sql\")"
   ]
  },
  {
   "cell_type": "markdown",
   "id": "baeadc7c",
   "metadata": {},
   "source": [
    "## Detect missing values and abnormal zeroes and print it"
   ]
  },
  {
   "cell_type": "markdown",
   "id": "69ed9472",
   "metadata": {},
   "source": [
    "###### Check-rule Matrix\n",
    "\n",
    "\n",
    "|  Name of the rule    |Available                   \n",
    "|----------------------|-------------------------|\n",
    "|NULL/NaN/NA           |+                        |\n",
    "|'Zero'-value          |+                        |\n",
    "|'Empty-string'        |+                        |"
   ]
  },
  {
   "cell_type": "markdown",
   "id": "8bfc12ee",
   "metadata": {},
   "source": [
    "### 1st solution (PySpark & Pandas version)\n",
    "#### Max perfomance but harder to read & understand"
   ]
  },
  {
   "cell_type": "markdown",
   "id": "ceb2d291",
   "metadata": {},
   "source": [
    "##### Filter and count after - all the values in the  our EDA-DF"
   ]
  },
  {
   "cell_type": "code",
   "execution_count": 663,
   "id": "a69cc029",
   "metadata": {},
   "outputs": [
    {
     "name": "stderr",
     "output_type": "stream",
     "text": [
      "                                                                                \r"
     ]
    },
    {
     "data": {
      "text/html": [
       "<div>\n",
       "<style scoped>\n",
       "    .dataframe tbody tr th:only-of-type {\n",
       "        vertical-align: middle;\n",
       "    }\n",
       "\n",
       "    .dataframe tbody tr th {\n",
       "        vertical-align: top;\n",
       "    }\n",
       "\n",
       "    .dataframe thead th {\n",
       "        text-align: right;\n",
       "    }\n",
       "</style>\n",
       "<table border=\"1\" class=\"dataframe\">\n",
       "  <thead>\n",
       "    <tr style=\"text-align: right;\">\n",
       "      <th></th>\n",
       "      <th>id</th>\n",
       "      <th>name</th>\n",
       "      <th>cost</th>\n",
       "      <th>deal</th>\n",
       "      <th>updated</th>\n",
       "      <th>note</th>\n",
       "      <th>type_cost</th>\n",
       "    </tr>\n",
       "  </thead>\n",
       "  <tbody>\n",
       "    <tr>\n",
       "      <th>0</th>\n",
       "      <td>0</td>\n",
       "      <td>0</td>\n",
       "      <td>2161627</td>\n",
       "      <td>0</td>\n",
       "      <td>2215399</td>\n",
       "      <td>0</td>\n",
       "      <td>2859151</td>\n",
       "    </tr>\n",
       "  </tbody>\n",
       "</table>\n",
       "</div>"
      ],
      "text/plain": [
       "   id  name     cost  deal  updated  note  type_cost\n",
       "0   0     0  2161627     0  2215399     0    2859151"
      ]
     },
     "execution_count": 663,
     "metadata": {},
     "output_type": "execute_result"
    }
   ],
   "source": [
    "# NULL/NaN/NA values condition\n",
    "eda_df_null_values = eda_df.select([count(when(isnan(c) | col(c).isNull(), c)).alias(c) \\\n",
    "                                    for c in eda_df.columns]).toPandas()\n",
    "eda_df_null_values"
   ]
  },
  {
   "cell_type": "code",
   "execution_count": 664,
   "id": "e08597da",
   "metadata": {},
   "outputs": [
    {
     "name": "stderr",
     "output_type": "stream",
     "text": [
      "                                                                                \r"
     ]
    },
    {
     "data": {
      "text/html": [
       "<div>\n",
       "<style scoped>\n",
       "    .dataframe tbody tr th:only-of-type {\n",
       "        vertical-align: middle;\n",
       "    }\n",
       "\n",
       "    .dataframe tbody tr th {\n",
       "        vertical-align: top;\n",
       "    }\n",
       "\n",
       "    .dataframe thead th {\n",
       "        text-align: right;\n",
       "    }\n",
       "</style>\n",
       "<table border=\"1\" class=\"dataframe\">\n",
       "  <thead>\n",
       "    <tr style=\"text-align: right;\">\n",
       "      <th></th>\n",
       "      <th>id</th>\n",
       "      <th>name</th>\n",
       "      <th>cost</th>\n",
       "      <th>deal</th>\n",
       "      <th>updated</th>\n",
       "      <th>note</th>\n",
       "      <th>type_cost</th>\n",
       "    </tr>\n",
       "  </thead>\n",
       "  <tbody>\n",
       "    <tr>\n",
       "      <th>0</th>\n",
       "      <td>0</td>\n",
       "      <td>0</td>\n",
       "      <td>7578</td>\n",
       "      <td>0</td>\n",
       "      <td>0</td>\n",
       "      <td>0</td>\n",
       "      <td>0</td>\n",
       "    </tr>\n",
       "  </tbody>\n",
       "</table>\n",
       "</div>"
      ],
      "text/plain": [
       "   id  name  cost  deal  updated  note  type_cost\n",
       "0   0     0  7578     0        0     0          0"
      ]
     },
     "execution_count": 664,
     "metadata": {},
     "output_type": "execute_result"
    }
   ],
   "source": [
    "# Zero values condition\n",
    "eda_df_zero_values = eda_df.select([count(when(col(c) == 0, c)).alias(c) \\\n",
    "                                    for c in eda_df.columns]).toPandas()\n",
    "eda_df_zero_values"
   ]
  },
  {
   "cell_type": "code",
   "execution_count": 665,
   "id": "5a6cb426",
   "metadata": {},
   "outputs": [
    {
     "name": "stderr",
     "output_type": "stream",
     "text": [
      "                                                                                \r"
     ]
    },
    {
     "data": {
      "text/html": [
       "<div>\n",
       "<style scoped>\n",
       "    .dataframe tbody tr th:only-of-type {\n",
       "        vertical-align: middle;\n",
       "    }\n",
       "\n",
       "    .dataframe tbody tr th {\n",
       "        vertical-align: top;\n",
       "    }\n",
       "\n",
       "    .dataframe thead th {\n",
       "        text-align: right;\n",
       "    }\n",
       "</style>\n",
       "<table border=\"1\" class=\"dataframe\">\n",
       "  <thead>\n",
       "    <tr style=\"text-align: right;\">\n",
       "      <th></th>\n",
       "      <th>id</th>\n",
       "      <th>name</th>\n",
       "      <th>cost</th>\n",
       "      <th>deal</th>\n",
       "      <th>updated</th>\n",
       "      <th>note</th>\n",
       "      <th>type_cost</th>\n",
       "    </tr>\n",
       "  </thead>\n",
       "  <tbody>\n",
       "    <tr>\n",
       "      <th>0</th>\n",
       "      <td>0</td>\n",
       "      <td>0</td>\n",
       "      <td>2272</td>\n",
       "      <td>0</td>\n",
       "      <td>0</td>\n",
       "      <td>3438</td>\n",
       "      <td>0</td>\n",
       "    </tr>\n",
       "  </tbody>\n",
       "</table>\n",
       "</div>"
      ],
      "text/plain": [
       "   id  name  cost  deal  updated  note  type_cost\n",
       "0   0     0  2272     0        0  3438          0"
      ]
     },
     "execution_count": 665,
     "metadata": {},
     "output_type": "execute_result"
    }
   ],
   "source": [
    "# Empty-string values condition\n",
    "eda_df_empty_values = eda_df.select([count(when(col(c) == '', c)).alias(c) \\\n",
    "                                     for c in eda_df.columns]).toPandas()\n",
    "eda_df_empty_values"
   ]
  },
  {
   "cell_type": "code",
   "execution_count": 666,
   "id": "6e9f5025",
   "metadata": {},
   "outputs": [
    {
     "data": {
      "text/html": [
       "<div>\n",
       "<style scoped>\n",
       "    .dataframe tbody tr th:only-of-type {\n",
       "        vertical-align: middle;\n",
       "    }\n",
       "\n",
       "    .dataframe tbody tr th {\n",
       "        vertical-align: top;\n",
       "    }\n",
       "\n",
       "    .dataframe thead th {\n",
       "        text-align: right;\n",
       "    }\n",
       "</style>\n",
       "<table border=\"1\" class=\"dataframe\">\n",
       "  <thead>\n",
       "    <tr style=\"text-align: right;\">\n",
       "      <th></th>\n",
       "      <th>NULL</th>\n",
       "      <th>Zero</th>\n",
       "      <th>Empty_string</th>\n",
       "    </tr>\n",
       "  </thead>\n",
       "  <tbody>\n",
       "    <tr>\n",
       "      <th>id</th>\n",
       "      <td>0</td>\n",
       "      <td>0</td>\n",
       "      <td>0</td>\n",
       "    </tr>\n",
       "    <tr>\n",
       "      <th>name</th>\n",
       "      <td>0</td>\n",
       "      <td>0</td>\n",
       "      <td>0</td>\n",
       "    </tr>\n",
       "    <tr>\n",
       "      <th>cost</th>\n",
       "      <td>2161627</td>\n",
       "      <td>7578</td>\n",
       "      <td>2272</td>\n",
       "    </tr>\n",
       "    <tr>\n",
       "      <th>deal</th>\n",
       "      <td>0</td>\n",
       "      <td>0</td>\n",
       "      <td>0</td>\n",
       "    </tr>\n",
       "    <tr>\n",
       "      <th>updated</th>\n",
       "      <td>2215399</td>\n",
       "      <td>0</td>\n",
       "      <td>0</td>\n",
       "    </tr>\n",
       "    <tr>\n",
       "      <th>note</th>\n",
       "      <td>0</td>\n",
       "      <td>0</td>\n",
       "      <td>3438</td>\n",
       "    </tr>\n",
       "    <tr>\n",
       "      <th>type_cost</th>\n",
       "      <td>2859151</td>\n",
       "      <td>0</td>\n",
       "      <td>0</td>\n",
       "    </tr>\n",
       "  </tbody>\n",
       "</table>\n",
       "</div>"
      ],
      "text/plain": [
       "              NULL  Zero  Empty_string\n",
       "id               0     0             0\n",
       "name             0     0             0\n",
       "cost       2161627  7578          2272\n",
       "deal             0     0             0\n",
       "updated    2215399     0             0\n",
       "note             0     0          3438\n",
       "type_cost  2859151     0             0"
      ]
     },
     "execution_count": 666,
     "metadata": {},
     "output_type": "execute_result"
    }
   ],
   "source": [
    "# Unlock the limit to display all the columns\n",
    "pd.options.display.max_rows = None\n",
    "# To transpose a dataframe - use .T method\n",
    "eda_df_pandas = pd.concat([eda_df_null_values, eda_df_zero_values, eda_df_empty_values], axis = 'index').T\n",
    "# To rename columns to anything else after the transpose\n",
    "eda_df_pandas.columns = (['NULL','Zero','Empty_string'])\n",
    "eda_df_pandas"
   ]
  },
  {
   "cell_type": "code",
   "execution_count": 667,
   "id": "7b26312a",
   "metadata": {},
   "outputs": [],
   "source": [
    "def set_result_to_percent(df: object = None) -> object:\n",
    "    \"\"\"\n",
    "    Method to execute and show the result of your PandasDataFrame\n",
    "    :default -> None-object\n",
    "    :param :Pandas DF\n",
    "    :return: DF after the conversion (absolute -> percent)\n",
    "    \"\"\"\n",
    "    if df is None:\n",
    "        return \"Please incl. at least one Pandas DF as a parameter\"\n",
    "    return round(df * 100 / eda_df.count(), 3)"
   ]
  },
  {
   "cell_type": "code",
   "execution_count": 668,
   "id": "0fd205c2",
   "metadata": {},
   "outputs": [
    {
     "data": {
      "text/html": [
       "<div>\n",
       "<style scoped>\n",
       "    .dataframe tbody tr th:only-of-type {\n",
       "        vertical-align: middle;\n",
       "    }\n",
       "\n",
       "    .dataframe tbody tr th {\n",
       "        vertical-align: top;\n",
       "    }\n",
       "\n",
       "    .dataframe thead th {\n",
       "        text-align: right;\n",
       "    }\n",
       "</style>\n",
       "<table border=\"1\" class=\"dataframe\">\n",
       "  <thead>\n",
       "    <tr style=\"text-align: right;\">\n",
       "      <th></th>\n",
       "      <th>NULL</th>\n",
       "      <th>Zero</th>\n",
       "      <th>Empty_string</th>\n",
       "    </tr>\n",
       "  </thead>\n",
       "  <tbody>\n",
       "    <tr>\n",
       "      <th>id</th>\n",
       "      <td>0.000</td>\n",
       "      <td>0.000</td>\n",
       "      <td>0.000</td>\n",
       "    </tr>\n",
       "    <tr>\n",
       "      <th>name</th>\n",
       "      <td>0.000</td>\n",
       "      <td>0.000</td>\n",
       "      <td>0.000</td>\n",
       "    </tr>\n",
       "    <tr>\n",
       "      <th>cost</th>\n",
       "      <td>75.501</td>\n",
       "      <td>0.265</td>\n",
       "      <td>0.079</td>\n",
       "    </tr>\n",
       "    <tr>\n",
       "      <th>deal</th>\n",
       "      <td>0.000</td>\n",
       "      <td>0.000</td>\n",
       "      <td>0.000</td>\n",
       "    </tr>\n",
       "    <tr>\n",
       "      <th>updated</th>\n",
       "      <td>77.380</td>\n",
       "      <td>0.000</td>\n",
       "      <td>0.000</td>\n",
       "    </tr>\n",
       "    <tr>\n",
       "      <th>note</th>\n",
       "      <td>0.000</td>\n",
       "      <td>0.000</td>\n",
       "      <td>0.120</td>\n",
       "    </tr>\n",
       "    <tr>\n",
       "      <th>type_cost</th>\n",
       "      <td>99.865</td>\n",
       "      <td>0.000</td>\n",
       "      <td>0.000</td>\n",
       "    </tr>\n",
       "  </tbody>\n",
       "</table>\n",
       "</div>"
      ],
      "text/plain": [
       "             NULL   Zero  Empty_string\n",
       "id          0.000  0.000         0.000\n",
       "name        0.000  0.000         0.000\n",
       "cost       75.501  0.265         0.079\n",
       "deal        0.000  0.000         0.000\n",
       "updated    77.380  0.000         0.000\n",
       "note        0.000  0.000         0.120\n",
       "type_cost  99.865  0.000         0.000"
      ]
     },
     "execution_count": 668,
     "metadata": {},
     "output_type": "execute_result"
    }
   ],
   "source": [
    "set_result_to_percent(eda_df_pandas)"
   ]
  },
  {
   "cell_type": "markdown",
   "id": "99ca0812",
   "metadata": {},
   "source": [
    "### SQL-instructions"
   ]
  },
  {
   "cell_type": "code",
   "execution_count": 669,
   "id": "3790ddd5",
   "metadata": {},
   "outputs": [
    {
     "name": "stderr",
     "output_type": "stream",
     "text": [
      "                                                                                \r"
     ]
    },
    {
     "name": "stdout",
     "output_type": "stream",
     "text": [
      "+------------------+\n",
      "|count(DISTINCT id)|\n",
      "+------------------+\n",
      "|2863029           |\n",
      "+------------------+\n",
      "\n"
     ]
    },
    {
     "name": "stderr",
     "output_type": "stream",
     "text": [
      "                                                                                \r"
     ]
    },
    {
     "name": "stdout",
     "output_type": "stream",
     "text": [
      "+--------------------+\n",
      "|count(DISTINCT name)|\n",
      "+--------------------+\n",
      "|27                  |\n",
      "+--------------------+\n",
      "\n",
      "+--------------------+\n",
      "|count(DISTINCT cost)|\n",
      "+--------------------+\n",
      "|24578               |\n",
      "+--------------------+\n",
      "\n",
      "+--------------------+\n",
      "|count(DISTINCT deal)|\n",
      "+--------------------+\n",
      "|190817              |\n",
      "+--------------------+\n",
      "\n"
     ]
    },
    {
     "name": "stderr",
     "output_type": "stream",
     "text": [
      "                                                                                \r"
     ]
    },
    {
     "name": "stdout",
     "output_type": "stream",
     "text": [
      "+-----------------------+\n",
      "|count(DISTINCT updated)|\n",
      "+-----------------------+\n",
      "|643462                 |\n",
      "+-----------------------+\n",
      "\n",
      "+--------------------+\n",
      "|count(DISTINCT note)|\n",
      "+--------------------+\n",
      "|27                  |\n",
      "+--------------------+\n",
      "\n",
      "+-------------------------+\n",
      "|count(DISTINCT type_cost)|\n",
      "+-------------------------+\n",
      "|2                        |\n",
      "+-------------------------+\n",
      "\n"
     ]
    }
   ],
   "source": [
    "#Find dupes or misunderstanding or useless static values 3 244 006 total\n",
    "for col in eda_df.columns:\n",
    "    execute(\"select count(distinct(\"+ col + \")) from eda_sql\")"
   ]
  },
  {
   "cell_type": "code",
   "execution_count": 670,
   "id": "93a7cbf1",
   "metadata": {},
   "outputs": [],
   "source": [
    "def execute_template(column: str ='id') -> object:\n",
    "    \"\"\"\n",
    "    Method to execute and show the result of your SQL-instruction\n",
    "    :default -> \"ID incl.\"\n",
    "    :param :string select_instruction: column name\n",
    "    :return: result of the SQL-operation as a table\n",
    "    \"\"\"\n",
    "    print(execute(\"SELECT DISTINCT(\" + column + \")\\\n",
    "                FROM eda_sql\\\n",
    "                WHERE 1 = 1 \\\n",
    "                ORDER BY \" + column + \" DESC\"))\n",
    "    return execute(\"SELECT DISTINCT(\" + column + \")\\\n",
    "                    FROM eda_sql\\\n",
    "                    WHERE 1 = 1 \\\n",
    "                    ORDER BY \" + column + \" ASC\")"
   ]
  },
  {
   "cell_type": "code",
   "execution_count": 671,
   "id": "87c1d8d8",
   "metadata": {},
   "outputs": [
    {
     "name": "stderr",
     "output_type": "stream",
     "text": [
      "                                                                                \r"
     ]
    },
    {
     "name": "stdout",
     "output_type": "stream",
     "text": [
      "+------+\n",
      "|id    |\n",
      "+------+\n",
      "|999999|\n",
      "|999998|\n",
      "|999997|\n",
      "|999996|\n",
      "|999995|\n",
      "|999994|\n",
      "|999993|\n",
      "|999992|\n",
      "|999991|\n",
      "|999990|\n",
      "|99999 |\n",
      "|999989|\n",
      "|999988|\n",
      "|999987|\n",
      "|999986|\n",
      "|999985|\n",
      "|999984|\n",
      "|999983|\n",
      "|999982|\n",
      "|999981|\n",
      "+------+\n",
      "only showing top 20 rows\n",
      "\n",
      "None\n"
     ]
    },
    {
     "name": "stderr",
     "output_type": "stream",
     "text": [
      "                                                                                \r"
     ]
    },
    {
     "name": "stdout",
     "output_type": "stream",
     "text": [
      "+-------+\n",
      "|id     |\n",
      "+-------+\n",
      "|1000   |\n",
      "|10000  |\n",
      "|100000 |\n",
      "|1000000|\n",
      "|1000001|\n",
      "|1000002|\n",
      "|1000003|\n",
      "|1000004|\n",
      "|1000005|\n",
      "|1000006|\n",
      "|1000007|\n",
      "|1000008|\n",
      "|1000009|\n",
      "|100001 |\n",
      "|1000010|\n",
      "|1000011|\n",
      "|1000012|\n",
      "|1000013|\n",
      "|1000014|\n",
      "|1000015|\n",
      "+-------+\n",
      "only showing top 20 rows\n",
      "\n"
     ]
    },
    {
     "name": "stderr",
     "output_type": "stream",
     "text": [
      "                                                                                \r"
     ]
    },
    {
     "name": "stdout",
     "output_type": "stream",
     "text": [
      "+--------------------------------------------------------------+\n",
      "|name                                                          |\n",
      "+--------------------------------------------------------------+\n",
      "|Фактический размер вознаграждения по отчету                   |\n",
      "|Фактический размер вознаграждения                             |\n",
      "|Фактически полученная сумма вознаграждения                    |\n",
      "|Фактически полученная сумма                                   |\n",
      "|Уточненная (измененная) стоимость по агентскому договору      |\n",
      "|Сумма задатка по соглашению предварительного договора         |\n",
      "|Сумма аванса по соглашению, вносимого в агентство недвижимости|\n",
      "|Сумма аванса по договору о намерениях                         |\n",
      "|Сумма аванса между продавцом и покупателем                    |\n",
      "|Стоимость при заключении агентского договора                  |\n",
      "|Стоимость при заключении АД                                   |\n",
      "|Стоимость по доп. соглашению к договору                       |\n",
      "|Стоимость по доп. соглашению                                  |\n",
      "|Стоимость по ДКП                                              |\n",
      "|Стоимость неотделимых улучшений объекта недвижимости          |\n",
      "|Стоимость неотделимых улучшений                               |\n",
      "|Стоимость (формальная) по договору                            |\n",
      "|Реальная стоимость                                            |\n",
      "|Реальная (фактическая) стоимость                              |\n",
      "|Планируемый размер дополнительного вознаграждения             |\n",
      "+--------------------------------------------------------------+\n",
      "only showing top 20 rows\n",
      "\n",
      "None\n"
     ]
    },
    {
     "name": "stderr",
     "output_type": "stream",
     "text": [
      "                                                                                \r"
     ]
    },
    {
     "name": "stdout",
     "output_type": "stream",
     "text": [
      "+----------------------------------------------------------------+\n",
      "|name                                                            |\n",
      "+----------------------------------------------------------------+\n",
      "|Cумма аванса по ДНПН                                            |\n",
      "|Cумма аванса по договору о намерениях                           |\n",
      "|Cумма задатка (аванса) по соглашению к предварительному договору|\n",
      "|Cумма задатка по соглашению                                     |\n",
      "|Вознаграждение риэтора                                          |\n",
      "|Кадастровая стоимость                                           |\n",
      "|Планируемый размер вознаграждения                               |\n",
      "|Планируемый размер дополнительного вознаграждения               |\n",
      "|Реальная (фактическая) стоимость                                |\n",
      "|Реальная стоимость                                              |\n",
      "|Стоимость (формальная) по договору                              |\n",
      "|Стоимость неотделимых улучшений                                 |\n",
      "|Стоимость неотделимых улучшений объекта недвижимости            |\n",
      "|Стоимость по ДКП                                                |\n",
      "|Стоимость по доп. соглашению                                    |\n",
      "|Стоимость по доп. соглашению к договору                         |\n",
      "|Стоимость при заключении АД                                     |\n",
      "|Стоимость при заключении агентского договора                    |\n",
      "|Сумма аванса между продавцом и покупателем                      |\n",
      "|Сумма аванса по договору о намерениях                           |\n",
      "+----------------------------------------------------------------+\n",
      "only showing top 20 rows\n",
      "\n",
      "+--------------------------------------------+\n",
      "|cost                                        |\n",
      "+--------------------------------------------+\n",
      "|эквивалентна 70000 долларов                 |\n",
      "|ьипиьопр.00                                 |\n",
      "|щднеагщ.00                                  |\n",
      "|штрафные,задаток.00                         |\n",
      "|факт2170000завышаемдо2550000.00             |\n",
      "|уточнить.00                                 |\n",
      "|услуга оказывается безвозмездно             |\n",
      "|ук.00                                       |\n",
      "|у.00                                        |\n",
      "|трейд инн                                   |\n",
      "|сумма свыше 2750000                         |\n",
      "|сумма за первый месяц аренды                |\n",
      "|срахусделка.00                              |\n",
      "|сразусделкабеззадатка.00                    |\n",
      "|сразусделка.00                              |\n",
      "|сразунасделку.00                            |\n",
      "|согласовать.00                              |\n",
      "|согласно приложению 1 к настоящему Договору.|\n",
      "|совместно с агентским договором 4039214     |\n",
      "|сделкаосновная.00                           |\n",
      "+--------------------------------------------+\n",
      "only showing top 20 rows\n",
      "\n",
      "None\n",
      "+-------------+\n",
      "|cost         |\n",
      "+-------------+\n",
      "|null         |\n",
      "|             |\n",
      "|\\t2475000    |\n",
      "|\\t44525      |\n",
      "|\\t60000      |\n",
      "| \\t127209,76 |\n",
      "| \\t1315679,13|\n",
      "| \\t1622886,36|\n",
      "|       20000 |\n",
      "|    162000   |\n",
      "| 139500      |\n",
      "| 151000      |\n",
      "| 162000      |\n",
      "| 2%          |\n",
      "| 2.5%        |\n",
      "| 200000      |\n",
      "| 2430000     |\n",
      "| 2500000     |\n",
      "| 3 %         |\n",
      "| 3%          |\n",
      "+-------------+\n",
      "only showing top 20 rows\n",
      "\n",
      "+-----+\n",
      "|deal |\n",
      "+-----+\n",
      "|99999|\n",
      "|99998|\n",
      "|99997|\n",
      "|99996|\n",
      "|99995|\n",
      "|99994|\n",
      "|99993|\n",
      "|99992|\n",
      "|99991|\n",
      "|99990|\n",
      "|9999 |\n",
      "|99989|\n",
      "|99988|\n",
      "|99987|\n",
      "|99986|\n",
      "|99985|\n",
      "|99984|\n",
      "|99983|\n",
      "|99982|\n",
      "|99981|\n",
      "+-----+\n",
      "only showing top 20 rows\n",
      "\n",
      "None\n"
     ]
    },
    {
     "name": "stderr",
     "output_type": "stream",
     "text": [
      "                                                                                \r"
     ]
    },
    {
     "name": "stdout",
     "output_type": "stream",
     "text": [
      "+------+\n",
      "|deal  |\n",
      "+------+\n",
      "|100   |\n",
      "|1000  |\n",
      "|10000 |\n",
      "|100000|\n",
      "|100001|\n",
      "|100002|\n",
      "|100003|\n",
      "|100004|\n",
      "|100005|\n",
      "|100006|\n",
      "|100007|\n",
      "|100008|\n",
      "|100009|\n",
      "|10001 |\n",
      "|100010|\n",
      "|100011|\n",
      "|100012|\n",
      "|100013|\n",
      "|100014|\n",
      "|100015|\n",
      "+------+\n",
      "only showing top 20 rows\n",
      "\n",
      "+----------+\n",
      "|updated   |\n",
      "+----------+\n",
      "|1666809561|\n",
      "|1666808698|\n",
      "|1666808685|\n",
      "|1666808025|\n",
      "|1666808016|\n",
      "|1666799652|\n",
      "|1666798762|\n",
      "|1666798120|\n",
      "|1666796221|\n",
      "|1666796213|\n",
      "|1666796115|\n",
      "|1666796068|\n",
      "|1666796057|\n",
      "|1666795531|\n",
      "|1666795526|\n",
      "|1666795518|\n",
      "|1666795343|\n",
      "|1666795267|\n",
      "|1666795261|\n",
      "|1666795257|\n",
      "+----------+\n",
      "only showing top 20 rows\n",
      "\n",
      "None\n"
     ]
    },
    {
     "name": "stderr",
     "output_type": "stream",
     "text": [
      "                                                                                \r"
     ]
    },
    {
     "name": "stdout",
     "output_type": "stream",
     "text": [
      "+----------+\n",
      "|updated   |\n",
      "+----------+\n",
      "|null      |\n",
      "|1489643173|\n",
      "|1489643189|\n",
      "|1489643198|\n",
      "|1489643204|\n",
      "|1489644343|\n",
      "|1489644359|\n",
      "|1489644390|\n",
      "|1489646326|\n",
      "|1489646368|\n",
      "|1489648439|\n",
      "|1489648735|\n",
      "|1489649325|\n",
      "|1489649335|\n",
      "|1489650692|\n",
      "|1489650703|\n",
      "|1489655433|\n",
      "|1489655444|\n",
      "|1489656176|\n",
      "|1489656187|\n",
      "+----------+\n",
      "only showing top 20 rows\n",
      "\n",
      "+-------------------------------------------------------------------------------------------------------------------------------------------------------------------------------------------------------------------+\n",
      "|note                                                                                                                                                                                                               |\n",
      "+-------------------------------------------------------------------------------------------------------------------------------------------------------------------------------------------------------------------+\n",
      "|Фактический размер вознаграждения по отчету                                                                                                                                                                        |\n",
      "|Фактический размер агентского вознаграждения в агентском договоре                                                                                                                                                  |\n",
      "|Фактически полученная сумма вознаграждения                                                                                                                                                                         |\n",
      "|Фактически полученная сумма агентского вознаграждения согласно отчету об исполнении агентского договора                                                                                                            |\n",
      "|Уточненная (измененная) стоимость по агентскому договору                                                                                                                                                           |\n",
      "|Сумма задатка по соглашению предварительного договора                                                                                                                                                              |\n",
      "|Сумма задатка (аванса) по соглашению к предварительному договору                                                                                                                                                   |\n",
      "|Сумма аванса по соглашению, вносимого в агентство недвижимости                                                                                                                                                     |\n",
      "|Сумма аванса между продавцом и покупателем                                                                                                                                                                         |\n",
      "|Стоимость при заключении агентского договора                                                                                                                                                                       |\n",
      "|Стоимость по доп. соглашению к договору                                                                                                                                                                            |\n",
      "|Стоимость отчуждаемого объекта недвижимости при заключении агентского договора                                                                                                                                     |\n",
      "|Стоимость неотделимых улучшений объекта недвижимости                                                                                                                                                               |\n",
      "|Стоимость (формальная) по договору                                                                                                                                                                                 |\n",
      "|Реальная стоимость объекта недвижимости (\\n\\t\\tдолжна совпадать с «Договорная стоимость объекта недвижимости» \\n\\t\\tили «Договорная стоимость объекта недвижимости в случае заключения дополнительного соглашения»)|\n",
      "|Реальная стоимость минус стоимосмть по ДКП                                                                                                                                                                         |\n",
      "|Реальная (фактическая) стоимость                                                                                                                                                                                   |\n",
      "|Планируемый размер дополнительного вознаграждения                                                                                                                                                                  |\n",
      "|Планируемый размер вознаграждения                                                                                                                                                                                  |\n",
      "|Планируемый размер агентского вознаграждения по агентскому договору                                                                                                                                                |\n",
      "+-------------------------------------------------------------------------------------------------------------------------------------------------------------------------------------------------------------------+\n",
      "only showing top 20 rows\n",
      "\n",
      "None\n",
      "+-------------------------------------------------------------------------------------------------------------------------------------------------------------------------------------------------------------------+\n",
      "|note                                                                                                                                                                                                               |\n",
      "+-------------------------------------------------------------------------------------------------------------------------------------------------------------------------------------------------------------------+\n",
      "|                                                                                                                                                                                                                   |\n",
      "|Cумма аванса между продавцом и покупателем                                                                                                                                                                         |\n",
      "|Cумма аванса по ДНПН                                                                                                                                                                                               |\n",
      "|Cумма аванса по договору о намерениях                                                                                                                                                                              |\n",
      "|Cумма задатка (аванса) по соглашению к предварительному договору                                                                                                                                                   |\n",
      "|Cумма задатка по соглашению                                                                                                                                                                                        |\n",
      "|Кадастровая стоимость                                                                                                                                                                                              |\n",
      "|Планируемый размер агентского вознаграждения по агентскому договору                                                                                                                                                |\n",
      "|Планируемый размер вознаграждения                                                                                                                                                                                  |\n",
      "|Планируемый размер дополнительного вознаграждения                                                                                                                                                                  |\n",
      "|Реальная (фактическая) стоимость                                                                                                                                                                                   |\n",
      "|Реальная стоимость минус стоимосмть по ДКП                                                                                                                                                                         |\n",
      "|Реальная стоимость объекта недвижимости (\\n\\t\\tдолжна совпадать с «Договорная стоимость объекта недвижимости» \\n\\t\\tили «Договорная стоимость объекта недвижимости в случае заключения дополнительного соглашения»)|\n",
      "|Стоимость (формальная) по договору                                                                                                                                                                                 |\n",
      "|Стоимость неотделимых улучшений объекта недвижимости                                                                                                                                                               |\n",
      "|Стоимость отчуждаемого объекта недвижимости при заключении агентского договора                                                                                                                                     |\n",
      "|Стоимость по доп. соглашению к договору                                                                                                                                                                            |\n",
      "|Стоимость при заключении агентского договора                                                                                                                                                                       |\n",
      "|Сумма аванса между продавцом и покупателем                                                                                                                                                                         |\n",
      "|Сумма аванса по соглашению, вносимого в агентство недвижимости                                                                                                                                                     |\n",
      "+-------------------------------------------------------------------------------------------------------------------------------------------------------------------------------------------------------------------+\n",
      "only showing top 20 rows\n",
      "\n",
      "+---------+\n",
      "|type_cost|\n",
      "+---------+\n",
      "|2        |\n",
      "|1        |\n",
      "|null     |\n",
      "+---------+\n",
      "\n",
      "None\n",
      "+---------+\n",
      "|type_cost|\n",
      "+---------+\n",
      "|null     |\n",
      "|1        |\n",
      "|2        |\n",
      "+---------+\n",
      "\n"
     ]
    }
   ],
   "source": [
    "#Find dupes or misunderstanding or useless static values 3 244 006 total\n",
    "for col in eda_df.columns:\n",
    "    execute_template(col)"
   ]
  },
  {
   "cell_type": "markdown",
   "id": "a34abecb",
   "metadata": {},
   "source": [
    "## Bonus"
   ]
  },
  {
   "cell_type": "markdown",
   "id": "83df95a9",
   "metadata": {},
   "source": [
    "### 2nd solution (Cycle and variables)\n",
    "#### Slower but more simple and has more readability than the previous method "
   ]
  },
  {
   "cell_type": "markdown",
   "id": "19b4d65b",
   "metadata": {},
   "source": [
    "### Create the list of variables to re-use if needed"
   ]
  },
  {
   "cell_type": "code",
   "execution_count": null,
   "id": "c4b8e5d6",
   "metadata": {},
   "outputs": [],
   "source": [
    "useless_columns = []\n",
    "null_values = []\n",
    "zero_values = []\n",
    "empty_string = []\n",
    "col_name = []"
   ]
  },
  {
   "cell_type": "code",
   "execution_count": null,
   "id": "82a51d3d",
   "metadata": {},
   "outputs": [],
   "source": [
    "for col in eda_df.columns:\n",
    "    null = round((eda_df.filter(eda_df[col].isNull()).count()/eda_df.count())*100, 3)\n",
    "    zero = round(eda_df.filter(eda_df[col]==0).count()/eda_df.count()*100, 3)\n",
    "    empty = round(eda_df.filter(eda_df[col]=='').count()/eda_df.count()*100, 3)\n",
    "    if null in [0, 100] and zero in [0, 100] and empty in [0, 100]:\n",
    "        useless_columns.append(col)\n",
    "        continue\n",
    "    null_values.append(null)\n",
    "    zero_values.append(zero)\n",
    "    empty_string.append(empty)\n",
    "    col_name.append(col)"
   ]
  },
  {
   "cell_type": "code",
   "execution_count": null,
   "id": "6b405596",
   "metadata": {},
   "outputs": [],
   "source": [
    "zipped = list(zip(null_values, zero_values, empty_string))\n",
    "eda_df_pandas2 = pd.DataFrame(zipped, index=col_name, columns=['NULL', 'Zero', 'Empty'])\n",
    "eda_df_pandas2"
   ]
  },
  {
   "cell_type": "markdown",
   "id": "16caef6a",
   "metadata": {},
   "source": [
    "### Remove useless columns"
   ]
  },
  {
   "cell_type": "code",
   "execution_count": null,
   "id": "c1ea0350",
   "metadata": {},
   "outputs": [],
   "source": [
    "eda_df = eda_df.drop(*useless_columns)"
   ]
  },
  {
   "cell_type": "code",
   "execution_count": null,
   "id": "c8306999",
   "metadata": {},
   "outputs": [],
   "source": [
    "pd.DataFrame(eda_df.dtypes, columns = ['Column Name','Data type'])"
   ]
  },
  {
   "cell_type": "code",
   "execution_count": 653,
   "id": "89b3aa90",
   "metadata": {},
   "outputs": [
    {
     "name": "stderr",
     "output_type": "stream",
     "text": [
      "I1120 01:51:42.432068 10390 sched.cpp:2174] Asked to stop the driver\n",
      "I1120 01:51:42.432529 10528 sched.cpp:1207] Stopping framework 89161c75-8817-4ae4-ab24-cba26241d6f9-75610\n"
     ]
    }
   ],
   "source": [
    "spark.stop()"
   ]
  },
  {
   "cell_type": "code",
   "execution_count": null,
   "id": "063105aa",
   "metadata": {},
   "outputs": [],
   "source": []
  }
 ],
 "metadata": {
  "kernelspec": {
   "display_name": "jupyter_P24",
   "language": "python",
   "name": "jupyter_p24"
  },
  "language_info": {
   "codemirror_mode": {
    "name": "ipython",
    "version": 3
   },
   "file_extension": ".py",
   "mimetype": "text/x-python",
   "name": "python",
   "nbconvert_exporter": "python",
   "pygments_lexer": "ipython3",
   "version": "3.9.13"
  }
 },
 "nbformat": 4,
 "nbformat_minor": 5
}
