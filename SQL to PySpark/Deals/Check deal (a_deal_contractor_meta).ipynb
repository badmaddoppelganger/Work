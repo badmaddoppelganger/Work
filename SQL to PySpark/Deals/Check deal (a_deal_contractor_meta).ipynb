{
 "cells": [
  {
   "cell_type": "markdown",
   "id": "93ca94f4",
   "metadata": {},
   "source": [
    "# Tech Intro"
   ]
  },
  {
   "cell_type": "markdown",
   "id": "2fce20ac",
   "metadata": {},
   "source": [
    "## Main tables"
   ]
  },
  {
   "cell_type": "code",
   "execution_count": 770,
   "id": "e46f86d7",
   "metadata": {},
   "outputs": [],
   "source": [
    "# Real Estate's objects\n",
    "real_estate_list: list = [\n",
    "    'ag_object',\n",
    "    'ag_parse_ad',\n",
    "    'ag_lead_object',\n",
    "    'ag_presentation_object',\n",
    "    'ag_object_platform',\n",
    "    'ag_posting_ad_realty',\n",
    "    'native_realty_filial',\n",
    "    'foreign_realty_filial',\n",
    "    'spr_metro',\n",
    "    'spr_metro_connection',\n",
    "    'ag_object_parking']\n",
    "# Lead's objects\n",
    "lead_list: list = [\n",
    "    'leads',\n",
    "    'lead_utm',\n",
    "    'client_wishes',\n",
    "    'leads_email_order',\n",
    "    'request_from_site',\n",
    "    'lead_finance',\n",
    "    'leads_source_spr',\n",
    "    'leads_calls_connection',\n",
    "    'leads_pipeline',\n",
    "    'leads_not_implemented_reason',\n",
    "    'leads_status',\n",
    "    'ag_pipeline',\n",
    "    'ag_pipeline_status',\n",
    "    'leads_meta',\n",
    "    'leads_meta_fields',\n",
    "    'leads_meta_group',\n",
    "    'leads_contacts_connect',\n",
    "    'leads_contact',\n",
    "    'leads_contact_meta',\n",
    "    'leads_contact_meta_fields']\n",
    "# Deal's objects\n",
    "deal_list: list = [\n",
    "    # Deal\n",
    "    'a_deal',\n",
    "    'a_deal_meta',\n",
    "    'deal_passport',\n",
    "    'a_deal_finance',\n",
    "    'a_deal_check',\n",
    "    'a_deal_test',\n",
    "    # Contractor\n",
    "    'a_contractor',\n",
    "    'a_contractor_meta',\n",
    "    'a_deal_contractor',\n",
    "    'a_deal_contractor_meta',\n",
    "    # Object\n",
    "    'a_object',\n",
    "    'a_object_meta',\n",
    "    'a_deal_object']"
   ]
  },
  {
   "cell_type": "markdown",
   "id": "86c6ee69",
   "metadata": {},
   "source": [
    "## Main Variables"
   ]
  },
  {
   "cell_type": "code",
   "execution_count": 771,
   "id": "f9fb4d41",
   "metadata": {},
   "outputs": [],
   "source": [
    "# Address and name of your notebook\n",
    "venv_path = \"/home/bigdata/a.umarov/jupyter_P24\"\n",
    "# Exploratory Data Analysis(EDA) table (eda_table)\n",
    "eda_table = deal_list[9] # You can generate full-EDA cycle if you want through the all of tables\n",
    "                                # Just iterate it !\n",
    "# Exploratory Data Analysis(EDA) obj as PySpark DataFrame\n",
    "eda_df = None\n",
    "# Set the date of checking\n",
    "sample_data_date = '20221027'"
   ]
  },
  {
   "cell_type": "markdown",
   "id": "79cec746",
   "metadata": {},
   "source": [
    "## Useful command and modules (can be transform into the 'importlib'- smart import logic)"
   ]
  },
  {
   "cell_type": "code",
   "execution_count": 772,
   "id": "19563688",
   "metadata": {},
   "outputs": [
    {
     "name": "stderr",
     "output_type": "stream",
     "text": [
      "W1120 02:18:36.557492 10390 process.cpp:2877] Attempted to spawn already running process version@10.62.4.11:44708\n",
      "I1120 02:18:36.558382 38323 sched.cpp:241] Version: 1.11.0\n",
      "I1120 02:18:36.558701 10570 sched.cpp:345] New master detected at master@10.62.4.8:5050\n",
      "I1120 02:18:36.558780 10570 sched.cpp:365] No credentials provided. Attempting to register without authentication\n",
      "I1120 02:18:36.560081 10554 sched.cpp:753] Framework registered with 89161c75-8817-4ae4-ab24-cba26241d6f9-75624\n"
     ]
    }
   ],
   "source": [
    "import os\n",
    "import pandas as pd\n",
    "# To data analyze need the module\n",
    "import pyspark.pandas as ps\n",
    "os.environ[\"PYSPARK_PYTHON\"] = f\"{venv_path}/bin/python3\"\n",
    "os.environ[\"PYSPARK_DRIVER_PYTHON\"] = f\"{venv_path}/bin/python3\"\n",
    "\n",
    "import findspark\n",
    "findspark.init(\"/opt/dev/spark/spark\")\n",
    " \n",
    "from pyspark import SparkContext, SparkConf\n",
    "from pyspark.sql import SparkSession, SQLContext, DataFrameNaFunctions, \\\n",
    "                        Window, DataFrame, DataFrameStatFunctions, \\\n",
    "                        Column, Row, GroupedData, functions, types\n",
    "from pyspark.sql.functions import isnan, when, count, col\n",
    "\n",
    "\n",
    "conf = SparkConf().setAppName(\"get_info_from_\" + eda_table + \"_table\")\n",
    "sc = SparkContext(conf=conf)\n",
    "sc.setLogLevel(\"ERROR\")\n",
    "spark = SparkSession(sc)"
   ]
  },
  {
   "cell_type": "markdown",
   "id": "025c6aa9",
   "metadata": {},
   "source": [
    "## Read the spec-file from Hadoop and show some data sample"
   ]
  },
  {
   "cell_type": "code",
   "execution_count": 773,
   "id": "578e3061",
   "metadata": {
    "scrolled": true
   },
   "outputs": [
    {
     "name": "stderr",
     "output_type": "stream",
     "text": [
      "[Stage 2:============================================>              (3 + 1) / 4]\r"
     ]
    },
    {
     "name": "stdout",
     "output_type": "stream",
     "text": [
      "+-------+---------------+-------------------------------------------------------+------------------------------------------------------------------------------------------------------------------------------------------------------------------------------------+--------------------+\n",
      "|id     |deal_contractor|key                                                    |value                                                                                                                                                                               |updated             |\n",
      "+-------+---------------+-------------------------------------------------------+------------------------------------------------------------------------------------------------------------------------------------------------------------------------------------+--------------------+\n",
      "|1000005|176201         |Документ, на основании которого действует представитель|                                                                                                                                                                                    |2020-12-11T09:05:03Z|\n",
      "|1000006|176202         |Является представителем                                |--НЕТ--                                                                                                                                                                             |2020-12-11T09:05:03Z|\n",
      "|1000008|176202         |Документ, на основании которого действует представитель|                                                                                                                                                                                    |2020-12-11T09:05:03Z|\n",
      "|100002 |27025          |Вид представительства                                  |                                                                                                                                                                                    |2018-10-03T10:50:51Z|\n",
      "|1000022|203025         |Вид представительства                                  |                                                                                                                                                                                    |2020-12-11T09:07:49Z|\n",
      "|1000030|203027         |Является представителем                                |--НЕТ--                                                                                                                                                                             |2020-12-11T09:16:05Z|\n",
      "|1000087|203029         |Является представителем                                |--НЕТ--                                                                                                                                                                             |2020-12-11T09:33:08Z|\n",
      "|1000092|203036         |Документ, на основании которого действует представитель|Доверенности от 25.11.2020, удостоверенной Бигловой Н.Х., врио нотариуса Евстафьевой Р.И. нотариального округа город Уфа Республики Башкортостан, реестровый № 03/90-н/03-2020-8-876|2020-12-11T09:33:21Z|\n",
      "|10001  |2260           |Является представителем                                |--НЕТ--                                                                                                                                                                             |2017-04-25T12:09:32Z|\n",
      "|1000100|203039         |Вид представительства                                  |                                                                                                                                                                                    |2020-12-11T09:36:58Z|\n",
      "+-------+---------------+-------------------------------------------------------+------------------------------------------------------------------------------------------------------------------------------------------------------------------------------------+--------------------+\n",
      "only showing top 10 rows\n",
      "\n"
     ]
    },
    {
     "name": "stderr",
     "output_type": "stream",
     "text": [
      "                                                                                \r"
     ]
    }
   ],
   "source": [
    "eda_df = spark.read.parquet(\"/prod/source/p24/\" + eda_table + \"/datekey=\" + sample_data_date)\n",
    "eda_df.show(10, False)"
   ]
  },
  {
   "cell_type": "markdown",
   "id": "c62a4902",
   "metadata": {},
   "source": [
    "## Show columns' properties"
   ]
  },
  {
   "cell_type": "code",
   "execution_count": 774,
   "id": "f8ff7f9c",
   "metadata": {},
   "outputs": [
    {
     "name": "stdout",
     "output_type": "stream",
     "text": [
      "Data overview\n",
      "root\n",
      " |-- id: string (nullable = true)\n",
      " |-- deal_contractor: string (nullable = true)\n",
      " |-- key: string (nullable = true)\n",
      " |-- value: string (nullable = true)\n",
      " |-- updated: string (nullable = true)\n",
      "\n"
     ]
    }
   ],
   "source": [
    "print('Data overview')\n",
    "eda_df.printSchema()"
   ]
  },
  {
   "cell_type": "markdown",
   "id": "04bc5dc3",
   "metadata": {},
   "source": [
    "## Total rows (count)"
   ]
  },
  {
   "cell_type": "code",
   "execution_count": 775,
   "id": "d8a63c96",
   "metadata": {},
   "outputs": [
    {
     "data": {
      "text/plain": [
       "1103153"
      ]
     },
     "execution_count": 775,
     "metadata": {},
     "output_type": "execute_result"
    }
   ],
   "source": [
    "eda_df.count()"
   ]
  },
  {
   "cell_type": "markdown",
   "id": "d6c93fce",
   "metadata": {},
   "source": [
    "## Simple func to execute and show the result of the SQL-instruction"
   ]
  },
  {
   "cell_type": "code",
   "execution_count": 776,
   "id": "29bbb505",
   "metadata": {},
   "outputs": [],
   "source": [
    "def execute(select_instruction: str = \"select count(*) from eda_sql\") -> object:\n",
    "    \"\"\"\n",
    "    Method to execute and show the result of your SQL-instruction\n",
    "    :default -> \"select count(*) from eda_sql\"\n",
    "    :param :string select_instruction: SQL statement\n",
    "    :return: result of the SQL-operation as a table\n",
    "    \"\"\"\n",
    "    return spark.sql(select_instruction).show(truncate = False)"
   ]
  },
  {
   "cell_type": "markdown",
   "id": "06551cc5",
   "metadata": {},
   "source": [
    "## Create the temp-table-view from the DF (called as \"eda_sql\")"
   ]
  },
  {
   "cell_type": "code",
   "execution_count": 777,
   "id": "673475aa",
   "metadata": {},
   "outputs": [],
   "source": [
    "eda_df.createOrReplaceTempView(\"eda_sql\")"
   ]
  },
  {
   "cell_type": "markdown",
   "id": "d98e84ed",
   "metadata": {},
   "source": [
    "## Check the method and temp-table"
   ]
  },
  {
   "cell_type": "code",
   "execution_count": 778,
   "id": "a2d571a0",
   "metadata": {},
   "outputs": [
    {
     "name": "stdout",
     "output_type": "stream",
     "text": [
      "+--------+\n",
      "|count(1)|\n",
      "+--------+\n",
      "|1103153 |\n",
      "+--------+\n",
      "\n"
     ]
    }
   ],
   "source": [
    "execute(\"select count(*) from eda_sql\")"
   ]
  },
  {
   "cell_type": "markdown",
   "id": "baeadc7c",
   "metadata": {},
   "source": [
    "## Detect missing values and abnormal zeroes and print it"
   ]
  },
  {
   "cell_type": "markdown",
   "id": "69ed9472",
   "metadata": {},
   "source": [
    "###### Check-rule Matrix\n",
    "\n",
    "\n",
    "|  Name of the rule    |Available                   \n",
    "|----------------------|-------------------------|\n",
    "|NULL/NaN/NA           |+                        |\n",
    "|'Zero'-value          |+                        |\n",
    "|'Empty-string'        |+                        |"
   ]
  },
  {
   "cell_type": "markdown",
   "id": "8bfc12ee",
   "metadata": {},
   "source": [
    "### 1st solution (PySpark & Pandas version)\n",
    "#### Max perfomance but harder to read & understand"
   ]
  },
  {
   "cell_type": "markdown",
   "id": "ceb2d291",
   "metadata": {},
   "source": [
    "##### Filter and count after - all the values in the  our EDA-DF"
   ]
  },
  {
   "cell_type": "code",
   "execution_count": 779,
   "id": "a69cc029",
   "metadata": {},
   "outputs": [
    {
     "name": "stderr",
     "output_type": "stream",
     "text": [
      "                                                                                \r"
     ]
    },
    {
     "data": {
      "text/html": [
       "<div>\n",
       "<style scoped>\n",
       "    .dataframe tbody tr th:only-of-type {\n",
       "        vertical-align: middle;\n",
       "    }\n",
       "\n",
       "    .dataframe tbody tr th {\n",
       "        vertical-align: top;\n",
       "    }\n",
       "\n",
       "    .dataframe thead th {\n",
       "        text-align: right;\n",
       "    }\n",
       "</style>\n",
       "<table border=\"1\" class=\"dataframe\">\n",
       "  <thead>\n",
       "    <tr style=\"text-align: right;\">\n",
       "      <th></th>\n",
       "      <th>id</th>\n",
       "      <th>deal_contractor</th>\n",
       "      <th>key</th>\n",
       "      <th>value</th>\n",
       "      <th>updated</th>\n",
       "    </tr>\n",
       "  </thead>\n",
       "  <tbody>\n",
       "    <tr>\n",
       "      <th>0</th>\n",
       "      <td>0</td>\n",
       "      <td>0</td>\n",
       "      <td>0</td>\n",
       "      <td>37</td>\n",
       "      <td>0</td>\n",
       "    </tr>\n",
       "  </tbody>\n",
       "</table>\n",
       "</div>"
      ],
      "text/plain": [
       "   id  deal_contractor  key  value  updated\n",
       "0   0                0    0     37        0"
      ]
     },
     "execution_count": 779,
     "metadata": {},
     "output_type": "execute_result"
    }
   ],
   "source": [
    "# NULL/NaN/NA values condition\n",
    "eda_df_null_values = eda_df.select([count(when(isnan(c) | col(c).isNull(), c)).alias(c) \\\n",
    "                                    for c in eda_df.columns]).toPandas()\n",
    "eda_df_null_values"
   ]
  },
  {
   "cell_type": "code",
   "execution_count": 780,
   "id": "e08597da",
   "metadata": {},
   "outputs": [
    {
     "data": {
      "text/html": [
       "<div>\n",
       "<style scoped>\n",
       "    .dataframe tbody tr th:only-of-type {\n",
       "        vertical-align: middle;\n",
       "    }\n",
       "\n",
       "    .dataframe tbody tr th {\n",
       "        vertical-align: top;\n",
       "    }\n",
       "\n",
       "    .dataframe thead th {\n",
       "        text-align: right;\n",
       "    }\n",
       "</style>\n",
       "<table border=\"1\" class=\"dataframe\">\n",
       "  <thead>\n",
       "    <tr style=\"text-align: right;\">\n",
       "      <th></th>\n",
       "      <th>id</th>\n",
       "      <th>deal_contractor</th>\n",
       "      <th>key</th>\n",
       "      <th>value</th>\n",
       "      <th>updated</th>\n",
       "    </tr>\n",
       "  </thead>\n",
       "  <tbody>\n",
       "    <tr>\n",
       "      <th>0</th>\n",
       "      <td>0</td>\n",
       "      <td>0</td>\n",
       "      <td>0</td>\n",
       "      <td>0</td>\n",
       "      <td>0</td>\n",
       "    </tr>\n",
       "  </tbody>\n",
       "</table>\n",
       "</div>"
      ],
      "text/plain": [
       "   id  deal_contractor  key  value  updated\n",
       "0   0                0    0      0        0"
      ]
     },
     "execution_count": 780,
     "metadata": {},
     "output_type": "execute_result"
    }
   ],
   "source": [
    "# Zero values condition\n",
    "eda_df_zero_values = eda_df.select([count(when(col(c) == 0, c)).alias(c) \\\n",
    "                                    for c in eda_df.columns]).toPandas()\n",
    "eda_df_zero_values"
   ]
  },
  {
   "cell_type": "code",
   "execution_count": 781,
   "id": "5a6cb426",
   "metadata": {},
   "outputs": [
    {
     "data": {
      "text/html": [
       "<div>\n",
       "<style scoped>\n",
       "    .dataframe tbody tr th:only-of-type {\n",
       "        vertical-align: middle;\n",
       "    }\n",
       "\n",
       "    .dataframe tbody tr th {\n",
       "        vertical-align: top;\n",
       "    }\n",
       "\n",
       "    .dataframe thead th {\n",
       "        text-align: right;\n",
       "    }\n",
       "</style>\n",
       "<table border=\"1\" class=\"dataframe\">\n",
       "  <thead>\n",
       "    <tr style=\"text-align: right;\">\n",
       "      <th></th>\n",
       "      <th>id</th>\n",
       "      <th>deal_contractor</th>\n",
       "      <th>key</th>\n",
       "      <th>value</th>\n",
       "      <th>updated</th>\n",
       "    </tr>\n",
       "  </thead>\n",
       "  <tbody>\n",
       "    <tr>\n",
       "      <th>0</th>\n",
       "      <td>0</td>\n",
       "      <td>0</td>\n",
       "      <td>0</td>\n",
       "      <td>698897</td>\n",
       "      <td>0</td>\n",
       "    </tr>\n",
       "  </tbody>\n",
       "</table>\n",
       "</div>"
      ],
      "text/plain": [
       "   id  deal_contractor  key   value  updated\n",
       "0   0                0    0  698897        0"
      ]
     },
     "execution_count": 781,
     "metadata": {},
     "output_type": "execute_result"
    }
   ],
   "source": [
    "# Empty-string values condition\n",
    "eda_df_empty_values = eda_df.select([count(when(col(c) == '', c)).alias(c) \\\n",
    "                                     for c in eda_df.columns]).toPandas()\n",
    "eda_df_empty_values"
   ]
  },
  {
   "cell_type": "code",
   "execution_count": 782,
   "id": "6e9f5025",
   "metadata": {},
   "outputs": [
    {
     "data": {
      "text/html": [
       "<div>\n",
       "<style scoped>\n",
       "    .dataframe tbody tr th:only-of-type {\n",
       "        vertical-align: middle;\n",
       "    }\n",
       "\n",
       "    .dataframe tbody tr th {\n",
       "        vertical-align: top;\n",
       "    }\n",
       "\n",
       "    .dataframe thead th {\n",
       "        text-align: right;\n",
       "    }\n",
       "</style>\n",
       "<table border=\"1\" class=\"dataframe\">\n",
       "  <thead>\n",
       "    <tr style=\"text-align: right;\">\n",
       "      <th></th>\n",
       "      <th>NULL</th>\n",
       "      <th>Zero</th>\n",
       "      <th>Empty_string</th>\n",
       "    </tr>\n",
       "  </thead>\n",
       "  <tbody>\n",
       "    <tr>\n",
       "      <th>id</th>\n",
       "      <td>0</td>\n",
       "      <td>0</td>\n",
       "      <td>0</td>\n",
       "    </tr>\n",
       "    <tr>\n",
       "      <th>deal_contractor</th>\n",
       "      <td>0</td>\n",
       "      <td>0</td>\n",
       "      <td>0</td>\n",
       "    </tr>\n",
       "    <tr>\n",
       "      <th>key</th>\n",
       "      <td>0</td>\n",
       "      <td>0</td>\n",
       "      <td>0</td>\n",
       "    </tr>\n",
       "    <tr>\n",
       "      <th>value</th>\n",
       "      <td>37</td>\n",
       "      <td>0</td>\n",
       "      <td>698897</td>\n",
       "    </tr>\n",
       "    <tr>\n",
       "      <th>updated</th>\n",
       "      <td>0</td>\n",
       "      <td>0</td>\n",
       "      <td>0</td>\n",
       "    </tr>\n",
       "  </tbody>\n",
       "</table>\n",
       "</div>"
      ],
      "text/plain": [
       "                 NULL  Zero  Empty_string\n",
       "id                  0     0             0\n",
       "deal_contractor     0     0             0\n",
       "key                 0     0             0\n",
       "value              37     0        698897\n",
       "updated             0     0             0"
      ]
     },
     "execution_count": 782,
     "metadata": {},
     "output_type": "execute_result"
    }
   ],
   "source": [
    "# Unlock the limit to display all the columns\n",
    "pd.options.display.max_rows = None\n",
    "# To transpose a dataframe - use .T method\n",
    "eda_df_pandas = pd.concat([eda_df_null_values, eda_df_zero_values, eda_df_empty_values], axis = 'index').T\n",
    "# To rename columns to anything else after the transpose\n",
    "eda_df_pandas.columns = (['NULL','Zero','Empty_string'])\n",
    "eda_df_pandas"
   ]
  },
  {
   "cell_type": "code",
   "execution_count": 783,
   "id": "7b26312a",
   "metadata": {},
   "outputs": [],
   "source": [
    "def set_result_to_percent(df: object = None) -> object:\n",
    "    \"\"\"\n",
    "    Method to execute and show the result of your PandasDataFrame\n",
    "    :default -> None-object\n",
    "    :param :Pandas DF\n",
    "    :return: DF after the conversion (absolute -> percent)\n",
    "    \"\"\"\n",
    "    if df is None:\n",
    "        return \"Please incl. at least one Pandas DF as a parameter\"\n",
    "    return round(df * 100 / eda_df.count(), 3)"
   ]
  },
  {
   "cell_type": "code",
   "execution_count": 784,
   "id": "0fd205c2",
   "metadata": {},
   "outputs": [
    {
     "data": {
      "text/html": [
       "<div>\n",
       "<style scoped>\n",
       "    .dataframe tbody tr th:only-of-type {\n",
       "        vertical-align: middle;\n",
       "    }\n",
       "\n",
       "    .dataframe tbody tr th {\n",
       "        vertical-align: top;\n",
       "    }\n",
       "\n",
       "    .dataframe thead th {\n",
       "        text-align: right;\n",
       "    }\n",
       "</style>\n",
       "<table border=\"1\" class=\"dataframe\">\n",
       "  <thead>\n",
       "    <tr style=\"text-align: right;\">\n",
       "      <th></th>\n",
       "      <th>NULL</th>\n",
       "      <th>Zero</th>\n",
       "      <th>Empty_string</th>\n",
       "    </tr>\n",
       "  </thead>\n",
       "  <tbody>\n",
       "    <tr>\n",
       "      <th>id</th>\n",
       "      <td>0.000</td>\n",
       "      <td>0.0</td>\n",
       "      <td>0.000</td>\n",
       "    </tr>\n",
       "    <tr>\n",
       "      <th>deal_contractor</th>\n",
       "      <td>0.000</td>\n",
       "      <td>0.0</td>\n",
       "      <td>0.000</td>\n",
       "    </tr>\n",
       "    <tr>\n",
       "      <th>key</th>\n",
       "      <td>0.000</td>\n",
       "      <td>0.0</td>\n",
       "      <td>0.000</td>\n",
       "    </tr>\n",
       "    <tr>\n",
       "      <th>value</th>\n",
       "      <td>0.003</td>\n",
       "      <td>0.0</td>\n",
       "      <td>63.354</td>\n",
       "    </tr>\n",
       "    <tr>\n",
       "      <th>updated</th>\n",
       "      <td>0.000</td>\n",
       "      <td>0.0</td>\n",
       "      <td>0.000</td>\n",
       "    </tr>\n",
       "  </tbody>\n",
       "</table>\n",
       "</div>"
      ],
      "text/plain": [
       "                  NULL  Zero  Empty_string\n",
       "id               0.000   0.0         0.000\n",
       "deal_contractor  0.000   0.0         0.000\n",
       "key              0.000   0.0         0.000\n",
       "value            0.003   0.0        63.354\n",
       "updated          0.000   0.0         0.000"
      ]
     },
     "execution_count": 784,
     "metadata": {},
     "output_type": "execute_result"
    }
   ],
   "source": [
    "set_result_to_percent(eda_df_pandas)"
   ]
  },
  {
   "cell_type": "markdown",
   "id": "99ca0812",
   "metadata": {},
   "source": [
    "### SQL-instructions"
   ]
  },
  {
   "cell_type": "code",
   "execution_count": 785,
   "id": "3790ddd5",
   "metadata": {},
   "outputs": [
    {
     "name": "stderr",
     "output_type": "stream",
     "text": [
      "                                                                                \r"
     ]
    },
    {
     "name": "stdout",
     "output_type": "stream",
     "text": [
      "+------------------+\n",
      "|count(DISTINCT id)|\n",
      "+------------------+\n",
      "|1103153           |\n",
      "+------------------+\n",
      "\n"
     ]
    },
    {
     "name": "stderr",
     "output_type": "stream",
     "text": [
      "                                                                                \r"
     ]
    },
    {
     "name": "stdout",
     "output_type": "stream",
     "text": [
      "+-------------------------------+\n",
      "|count(DISTINCT deal_contractor)|\n",
      "+-------------------------------+\n",
      "|367613                         |\n",
      "+-------------------------------+\n",
      "\n",
      "+-------------------+\n",
      "|count(DISTINCT key)|\n",
      "+-------------------+\n",
      "|3                  |\n",
      "+-------------------+\n",
      "\n",
      "+---------------------+\n",
      "|count(DISTINCT value)|\n",
      "+---------------------+\n",
      "|30001                |\n",
      "+---------------------+\n",
      "\n",
      "+-----------------------+\n",
      "|count(DISTINCT updated)|\n",
      "+-----------------------+\n",
      "|303486                 |\n",
      "+-----------------------+\n",
      "\n"
     ]
    }
   ],
   "source": [
    "#Find dupes or misunderstanding or useless static values 3 244 006 total\n",
    "for col in eda_df.columns:\n",
    "    execute(\"select count(distinct(\"+ col + \")) from eda_sql\")"
   ]
  },
  {
   "cell_type": "code",
   "execution_count": 786,
   "id": "51d2cb62",
   "metadata": {},
   "outputs": [],
   "source": [
    "def execute_template(column: str ='id') -> object:\n",
    "    \"\"\"\n",
    "    Method to execute and show the result of your SQL-instruction\n",
    "    :default -> \"ID incl.\"\n",
    "    :param :string select_instruction: column name\n",
    "    :return: result of the SQL-operation as a table\n",
    "    \"\"\"\n",
    "    print(execute(\"SELECT DISTINCT(\" + column + \")\\\n",
    "                FROM eda_sql\\\n",
    "                WHERE 1 = 1 \\\n",
    "                ORDER BY \" + column + \" DESC\"))\n",
    "    return execute(\"SELECT DISTINCT(\" + column + \")\\\n",
    "                    FROM eda_sql\\\n",
    "                    WHERE 1 = 1 \\\n",
    "                    ORDER BY \" + column + \" ASC\")"
   ]
  },
  {
   "cell_type": "code",
   "execution_count": 787,
   "id": "87c1d8d8",
   "metadata": {},
   "outputs": [
    {
     "name": "stderr",
     "output_type": "stream",
     "text": [
      "                                                                                \r"
     ]
    },
    {
     "name": "stdout",
     "output_type": "stream",
     "text": [
      "+------+\n",
      "|id    |\n",
      "+------+\n",
      "|999999|\n",
      "|999998|\n",
      "|999997|\n",
      "|999990|\n",
      "|99999 |\n",
      "|999989|\n",
      "|999988|\n",
      "|999987|\n",
      "|999986|\n",
      "|999985|\n",
      "|999984|\n",
      "|999983|\n",
      "|999982|\n",
      "|999981|\n",
      "|999980|\n",
      "|99998 |\n",
      "|999979|\n",
      "|999978|\n",
      "|999977|\n",
      "|999976|\n",
      "+------+\n",
      "only showing top 20 rows\n",
      "\n",
      "None\n",
      "+-------+\n",
      "|id     |\n",
      "+-------+\n",
      "|10000  |\n",
      "|100000 |\n",
      "|1000000|\n",
      "|1000001|\n",
      "|1000002|\n",
      "|1000003|\n",
      "|1000004|\n",
      "|1000005|\n",
      "|1000006|\n",
      "|1000007|\n",
      "|1000008|\n",
      "|1000009|\n",
      "|100001 |\n",
      "|1000010|\n",
      "|1000011|\n",
      "|1000015|\n",
      "|1000016|\n",
      "|1000017|\n",
      "|100002 |\n",
      "|1000021|\n",
      "+-------+\n",
      "only showing top 20 rows\n",
      "\n",
      "+---------------+\n",
      "|deal_contractor|\n",
      "+---------------+\n",
      "|99999          |\n",
      "|99998          |\n",
      "|99997          |\n",
      "|99996          |\n",
      "|99995          |\n",
      "|99994          |\n",
      "|99993          |\n",
      "|99992          |\n",
      "|99991          |\n",
      "|9999           |\n",
      "|99989          |\n",
      "|99988          |\n",
      "|99987          |\n",
      "|99986          |\n",
      "|99985          |\n",
      "|99984          |\n",
      "|99983          |\n",
      "|99981          |\n",
      "|99980          |\n",
      "|99979          |\n",
      "+---------------+\n",
      "only showing top 20 rows\n",
      "\n",
      "None\n",
      "+---------------+\n",
      "|deal_contractor|\n",
      "+---------------+\n",
      "|100            |\n",
      "|1000           |\n",
      "|10000          |\n",
      "|100000         |\n",
      "|100001         |\n",
      "|100002         |\n",
      "|100003         |\n",
      "|100004         |\n",
      "|100005         |\n",
      "|100006         |\n",
      "|100007         |\n",
      "|100008         |\n",
      "|100009         |\n",
      "|10001          |\n",
      "|100010         |\n",
      "|100011         |\n",
      "|100012         |\n",
      "|100013         |\n",
      "|100014         |\n",
      "|100015         |\n",
      "+---------------+\n",
      "only showing top 20 rows\n",
      "\n",
      "+-------------------------------------------------------+\n",
      "|key                                                    |\n",
      "+-------------------------------------------------------+\n",
      "|Является представителем                                |\n",
      "|Документ, на основании которого действует представитель|\n",
      "|Вид представительства                                  |\n",
      "+-------------------------------------------------------+\n",
      "\n",
      "None\n",
      "+-------------------------------------------------------+\n",
      "|key                                                    |\n",
      "+-------------------------------------------------------+\n",
      "|Вид представительства                                  |\n",
      "|Документ, на основании которого действует представитель|\n",
      "|Является представителем                                |\n",
      "+-------------------------------------------------------+\n",
      "\n",
      "+------------------------------------------------------------------------------------------------------------------------------------------------------------------------------------------------+\n",
      "|value                                                                                                                                                                                           |\n",
      "+------------------------------------------------------------------------------------------------------------------------------------------------------------------------------------------------+\n",
      "|№Д/6-3618                                                                                                                                                                                       |\n",
      "|№86/86-н/36-2021-4-1759 от 06.12.2021, удостоверенной Бахваловым Николаем Васильевичем, нотариусом нотариального округа город Сургут Ханты-Мансийского автономного округа-Югры Тюменской бласти.|\n",
      "|№5Д-1683                                                                                                                                                                                        |\n",
      "|№55/122-н/55-2020-3-180                                                                                                                                                                         |\n",
      "|№1205 от 24.07.1997 года,                                                                                                                                                                       |\n",
      "|№03/221-н/03-2021-2-1101 от 17.05.2021г., удостоверенная Митюковой А.Р. нотариусом нотариального округа Мелеузовский район и город Мелеуз Республики Башкортостан                               |\n",
      "|№ FF 192873 от 01.03.2017 г. нотариусом Штата Флорида, США Татьяной Козырь                                                                                                                      |\n",
      "|№ 78/1-н/78-2021-12-26 от 20.06.2021                                                                                                                                                            |\n",
      "|№ 77/1458-н/77-2022-3-1397 от 13.07.2022 нотариус г. Москвы Шебзухов Ахмед Мухарбекович                                                                                                         |\n",
      "|№ 03/236-н/03-2018-4-1315 от 05.09.2018                                                                                                                                                         |\n",
      "|№ 03/145-н/03-2021-1-1977 от 25.08.2021                                                                                                                                                         |\n",
      "|устное поручение                                                                                                                                                                                |\n",
      "|устного поручения                                                                                                                                                                               |\n",
      "|устава                                                                                                                                                                                          |\n",
      "|устава                                                                                                                                                                                          |\n",
      "|указанного свидетельства о рождении                                                                                                                                                             |\n",
      "|указанного свидетельства                                                                                                                                                                        |\n",
      "|указанного Свидетельсьва о рождении                                                                                                                                                             |\n",
      "|указанного Свидетельства о рождении.                                                                                                                                                            |\n",
      "|указанного Свидетельства о рождении                                                                                                                                                             |\n",
      "+------------------------------------------------------------------------------------------------------------------------------------------------------------------------------------------------+\n",
      "only showing top 20 rows\n",
      "\n",
      "None\n",
      "+--------------------------------------------------------------------------------------------------------------------------------------------------------------------------------------------------------------------------+\n",
      "|value                                                                                                                                                                                                                     |\n",
      "+--------------------------------------------------------------------------------------------------------------------------------------------------------------------------------------------------------------------------+\n",
      "|null                                                                                                                                                                                                                      |\n",
      "|                                                                                                                                                                                                                          |\n",
      "|\\t Свидетельства о рождении                                                                                                                                                                                               |\n",
      "|\\t Свидетельства о рождении I-HA №893550 выдан 08.09.2015 года отделом ЗАГС администрации г. Коврова Владимирской области                                                                                                 |\n",
      "|\\t Свидетельства о рождении II-HA №609368 выдан 03.02.2021 года отделом ЗАГС администрации г. Коврова Владимирской области                                                                                                |\n",
      "|\\t Свидетельство о рождении                                                                                                                                                                                               |\n",
      "|\\t Свидетельство о рождении I-ОМ 750816                                                                                                                                                                                   |\n",
      "|\\t Свидетельство о рождении II-HA № 548366                                                                                                                                                                                |\n",
      "|\\t Свидетельство о рождении III-AP № 853853 от 18.03.2014                                                                                                                                                                 |\n",
      "|\\t Свидетельство о рождении: серия I-ТД № 599934                                                                                                                                                                          |\n",
      "|\\tсвидетельство о рождении II-|РЛ № 550121                                                                                                                                                                                |\n",
      "|                                                                                                                                                                                                                          |\n",
      "| Доверенности 04 АА 0203478 от 30.07.2019, удостоверенной Пушкаревой Татьяной Анатольевной, нотариусом нотариального округа \"Майминского района\" Республики Алтай, зарегистрированной в реестре: № 22/21-н/02-2019-3-1566.|\n",
      "| Доверенности 46 АА 1366265 от 24.05.2020 г., удостоверенной Шемяковым Александром Витальевичем, нотариусрм Железногорского нотариального округа Курской области, зарегистрировано в реестре: № 46/97-н/46-2020-1-793     |\n",
      "| Доверенности от 02.09.2019 г., удостоверенной Глуховой И.А., нотариусом нотариального округа город Уфа Республики Башкортостан, реестровый № 03/87-н/03-2019-3-130                                                       |\n",
      "| Доверенности от 12.03.2022г., зарегистрирована в реестре: №89/104-н/89-2022-1-703 нотариусом Лисафиной Гульназ Айратовной, нотариусом нотариального округа г. Ноябрьска Ямало-Ненецкого автономного округа               |\n",
      "| Доверенности от 12.03.2022г., зарегистрирована в реестре: №89/104-н/89-2022-1-704 нотариусом Лисафиной Гульназ Айратовной, нотариусом нотариального округа г. Ноябрьска Ямало-Ненецкого автономного округа               |\n",
      "| Доверенности № 2Д-679 от 12.05.2016 г.                                                                                                                                                                                   |\n",
      "| Доверенности, 16АА  3974021, от  21.07.2017г. удостоверенной Аскаровой Фаридой Рауфовной нотариусом Казанского нотариального округа Республики Татарстан, зарегистрировано в реестре: №2-825.                            |\n",
      "| Доверенности, удостоверенной Гончаровым Ю.М., временно исполняющим обязанности нотариуса нотариального округа Санкт-Петербурга Финогеновой А.В. 21.03.2021, реестровый №73/268-н/78-2021-5-962                           |\n",
      "+--------------------------------------------------------------------------------------------------------------------------------------------------------------------------------------------------------------------------+\n",
      "only showing top 20 rows\n",
      "\n",
      "+--------------------+\n",
      "|updated             |\n",
      "+--------------------+\n",
      "|2022-10-26T16:30:04Z|\n",
      "|2022-10-26T15:15:23Z|\n",
      "|2022-10-26T15:04:57Z|\n",
      "|2022-10-26T15:00:43Z|\n",
      "|2022-10-26T15:00:35Z|\n",
      "|2022-10-26T14:45:58Z|\n",
      "|2022-10-26T14:45:35Z|\n",
      "|2022-10-26T14:43:18Z|\n",
      "|2022-10-26T14:35:04Z|\n",
      "|2022-10-26T14:32:19Z|\n",
      "|2022-10-26T14:26:36Z|\n",
      "|2022-10-26T14:26:23Z|\n",
      "|2022-10-26T14:25:55Z|\n",
      "|2022-10-26T14:25:30Z|\n",
      "|2022-10-26T14:23:32Z|\n",
      "|2022-10-26T14:23:26Z|\n",
      "|2022-10-26T14:22:00Z|\n",
      "|2022-10-26T14:21:31Z|\n",
      "|2022-10-26T14:21:24Z|\n",
      "|2022-10-26T14:16:03Z|\n",
      "+--------------------+\n",
      "only showing top 20 rows\n",
      "\n",
      "None\n",
      "+--------------------+\n",
      "|updated             |\n",
      "+--------------------+\n",
      "|2017-02-06T10:25:31Z|\n",
      "|2017-02-07T03:23:58Z|\n",
      "|2017-02-09T10:45:58Z|\n",
      "|2017-02-13T04:53:11Z|\n",
      "|2017-02-13T07:31:30Z|\n",
      "|2017-02-13T09:15:24Z|\n",
      "|2017-02-13T09:50:17Z|\n",
      "|2017-02-13T15:26:58Z|\n",
      "|2017-02-14T01:47:41Z|\n",
      "|2017-02-14T01:57:21Z|\n",
      "|2017-02-14T02:18:43Z|\n",
      "|2017-02-14T03:20:17Z|\n",
      "|2017-02-14T03:46:05Z|\n",
      "|2017-02-14T03:55:12Z|\n",
      "|2017-02-14T04:01:09Z|\n",
      "|2017-02-14T04:32:34Z|\n",
      "|2017-02-14T05:07:12Z|\n",
      "|2017-02-14T05:07:33Z|\n",
      "|2017-02-14T05:07:41Z|\n",
      "|2017-02-14T05:55:43Z|\n",
      "+--------------------+\n",
      "only showing top 20 rows\n",
      "\n"
     ]
    }
   ],
   "source": [
    "#Find dupes or misunderstanding or useless static values 3 244 006 total\n",
    "for col in eda_df.columns:\n",
    "    execute_template(col)"
   ]
  },
  {
   "cell_type": "markdown",
   "id": "a34abecb",
   "metadata": {},
   "source": [
    "## Bonus"
   ]
  },
  {
   "cell_type": "markdown",
   "id": "83df95a9",
   "metadata": {},
   "source": [
    "### 2nd solution (Cycle and variables)\n",
    "#### Slower but more simple and has more readability than the previous method "
   ]
  },
  {
   "cell_type": "markdown",
   "id": "19b4d65b",
   "metadata": {},
   "source": [
    "### Create the list of variables to re-use if needed"
   ]
  },
  {
   "cell_type": "code",
   "execution_count": null,
   "id": "c4b8e5d6",
   "metadata": {},
   "outputs": [],
   "source": [
    "useless_columns = []\n",
    "null_values = []\n",
    "zero_values = []\n",
    "empty_string = []\n",
    "col_name = []"
   ]
  },
  {
   "cell_type": "code",
   "execution_count": null,
   "id": "82a51d3d",
   "metadata": {},
   "outputs": [],
   "source": [
    "for col in eda_df.columns:\n",
    "    null = round((eda_df.filter(eda_df[col].isNull()).count()/eda_df.count())*100, 3)\n",
    "    zero = round(eda_df.filter(eda_df[col]==0).count()/eda_df.count()*100, 3)\n",
    "    empty = round(eda_df.filter(eda_df[col]=='').count()/eda_df.count()*100, 3)\n",
    "    if null in [0, 100] and zero in [0, 100] and empty in [0, 100]:\n",
    "        useless_columns.append(col)\n",
    "        continue\n",
    "    null_values.append(null)\n",
    "    zero_values.append(zero)\n",
    "    empty_string.append(empty)\n",
    "    col_name.append(col)"
   ]
  },
  {
   "cell_type": "code",
   "execution_count": null,
   "id": "6b405596",
   "metadata": {},
   "outputs": [],
   "source": [
    "zipped = list(zip(null_values, zero_values, empty_string))\n",
    "eda_df_pandas2 = pd.DataFrame(zipped, index=col_name, columns=['NULL', 'Zero', 'Empty'])\n",
    "eda_df_pandas2"
   ]
  },
  {
   "cell_type": "markdown",
   "id": "16caef6a",
   "metadata": {},
   "source": [
    "### Remove useless columns"
   ]
  },
  {
   "cell_type": "code",
   "execution_count": null,
   "id": "c1ea0350",
   "metadata": {},
   "outputs": [],
   "source": [
    "eda_df = eda_df.drop(*useless_columns)"
   ]
  },
  {
   "cell_type": "code",
   "execution_count": null,
   "id": "c8306999",
   "metadata": {},
   "outputs": [],
   "source": [
    "pd.DataFrame(eda_df.dtypes, columns = ['Column Name','Data type'])"
   ]
  },
  {
   "cell_type": "code",
   "execution_count": 769,
   "id": "89b3aa90",
   "metadata": {},
   "outputs": [
    {
     "name": "stderr",
     "output_type": "stream",
     "text": [
      "I1120 02:18:32.591466 10390 sched.cpp:2174] Asked to stop the driver\n",
      "I1120 02:18:32.591548 10587 sched.cpp:1207] Stopping framework 89161c75-8817-4ae4-ab24-cba26241d6f9-75622\n"
     ]
    }
   ],
   "source": [
    "spark.stop()"
   ]
  },
  {
   "cell_type": "code",
   "execution_count": null,
   "id": "063105aa",
   "metadata": {},
   "outputs": [],
   "source": []
  }
 ],
 "metadata": {
  "kernelspec": {
   "display_name": "jupyter_P24",
   "language": "python",
   "name": "jupyter_p24"
  },
  "language_info": {
   "codemirror_mode": {
    "name": "ipython",
    "version": 3
   },
   "file_extension": ".py",
   "mimetype": "text/x-python",
   "name": "python",
   "nbconvert_exporter": "python",
   "pygments_lexer": "ipython3",
   "version": "3.9.13"
  }
 },
 "nbformat": 4,
 "nbformat_minor": 5
}
