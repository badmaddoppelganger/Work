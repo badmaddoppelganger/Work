{
 "cells": [
  {
   "cell_type": "markdown",
   "id": "93ca94f4",
   "metadata": {},
   "source": [
    "# Tech Intro"
   ]
  },
  {
   "cell_type": "markdown",
   "id": "2fce20ac",
   "metadata": {},
   "source": [
    "## Main tables"
   ]
  },
  {
   "cell_type": "code",
   "execution_count": 616,
   "id": "e46f86d7",
   "metadata": {},
   "outputs": [],
   "source": [
    "# Real Estate's objects\n",
    "real_estate_list: list = [\n",
    "    'ag_object',\n",
    "    'ag_parse_ad',\n",
    "    'ag_lead_object',\n",
    "    'ag_presentation_object',\n",
    "    'ag_object_platform',\n",
    "    'ag_posting_ad_realty',\n",
    "    'native_realty_filial',\n",
    "    'foreign_realty_filial',\n",
    "    'spr_metro',\n",
    "    'spr_metro_connection',\n",
    "    'ag_object_parking']\n",
    "# Lead's objects\n",
    "lead_list: list = [\n",
    "    'leads',\n",
    "    'lead_utm',\n",
    "    'client_wishes',\n",
    "    'leads_email_order',\n",
    "    'request_from_site',\n",
    "    'lead_finance',\n",
    "    'leads_source_spr',\n",
    "    'leads_calls_connection',\n",
    "    'leads_pipeline',\n",
    "    'leads_not_implemented_reason',\n",
    "    'leads_status',\n",
    "    'ag_pipeline',\n",
    "    'ag_pipeline_status',\n",
    "    'leads_meta',\n",
    "    'leads_meta_fields',\n",
    "    'leads_meta_group',\n",
    "    'leads_contacts_connect',\n",
    "    'leads_contact',\n",
    "    'leads_contact_meta',\n",
    "    'leads_contact_meta_fields']\n",
    "# Deal's objects\n",
    "deal_list: list = [\n",
    "    # Deal\n",
    "    'a_deal',\n",
    "    'a_deal_meta',\n",
    "    'deal_passport',\n",
    "    'a_deal_finance',\n",
    "    'a_deal_check',\n",
    "    'a_deal_test',\n",
    "    # Contractor\n",
    "    'a_contractor',\n",
    "    'a_contractor_meta',\n",
    "    'a_deal_contractor',\n",
    "    'a_deal_contractor_meta',\n",
    "    # Object\n",
    "    'a_object',\n",
    "    'a_object_meta',\n",
    "    'a_deal_object']"
   ]
  },
  {
   "cell_type": "markdown",
   "id": "86c6ee69",
   "metadata": {},
   "source": [
    "## Main Variables"
   ]
  },
  {
   "cell_type": "code",
   "execution_count": 617,
   "id": "f9fb4d41",
   "metadata": {},
   "outputs": [],
   "source": [
    "# Address and name of your notebook\n",
    "venv_path = \"/home/bigdata/a.umarov/jupyter_P24\"\n",
    "# Exploratory Data Analysis(EDA) table (eda_table)\n",
    "eda_table = deal_list[1] # You can generate full-EDA cycle if you want through the all of tables\n",
    "                                # Just iterate it !\n",
    "# Exploratory Data Analysis(EDA) obj as PySpark DataFrame\n",
    "eda_df = None\n",
    "# Set the date of checking\n",
    "sample_data_date = '20221027'"
   ]
  },
  {
   "cell_type": "markdown",
   "id": "79cec746",
   "metadata": {},
   "source": [
    "## Useful command and modules (can be transform into the 'importlib'- smart import logic)"
   ]
  },
  {
   "cell_type": "code",
   "execution_count": 618,
   "id": "19563688",
   "metadata": {},
   "outputs": [
    {
     "name": "stderr",
     "output_type": "stream",
     "text": [
      "W1120 00:59:10.518819 10390 process.cpp:2877] Attempted to spawn already running process version@10.62.4.11:44708\n",
      "I1120 00:59:10.519548   547 sched.cpp:241] Version: 1.11.0\n",
      "I1120 00:59:10.519852 10561 sched.cpp:345] New master detected at master@10.62.4.8:5050\n",
      "I1120 00:59:10.519953 10561 sched.cpp:365] No credentials provided. Attempting to register without authentication\n",
      "I1120 00:59:10.521515 10580 sched.cpp:753] Framework registered with 89161c75-8817-4ae4-ab24-cba26241d6f9-75606\n"
     ]
    }
   ],
   "source": [
    "import os\n",
    "import pandas as pd\n",
    "# To data analyze need the module\n",
    "import pyspark.pandas as ps\n",
    "os.environ[\"PYSPARK_PYTHON\"] = f\"{venv_path}/bin/python3\"\n",
    "os.environ[\"PYSPARK_DRIVER_PYTHON\"] = f\"{venv_path}/bin/python3\"\n",
    "\n",
    "import findspark\n",
    "findspark.init(\"/opt/dev/spark/spark\")\n",
    " \n",
    "from pyspark import SparkContext, SparkConf\n",
    "from pyspark.sql import SparkSession, SQLContext, DataFrameNaFunctions, \\\n",
    "                        Window, DataFrame, DataFrameStatFunctions, \\\n",
    "                        Column, Row, GroupedData, functions, types\n",
    "from pyspark.sql.functions import isnan, when, count, col\n",
    "\n",
    "\n",
    "conf = SparkConf().setAppName(\"get_info_from_\" + eda_table + \"_table\")\n",
    "sc = SparkContext(conf=conf)\n",
    "sc.setLogLevel(\"ERROR\")\n",
    "spark = SparkSession(sc)"
   ]
  },
  {
   "cell_type": "markdown",
   "id": "025c6aa9",
   "metadata": {},
   "source": [
    "## Read the spec-file from Hadoop and show some data sample"
   ]
  },
  {
   "cell_type": "code",
   "execution_count": 619,
   "id": "578e3061",
   "metadata": {
    "scrolled": true
   },
   "outputs": [
    {
     "name": "stderr",
     "output_type": "stream",
     "text": [
      "[Stage 3:=====================================================>   (17 + 1) / 18]\r"
     ]
    },
    {
     "name": "stdout",
     "output_type": "stream",
     "text": [
      "+-------+------+--------------------------------------------------------+----------------------------------------------------------------------------------------------------------------------------------------------------------------------+--------------------+\n",
      "|id     |deal  |key                                                     |value                                                                                                                                                                 |updated             |\n",
      "+-------+------+--------------------------------------------------------+----------------------------------------------------------------------------------------------------------------------------------------------------------------------+--------------------+\n",
      "|1000005|100741|Эксклюзивность агентского договора                      |1                                                                                                                                                                     |2020-02-13T10:50:27Z|\n",
      "|1000006|100741|Условия о неустойке в агентском договоре                |1                                                                                                                                                                     |2020-02-13T10:50:27Z|\n",
      "|1000008|100741|Продавец обязан передать покупателю недвижимое имущество|свободным от принадлежащего ему движимого имущества и иных личных вещей                                                                                               |2020-02-13T10:50:27Z|\n",
      "|1000019|100742|Продавец обязан передать покупателю недвижимое имущество|свободным от принадлежащего ему движимого имущества и иных личных вещей                                                                                               |2020-02-13T10:51:23Z|\n",
      "|100002 |5995  |Дата заключения ПДКП                                    |15.12.2017                                                                                                                                                            |2017-12-15T12:19:03Z|\n",
      "|1000020|100742|Памятник истории и культуры                             |Недвижимое имущество не является памятником истории и культуры (архитектуры)                                                                                          |2020-02-13T10:51:23Z|\n",
      "|1000022|100742|Руководитель                                            |3359813                                                                                                                                                               |2020-02-13T10:51:23Z|\n",
      "|1000030|100741|Условие о гарантиях                                     |гарантирует, что до заключения договора недвижимое имущество никому не отчуждено, не заложено, не обещано, в споре не состоит, иными правами третьих лиц не обременено|2020-02-13T10:52:38Z|\n",
      "|1000035|100743|Дата статуса \"Черновик\"                                 |13.02.2020                                                                                                                                                            |2020-02-13T10:58:52Z|\n",
      "|1000036|100743|Эксклюзивность агентского договора                      |1                                                                                                                                                                     |2020-02-13T10:58:52Z|\n",
      "+-------+------+--------------------------------------------------------+----------------------------------------------------------------------------------------------------------------------------------------------------------------------+--------------------+\n",
      "only showing top 10 rows\n",
      "\n"
     ]
    },
    {
     "name": "stderr",
     "output_type": "stream",
     "text": [
      "                                                                                \r"
     ]
    }
   ],
   "source": [
    "eda_df = spark.read.parquet(\"/prod/source/p24/\" + eda_table + \"/datekey=\" + sample_data_date)\n",
    "eda_df.show(10, False)"
   ]
  },
  {
   "cell_type": "markdown",
   "id": "c62a4902",
   "metadata": {},
   "source": [
    "## Show columns' properties"
   ]
  },
  {
   "cell_type": "code",
   "execution_count": 620,
   "id": "f8ff7f9c",
   "metadata": {},
   "outputs": [
    {
     "name": "stdout",
     "output_type": "stream",
     "text": [
      "Data overview\n",
      "root\n",
      " |-- id: string (nullable = true)\n",
      " |-- deal: string (nullable = true)\n",
      " |-- key: string (nullable = true)\n",
      " |-- value: string (nullable = true)\n",
      " |-- updated: string (nullable = true)\n",
      "\n"
     ]
    }
   ],
   "source": [
    "print('Data overview')\n",
    "eda_df.printSchema()"
   ]
  },
  {
   "cell_type": "markdown",
   "id": "04bc5dc3",
   "metadata": {},
   "source": [
    "## Total rows (count)"
   ]
  },
  {
   "cell_type": "code",
   "execution_count": 621,
   "id": "d8a63c96",
   "metadata": {},
   "outputs": [
    {
     "name": "stderr",
     "output_type": "stream",
     "text": [
      "                                                                                \r"
     ]
    },
    {
     "data": {
      "text/plain": [
       "3244006"
      ]
     },
     "execution_count": 621,
     "metadata": {},
     "output_type": "execute_result"
    }
   ],
   "source": [
    "eda_df.count()"
   ]
  },
  {
   "cell_type": "markdown",
   "id": "d6c93fce",
   "metadata": {},
   "source": [
    "## Simple func to execute and show the result of the SQL-instruction"
   ]
  },
  {
   "cell_type": "code",
   "execution_count": 622,
   "id": "29bbb505",
   "metadata": {},
   "outputs": [],
   "source": [
    "def execute(select_instruction: str = \"select count(*) from eda_sql\") -> object:\n",
    "    \"\"\"\n",
    "    Method to execute and show the result of your SQL-instruction\n",
    "    :default -> \"select count(*) from eda_sql\"\n",
    "    :param :string select_instruction: SQL statement\n",
    "    :return: result of the SQL-operation as a table\n",
    "    \"\"\"\n",
    "    return spark.sql(select_instruction).show(truncate = False)"
   ]
  },
  {
   "cell_type": "markdown",
   "id": "06551cc5",
   "metadata": {},
   "source": [
    "## Create the temp-table-view from the DF (called as \"eda_sql\")"
   ]
  },
  {
   "cell_type": "code",
   "execution_count": 623,
   "id": "673475aa",
   "metadata": {},
   "outputs": [],
   "source": [
    "eda_df.createOrReplaceTempView(\"eda_sql\")"
   ]
  },
  {
   "cell_type": "markdown",
   "id": "d98e84ed",
   "metadata": {},
   "source": [
    "## Check the method and temp-table"
   ]
  },
  {
   "cell_type": "code",
   "execution_count": 624,
   "id": "a2d571a0",
   "metadata": {},
   "outputs": [
    {
     "name": "stderr",
     "output_type": "stream",
     "text": [
      "[Stage 7:============================================>            (18 + 2) / 23]\r"
     ]
    },
    {
     "name": "stdout",
     "output_type": "stream",
     "text": [
      "+--------+\n",
      "|count(1)|\n",
      "+--------+\n",
      "|3244006 |\n",
      "+--------+\n",
      "\n"
     ]
    },
    {
     "name": "stderr",
     "output_type": "stream",
     "text": [
      "                                                                                \r"
     ]
    }
   ],
   "source": [
    "execute(\"select count(*) from eda_sql\")"
   ]
  },
  {
   "cell_type": "markdown",
   "id": "baeadc7c",
   "metadata": {},
   "source": [
    "## Detect missing values and abnormal zeroes and print it"
   ]
  },
  {
   "cell_type": "markdown",
   "id": "69ed9472",
   "metadata": {},
   "source": [
    "###### Check-rule Matrix\n",
    "\n",
    "\n",
    "|  Name of the rule    |Available                   \n",
    "|----------------------|-------------------------|\n",
    "|NULL/NaN/NA           |+                        |\n",
    "|'Zero'-value          |+                        |\n",
    "|'Empty-string'        |+                        |"
   ]
  },
  {
   "cell_type": "markdown",
   "id": "8bfc12ee",
   "metadata": {},
   "source": [
    "### 1st solution (PySpark & Pandas version)\n",
    "#### Max perfomance but harder to read & understand"
   ]
  },
  {
   "cell_type": "markdown",
   "id": "ceb2d291",
   "metadata": {},
   "source": [
    "##### Filter and count after - all the values in the  our EDA-DF"
   ]
  },
  {
   "cell_type": "code",
   "execution_count": 625,
   "id": "a69cc029",
   "metadata": {},
   "outputs": [
    {
     "name": "stderr",
     "output_type": "stream",
     "text": [
      "                                                                                \r"
     ]
    },
    {
     "data": {
      "text/html": [
       "<div>\n",
       "<style scoped>\n",
       "    .dataframe tbody tr th:only-of-type {\n",
       "        vertical-align: middle;\n",
       "    }\n",
       "\n",
       "    .dataframe tbody tr th {\n",
       "        vertical-align: top;\n",
       "    }\n",
       "\n",
       "    .dataframe thead th {\n",
       "        text-align: right;\n",
       "    }\n",
       "</style>\n",
       "<table border=\"1\" class=\"dataframe\">\n",
       "  <thead>\n",
       "    <tr style=\"text-align: right;\">\n",
       "      <th></th>\n",
       "      <th>id</th>\n",
       "      <th>deal</th>\n",
       "      <th>key</th>\n",
       "      <th>value</th>\n",
       "      <th>updated</th>\n",
       "    </tr>\n",
       "  </thead>\n",
       "  <tbody>\n",
       "    <tr>\n",
       "      <th>0</th>\n",
       "      <td>0</td>\n",
       "      <td>0</td>\n",
       "      <td>0</td>\n",
       "      <td>9129</td>\n",
       "      <td>0</td>\n",
       "    </tr>\n",
       "  </tbody>\n",
       "</table>\n",
       "</div>"
      ],
      "text/plain": [
       "   id  deal  key  value  updated\n",
       "0   0     0    0   9129        0"
      ]
     },
     "execution_count": 625,
     "metadata": {},
     "output_type": "execute_result"
    }
   ],
   "source": [
    "# NULL/NaN/NA values condition\n",
    "eda_df_null_values = eda_df.select([count(when(isnan(c) | col(c).isNull(), c)).alias(c) \\\n",
    "                                    for c in eda_df.columns]).toPandas()\n",
    "eda_df_null_values"
   ]
  },
  {
   "cell_type": "code",
   "execution_count": 626,
   "id": "e08597da",
   "metadata": {},
   "outputs": [
    {
     "name": "stderr",
     "output_type": "stream",
     "text": [
      "                                                                                \r"
     ]
    },
    {
     "data": {
      "text/html": [
       "<div>\n",
       "<style scoped>\n",
       "    .dataframe tbody tr th:only-of-type {\n",
       "        vertical-align: middle;\n",
       "    }\n",
       "\n",
       "    .dataframe tbody tr th {\n",
       "        vertical-align: top;\n",
       "    }\n",
       "\n",
       "    .dataframe thead th {\n",
       "        text-align: right;\n",
       "    }\n",
       "</style>\n",
       "<table border=\"1\" class=\"dataframe\">\n",
       "  <thead>\n",
       "    <tr style=\"text-align: right;\">\n",
       "      <th></th>\n",
       "      <th>id</th>\n",
       "      <th>deal</th>\n",
       "      <th>key</th>\n",
       "      <th>value</th>\n",
       "      <th>updated</th>\n",
       "    </tr>\n",
       "  </thead>\n",
       "  <tbody>\n",
       "    <tr>\n",
       "      <th>0</th>\n",
       "      <td>0</td>\n",
       "      <td>0</td>\n",
       "      <td>0</td>\n",
       "      <td>4698</td>\n",
       "      <td>0</td>\n",
       "    </tr>\n",
       "  </tbody>\n",
       "</table>\n",
       "</div>"
      ],
      "text/plain": [
       "   id  deal  key  value  updated\n",
       "0   0     0    0   4698        0"
      ]
     },
     "execution_count": 626,
     "metadata": {},
     "output_type": "execute_result"
    }
   ],
   "source": [
    "# Zero values condition\n",
    "eda_df_zero_values = eda_df.select([count(when(col(c) == 0, c)).alias(c) \\\n",
    "                                    for c in eda_df.columns]).toPandas()\n",
    "eda_df_zero_values"
   ]
  },
  {
   "cell_type": "code",
   "execution_count": 627,
   "id": "5a6cb426",
   "metadata": {},
   "outputs": [
    {
     "name": "stderr",
     "output_type": "stream",
     "text": [
      "                                                                                \r"
     ]
    },
    {
     "data": {
      "text/html": [
       "<div>\n",
       "<style scoped>\n",
       "    .dataframe tbody tr th:only-of-type {\n",
       "        vertical-align: middle;\n",
       "    }\n",
       "\n",
       "    .dataframe tbody tr th {\n",
       "        vertical-align: top;\n",
       "    }\n",
       "\n",
       "    .dataframe thead th {\n",
       "        text-align: right;\n",
       "    }\n",
       "</style>\n",
       "<table border=\"1\" class=\"dataframe\">\n",
       "  <thead>\n",
       "    <tr style=\"text-align: right;\">\n",
       "      <th></th>\n",
       "      <th>id</th>\n",
       "      <th>deal</th>\n",
       "      <th>key</th>\n",
       "      <th>value</th>\n",
       "      <th>updated</th>\n",
       "    </tr>\n",
       "  </thead>\n",
       "  <tbody>\n",
       "    <tr>\n",
       "      <th>0</th>\n",
       "      <td>0</td>\n",
       "      <td>0</td>\n",
       "      <td>0</td>\n",
       "      <td>41339</td>\n",
       "      <td>0</td>\n",
       "    </tr>\n",
       "  </tbody>\n",
       "</table>\n",
       "</div>"
      ],
      "text/plain": [
       "   id  deal  key  value  updated\n",
       "0   0     0    0  41339        0"
      ]
     },
     "execution_count": 627,
     "metadata": {},
     "output_type": "execute_result"
    }
   ],
   "source": [
    "# Empty-string values condition\n",
    "eda_df_empty_values = eda_df.select([count(when(col(c) == '', c)).alias(c) \\\n",
    "                                     for c in eda_df.columns]).toPandas()\n",
    "eda_df_empty_values"
   ]
  },
  {
   "cell_type": "code",
   "execution_count": 628,
   "id": "6e9f5025",
   "metadata": {},
   "outputs": [
    {
     "data": {
      "text/html": [
       "<div>\n",
       "<style scoped>\n",
       "    .dataframe tbody tr th:only-of-type {\n",
       "        vertical-align: middle;\n",
       "    }\n",
       "\n",
       "    .dataframe tbody tr th {\n",
       "        vertical-align: top;\n",
       "    }\n",
       "\n",
       "    .dataframe thead th {\n",
       "        text-align: right;\n",
       "    }\n",
       "</style>\n",
       "<table border=\"1\" class=\"dataframe\">\n",
       "  <thead>\n",
       "    <tr style=\"text-align: right;\">\n",
       "      <th></th>\n",
       "      <th>NULL</th>\n",
       "      <th>Zero</th>\n",
       "      <th>Empty_string</th>\n",
       "    </tr>\n",
       "  </thead>\n",
       "  <tbody>\n",
       "    <tr>\n",
       "      <th>id</th>\n",
       "      <td>0</td>\n",
       "      <td>0</td>\n",
       "      <td>0</td>\n",
       "    </tr>\n",
       "    <tr>\n",
       "      <th>deal</th>\n",
       "      <td>0</td>\n",
       "      <td>0</td>\n",
       "      <td>0</td>\n",
       "    </tr>\n",
       "    <tr>\n",
       "      <th>key</th>\n",
       "      <td>0</td>\n",
       "      <td>0</td>\n",
       "      <td>0</td>\n",
       "    </tr>\n",
       "    <tr>\n",
       "      <th>value</th>\n",
       "      <td>9129</td>\n",
       "      <td>4698</td>\n",
       "      <td>41339</td>\n",
       "    </tr>\n",
       "    <tr>\n",
       "      <th>updated</th>\n",
       "      <td>0</td>\n",
       "      <td>0</td>\n",
       "      <td>0</td>\n",
       "    </tr>\n",
       "  </tbody>\n",
       "</table>\n",
       "</div>"
      ],
      "text/plain": [
       "         NULL  Zero  Empty_string\n",
       "id          0     0             0\n",
       "deal        0     0             0\n",
       "key         0     0             0\n",
       "value    9129  4698         41339\n",
       "updated     0     0             0"
      ]
     },
     "execution_count": 628,
     "metadata": {},
     "output_type": "execute_result"
    }
   ],
   "source": [
    "# Unlock the limit to display all the columns\n",
    "pd.options.display.max_rows = None\n",
    "# To transpose a dataframe - use .T method\n",
    "eda_df_pandas = pd.concat([eda_df_null_values, eda_df_zero_values, eda_df_empty_values], axis = 'index').T\n",
    "# To rename columns to anything else after the transpose\n",
    "eda_df_pandas.columns = (['NULL','Zero','Empty_string'])\n",
    "eda_df_pandas"
   ]
  },
  {
   "cell_type": "code",
   "execution_count": 629,
   "id": "7b26312a",
   "metadata": {},
   "outputs": [],
   "source": [
    "def set_result_to_percent(df: object = None) -> object:\n",
    "    \"\"\"\n",
    "    Method to execute and show the result of your PandasDataFrame\n",
    "    :default -> None-object\n",
    "    :param :Pandas DF\n",
    "    :return: DF after the conversion (absolute -> percent)\n",
    "    \"\"\"\n",
    "    if df is None:\n",
    "        return \"Please incl. at least one Pandas DF as a parameter\"\n",
    "    return round(df * 100 / eda_df.count(), 3)"
   ]
  },
  {
   "cell_type": "code",
   "execution_count": 630,
   "id": "0fd205c2",
   "metadata": {},
   "outputs": [
    {
     "data": {
      "text/html": [
       "<div>\n",
       "<style scoped>\n",
       "    .dataframe tbody tr th:only-of-type {\n",
       "        vertical-align: middle;\n",
       "    }\n",
       "\n",
       "    .dataframe tbody tr th {\n",
       "        vertical-align: top;\n",
       "    }\n",
       "\n",
       "    .dataframe thead th {\n",
       "        text-align: right;\n",
       "    }\n",
       "</style>\n",
       "<table border=\"1\" class=\"dataframe\">\n",
       "  <thead>\n",
       "    <tr style=\"text-align: right;\">\n",
       "      <th></th>\n",
       "      <th>NULL</th>\n",
       "      <th>Zero</th>\n",
       "      <th>Empty_string</th>\n",
       "    </tr>\n",
       "  </thead>\n",
       "  <tbody>\n",
       "    <tr>\n",
       "      <th>id</th>\n",
       "      <td>0.000</td>\n",
       "      <td>0.000</td>\n",
       "      <td>0.000</td>\n",
       "    </tr>\n",
       "    <tr>\n",
       "      <th>deal</th>\n",
       "      <td>0.000</td>\n",
       "      <td>0.000</td>\n",
       "      <td>0.000</td>\n",
       "    </tr>\n",
       "    <tr>\n",
       "      <th>key</th>\n",
       "      <td>0.000</td>\n",
       "      <td>0.000</td>\n",
       "      <td>0.000</td>\n",
       "    </tr>\n",
       "    <tr>\n",
       "      <th>value</th>\n",
       "      <td>0.281</td>\n",
       "      <td>0.145</td>\n",
       "      <td>1.274</td>\n",
       "    </tr>\n",
       "    <tr>\n",
       "      <th>updated</th>\n",
       "      <td>0.000</td>\n",
       "      <td>0.000</td>\n",
       "      <td>0.000</td>\n",
       "    </tr>\n",
       "  </tbody>\n",
       "</table>\n",
       "</div>"
      ],
      "text/plain": [
       "          NULL   Zero  Empty_string\n",
       "id       0.000  0.000         0.000\n",
       "deal     0.000  0.000         0.000\n",
       "key      0.000  0.000         0.000\n",
       "value    0.281  0.145         1.274\n",
       "updated  0.000  0.000         0.000"
      ]
     },
     "execution_count": 630,
     "metadata": {},
     "output_type": "execute_result"
    }
   ],
   "source": [
    "set_result_to_percent(eda_df_pandas)"
   ]
  },
  {
   "cell_type": "markdown",
   "id": "99ca0812",
   "metadata": {},
   "source": [
    "### SQL-instructions"
   ]
  },
  {
   "cell_type": "code",
   "execution_count": 631,
   "id": "3790ddd5",
   "metadata": {},
   "outputs": [
    {
     "name": "stderr",
     "output_type": "stream",
     "text": [
      "                                                                                \r"
     ]
    },
    {
     "name": "stdout",
     "output_type": "stream",
     "text": [
      "+------------------+\n",
      "|count(DISTINCT id)|\n",
      "+------------------+\n",
      "|3244006           |\n",
      "+------------------+\n",
      "\n"
     ]
    },
    {
     "name": "stderr",
     "output_type": "stream",
     "text": [
      "                                                                                \r"
     ]
    },
    {
     "name": "stdout",
     "output_type": "stream",
     "text": [
      "+--------------------+\n",
      "|count(DISTINCT deal)|\n",
      "+--------------------+\n",
      "|190740              |\n",
      "+--------------------+\n",
      "\n"
     ]
    },
    {
     "name": "stderr",
     "output_type": "stream",
     "text": [
      "                                                                                \r"
     ]
    },
    {
     "name": "stdout",
     "output_type": "stream",
     "text": [
      "+-------------------+\n",
      "|count(DISTINCT key)|\n",
      "+-------------------+\n",
      "|51                 |\n",
      "+-------------------+\n",
      "\n"
     ]
    },
    {
     "name": "stderr",
     "output_type": "stream",
     "text": [
      "                                                                                \r"
     ]
    },
    {
     "name": "stdout",
     "output_type": "stream",
     "text": [
      "+---------------------+\n",
      "|count(DISTINCT value)|\n",
      "+---------------------+\n",
      "|85106                |\n",
      "+---------------------+\n",
      "\n"
     ]
    },
    {
     "name": "stderr",
     "output_type": "stream",
     "text": [
      "[Stage 48:=====================================================>  (21 + 1) / 22]\r"
     ]
    },
    {
     "name": "stdout",
     "output_type": "stream",
     "text": [
      "+-----------------------+\n",
      "|count(DISTINCT updated)|\n",
      "+-----------------------+\n",
      "|1738906                |\n",
      "+-----------------------+\n",
      "\n"
     ]
    },
    {
     "name": "stderr",
     "output_type": "stream",
     "text": [
      "                                                                                \r"
     ]
    }
   ],
   "source": [
    "#Find dupes or misunderstanding or useless static values 3 244 006 total\n",
    "for col in eda_df.columns:\n",
    "    execute(\"select count(distinct(\"+ col + \")) from eda_sql\")"
   ]
  },
  {
   "cell_type": "code",
   "execution_count": 632,
   "id": "bd289b0a",
   "metadata": {},
   "outputs": [],
   "source": [
    "def execute_template(column: str ='id') -> object:\n",
    "    \"\"\"\n",
    "    Method to execute and show the result of your SQL-instruction\n",
    "    :default -> \"ID incl.\"\n",
    "    :param :string select_instruction: column name\n",
    "    :return: result of the SQL-operation as a table\n",
    "    \"\"\"\n",
    "    print(execute(\"SELECT DISTINCT(\" + column + \")\\\n",
    "                FROM eda_sql\\\n",
    "                WHERE 1 = 1 \\\n",
    "                ORDER BY \" + column + \" DESC\"))\n",
    "    return execute(\"SELECT DISTINCT(\" + column + \")\\\n",
    "                    FROM eda_sql\\\n",
    "                    WHERE 1 = 1 \\\n",
    "                    ORDER BY \" + column + \" ASC\")"
   ]
  },
  {
   "cell_type": "code",
   "execution_count": 633,
   "id": "87c1d8d8",
   "metadata": {},
   "outputs": [
    {
     "name": "stderr",
     "output_type": "stream",
     "text": [
      "                                                                                \r"
     ]
    },
    {
     "name": "stdout",
     "output_type": "stream",
     "text": [
      "+------+\n",
      "|id    |\n",
      "+------+\n",
      "|999999|\n",
      "|999998|\n",
      "|999997|\n",
      "|999996|\n",
      "|999995|\n",
      "|999994|\n",
      "|999993|\n",
      "|999992|\n",
      "|999991|\n",
      "|999990|\n",
      "|99999 |\n",
      "|999989|\n",
      "|999988|\n",
      "|999987|\n",
      "|999986|\n",
      "|999985|\n",
      "|999984|\n",
      "|999983|\n",
      "|999982|\n",
      "|999981|\n",
      "+------+\n",
      "only showing top 20 rows\n",
      "\n",
      "None\n"
     ]
    },
    {
     "name": "stderr",
     "output_type": "stream",
     "text": [
      "                                                                                \r"
     ]
    },
    {
     "name": "stdout",
     "output_type": "stream",
     "text": [
      "+-------+\n",
      "|id     |\n",
      "+-------+\n",
      "|1000   |\n",
      "|10000  |\n",
      "|100000 |\n",
      "|1000000|\n",
      "|1000001|\n",
      "|1000002|\n",
      "|1000003|\n",
      "|1000004|\n",
      "|1000005|\n",
      "|1000006|\n",
      "|1000007|\n",
      "|1000008|\n",
      "|1000009|\n",
      "|100001 |\n",
      "|1000010|\n",
      "|1000011|\n",
      "|1000012|\n",
      "|1000013|\n",
      "|1000014|\n",
      "|1000015|\n",
      "+-------+\n",
      "only showing top 20 rows\n",
      "\n"
     ]
    },
    {
     "name": "stderr",
     "output_type": "stream",
     "text": [
      "                                                                                \r"
     ]
    },
    {
     "name": "stdout",
     "output_type": "stream",
     "text": [
      "+-----+\n",
      "|deal |\n",
      "+-----+\n",
      "|99999|\n",
      "|99998|\n",
      "|99997|\n",
      "|99996|\n",
      "|99995|\n",
      "|99994|\n",
      "|99993|\n",
      "|99992|\n",
      "|99991|\n",
      "|99990|\n",
      "|9999 |\n",
      "|99989|\n",
      "|99988|\n",
      "|99987|\n",
      "|99986|\n",
      "|99985|\n",
      "|99984|\n",
      "|99983|\n",
      "|99982|\n",
      "|99981|\n",
      "+-----+\n",
      "only showing top 20 rows\n",
      "\n",
      "None\n"
     ]
    },
    {
     "name": "stderr",
     "output_type": "stream",
     "text": [
      "                                                                                \r"
     ]
    },
    {
     "name": "stdout",
     "output_type": "stream",
     "text": [
      "+------+\n",
      "|deal  |\n",
      "+------+\n",
      "|100   |\n",
      "|1000  |\n",
      "|10000 |\n",
      "|100000|\n",
      "|100001|\n",
      "|100002|\n",
      "|100003|\n",
      "|100004|\n",
      "|100005|\n",
      "|100006|\n",
      "|100007|\n",
      "|100008|\n",
      "|100009|\n",
      "|10001 |\n",
      "|100010|\n",
      "|100011|\n",
      "|100012|\n",
      "|100013|\n",
      "|100014|\n",
      "|100015|\n",
      "+------+\n",
      "only showing top 20 rows\n",
      "\n"
     ]
    },
    {
     "name": "stderr",
     "output_type": "stream",
     "text": [
      "                                                                                \r"
     ]
    },
    {
     "name": "stdout",
     "output_type": "stream",
     "text": [
      "+---------------------------------------------------+\n",
      "|key                                                |\n",
      "+---------------------------------------------------+\n",
      "|представитель фио                                  |\n",
      "|в лице (доверенный сотрудник)                      |\n",
      "|Юрист                                              |\n",
      "|Эксклюзивность агентского договора                 |\n",
      "|Цена договора является окончательной и изменению   |\n",
      "|ФИО Найденного лица                                |\n",
      "|Условия о неустойке в агентском договоре           |\n",
      "|Условие о гарантиях                                |\n",
      "|Сумма кредита                                      |\n",
      "|Статус                                             |\n",
      "|Срок принятия\\передачи недвижимости                |\n",
      "|Срок кредита                                       |\n",
      "|Срок заключения ДКП                                |\n",
      "|Срок действия агентского договора                  |\n",
      "|Совместная сделка                                  |\n",
      "|Сведения о найденном лице                          |\n",
      "|Сведения о договоре участия в долевом строительстве|\n",
      "|Руководитель                                       |\n",
      "|Риэлтор нашедший                                   |\n",
      "|Риэлтор                                            |\n",
      "+---------------------------------------------------+\n",
      "only showing top 20 rows\n",
      "\n",
      "None\n"
     ]
    },
    {
     "name": "stderr",
     "output_type": "stream",
     "text": [
      "                                                                                \r"
     ]
    },
    {
     "name": "stdout",
     "output_type": "stream",
     "text": [
      "+--------------------------------------------------------------------------------------------+\n",
      "|key                                                                                         |\n",
      "+--------------------------------------------------------------------------------------------+\n",
      "|% ставка по кредиту                                                                         |\n",
      "|Cтраховая компания                                                                          |\n",
      "|Банк (по ипотеке)                                                                           |\n",
      "|Дата акта приема-передачи во исполнение договора об отчуждении объекта недвижимого имущества|\n",
      "|Дата заключения ДКП                                                                         |\n",
      "|Дата заключения ПДКП                                                                        |\n",
      "|Дата заключения агентского договора                                                         |\n",
      "|Дата открытия карточки                                                                      |\n",
      "|Дата статуса \"Действующий\"                                                                  |\n",
      "|Дата статуса \"Завершенный\"                                                                  |\n",
      "|Дата статуса \"Истёк срок\"                                                                   |\n",
      "|Дата статуса \"Отменен\"                                                                      |\n",
      "|Дата статуса \"Черновик\"                                                                     |\n",
      "|Дополнительное условие ОД 1                                                                 |\n",
      "|Дополнительное условие ОД 2                                                                 |\n",
      "|Дополнительное условие ОД 3                                                                 |\n",
      "|Дополнительное условие ПД 1                                                                 |\n",
      "|Дополнительное условие ПД 2                                                                 |\n",
      "|Дополнительное условие ПД 3                                                                 |\n",
      "|Застройщик                                                                                  |\n",
      "+--------------------------------------------------------------------------------------------+\n",
      "only showing top 20 rows\n",
      "\n"
     ]
    },
    {
     "name": "stderr",
     "output_type": "stream",
     "text": [
      "                                                                                \r"
     ]
    },
    {
     "name": "stdout",
     "output_type": "stream",
     "text": [
      "+-----------------------------------------------------------------------------------------------------------------------------------------------------------------+\n",
      "|value                                                                                                                                                            |\n",
      "+-----------------------------------------------------------------------------------------------------------------------------------------------------------------+\n",
      "|№99266521                                                                                                                                                        |\n",
      "|№37725702 совместная сделка. документы там \\r\\n                                                                                                                  |\n",
      "|№ 73:24:041904:282-73/049/2018-1  от 31.07.2018  (Залог в силу закона)                                                                                           |\n",
      "|№ 73:24:041410:66-73/001/2018-1  от 14.03.2018 (Ипотека); № 73:24:020911:341-73/001/2018-1  от 14.03.2018 (Ипотека)                                              |\n",
      "|№ 73:24:040904:40-73/001/2017-1  от 29.11.2017  (Ипотека)                                                                                                        |\n",
      "|№ 73:24:040604:1268-73/001/2018-2  от 21.05.2018  (Ипотека)                                                                                                      |\n",
      "|№ 73:24:040402:1267-73/001/2017-2  от 11.10.2017  (Собственность)\\t № 73:24:040402:1267-73/001/2017-1  от 11.10.2017  (Залог в силу закона)                      |\n",
      "|№ 73:24:040204:281-73/049/2018-7  от 15.08.2018  (Залог в силу закона)                                                                                           |\n",
      "|№ 73:24:040101:359-73/001/2018-1  от 28.02.2018  (Ипотека)                                                                                                       |\n",
      "|№ 73:24:031403:1355-73/001/2017-3  от 08.08.2017  (Залог в силу закона)                                                                                          |\n",
      "|№ 73:24:031016:5643-73/001/2018-1  от 28.03.2018  (Залог в силу закона)                                                                                          |\n",
      "|№ 73:24:021011:855-73/001/2017-3  от 24.04.2017  (Залог в силу закона)                                                                                           |\n",
      "|№ 73:24:021005:813-73/001/2018-3  от 09.04.2018  (Иные ограничения (обременения) прав) № 73:24:021005:813-73/049/2018-4  от 20.11.2018  (Запрещение регистрации) |\n",
      "|№ 73:24:010602:284-73/001/2017-1  от 26.04.2017  (Залог в силу закона)                                                                                           |\n",
      "|№ 73:01:128/2002:190  от 13.12.2005  (Иные ограничения (обременения) прав на земельном участке)                                                                  |\n",
      "|№ 73:01:126/2000:134.2  от 18.06.2014  (Прочие ограничения (обременения))                                                                                        |\n",
      "|№ 73-73/001-73/001/316/2016-980/1  от 29.12.2016  (Ипотека)                                                                                                      |\n",
      "|№ 73-73/001-73/001/313/2015-209/1  от 14.07.2015  (Залог в силу закона)                                                                                          |\n",
      "|№ 73-73/001-73/001/259/2015-739/1  от 25.09.2015  (Залог в силу закона)                                                                                          |\n",
      "|№ 73-73/001-73/001/235/2015-63/1  от 24.03.2015  (Залог в силу закона)                                                                                           |\n",
      "+-----------------------------------------------------------------------------------------------------------------------------------------------------------------+\n",
      "only showing top 20 rows\n",
      "\n",
      "None\n"
     ]
    },
    {
     "name": "stderr",
     "output_type": "stream",
     "text": [
      "                                                                                \r"
     ]
    },
    {
     "name": "stdout",
     "output_type": "stream",
     "text": [
      "+---------------------------------------------------------------------------------------------------------------------------------------------------------------------------------------------------------------------------------------------------------------------------------------------------------------------------------------------------------------------------------------------------------------------------------------------------------------------------------------------------------------------------------------------------------------------------------------------------------------------------------------------------------------------------------------------------------------------------------------------------------------------------------------------------------------------------------------------------------------------------------------------------------------------------------------------------------------------------------------------------------------------------------------------------------------------------------------------------------------------------------------------------------------------------------------------------------------------------------------------------------------------------------------------------------------------------------------------------------------------------------------------------------------------------------------------------------------------------------------------------------+\n",
      "|value                                                                                                                                                                                                                                                                                                                                                                                                                                                                                                                                                                                                                                                                                                                                                                                                                                                                                                                                                                                                                                                                                                                                                                                                                                                                                                                                                                                                                                                                                                    |\n",
      "+---------------------------------------------------------------------------------------------------------------------------------------------------------------------------------------------------------------------------------------------------------------------------------------------------------------------------------------------------------------------------------------------------------------------------------------------------------------------------------------------------------------------------------------------------------------------------------------------------------------------------------------------------------------------------------------------------------------------------------------------------------------------------------------------------------------------------------------------------------------------------------------------------------------------------------------------------------------------------------------------------------------------------------------------------------------------------------------------------------------------------------------------------------------------------------------------------------------------------------------------------------------------------------------------------------------------------------------------------------------------------------------------------------------------------------------------------------------------------------------------------------+\n",
      "|null                                                                                                                                                                                                                                                                                                                                                                                                                                                                                                                                                                                                                                                                                                                                                                                                                                                                                                                                                                                                                                                                                                                                                                                                                                                                                                                                                                                                                                                                                                     |\n",
      "|                                                                                                                                                                                                                                                                                                                                                                                                                                                                                                                                                                                                                                                                                                                                                                                                                                                                                                                                                                                                                                                                                                                                                                                                                                                                                                                                                                                                                                                                                                         |\n",
      "|\\t 2 000 000                                                                                                                                                                                                                                                                                                                                                                                                                                                                                                                                                                                                                                                                                                                                                                                                                                                                                                                                                                                                                                                                                                                                                                                                                                                                                                                                                                                                                                                                                             |\n",
      "|\\t 3 692 000                                                                                                                                                                                                                                                                                                                                                                                                                                                                                                                                                                                                                                                                                                                                                                                                                                                                                                                                                                                                                                                                                                                                                                                                                                                                                                                                                                                                                                                                                             |\n",
      "|\\t № 43-43/001-43/001/273/2015-2028/1  от 02.08.2016  (Залог в силу закона)                                                                                                                                                                                                                                                                                                                                                                                                                                                                                                                                                                                                                                                                                                                                                                                                                                                                                                                                                                                                                                                                                                                                                                                                                                                                                                                                                                                                                              |\n",
      "|\\t № 43:40:002506:3813-43/001/2020-2  от 31.01.2020  (Залог в силу закона)                                                                                                                                                                                                                                                                                                                                                                                                                                                                                                                                                                                                                                                                                                                                                                                                                                                                                                                                                                                                                                                                                                                                                                                                                                                                                                                                                                                                                               |\n",
      "|\\t № 73-73/001-73/001/225/2016-38/1  от 21.01.2016  (Залог в силу закона)                                                                                                                                                                                                                                                                                                                                                                                                                                                                                                                                                                                                                                                                                                                                                                                                                                                                                                                                                                                                                                                                                                                                                                                                                                                                                                                                                                                                                                |\n",
      "|\\t- уплатить Застройщику сумму в размере 959 550 (Девятьсот пятьдесят девять тысяч пятьсот пятьдесят) рублей 00 копеек в срок до 23.02.2019 года включительно, \\t- уплатить Застройщику сумму в размере 1 000 000 (Один миллион) рублей 00 копеек в течение 4 (четырех) дней с момента регистрации настоящего договора. \\t- уплатить Цеденту сумму в размере 2 399 450 (Два миллиона триста девяносто девять тысяч четыреста пятьдесят) рублей 00 копеек, за счет собственных средств посредством покрытого, безотзывного аккредитива АО «Райффайзенбанк», в срок не позднее 1 (одного) рабочего дня с даты подписания настоящего договора на следующих условиях:    - Плательщик: Назметдинова Назифа Нусратулловна,    - Получатель средств: Черняева Роза Хайфуллиновна,    - Сумма аккредитива: 2 399 450 (Два миллиона триста девяносто девять тысяч четыреста пятьдесят) рублей 00 копеек,      - Срок действия аккредитива: _____ дней. Платеж по предъявлению Получателем средств исполняющий банк следующих документов: Оригинала Договора, заключенного между Стороной-2 и Стороной-1, содержащего отметки о государственной регистрации уступки права требования.                                                                                                                                                                                                                                                                                                                             |\n",
      "|\\t02:36:070106:786 кому принадлежит земля?\\r\\nАкт приема передачи\\r\\nВызвать геодезиста для определения границ, \\r\\n\\r\\n\\r\\n                                                                                                                                                                                                                                                                                                                                                                                                                                                                                                                                                                                                                                                                                                                                                                                                                                                                                                                                                                                                                                                                                                                                                                                                                                                                                                                                                                             |\n",
      "|\\t02:55:010702:4731(Комната)  запрос 80-189103284.                                                                                                                                                                                                                                                                                                                                                                                                                                                                                                                                                                                                                                                                                                                                                                                                                                                                                                                                                                                                                                                                                                                                                                                                                                                                                                                                                                                                                                                       |\n",
      "|\\t02:55:030148:354, \\t02:55:030148:662, \\t02:55:030148:902 \\r\\nзаказать выписку   2. не облагается если единственное жилье\\r\\n3. предоставить справку о составе правоустанавл. документах\\r\\n                                                                                                                                                                                                                                                                                                                                                                                                                                                                                                                                                                                                                                                                                                                                                                                                                                                                                                                                                                                                                                                                                                                                                                                                                                                                                                            |\n",
      "|\\tДенежные средства в размере 462 519, 40 (Четыреста шестьдесят две тысячи пятьсот девятнадцать) рублей 40 копеек будут оплачены за счет средств материнского (семейного) капитала безналичным перечислением на банковский счет ПРОДАВЦА Горовой Елены Григорьевны № 42301810810163899381, открытый во Владимирском отделении № 8611 ПАО Сбербанк, кор. счет 30101810000000000602, ИНН 7707083893, БИК 041708602, КПП 332802001,  посредством подачи с момента внесения записи в Единый государственный реестр недвижимости о переходе права собственности к ПОКУПАТЕЛЯМ, заявления (распоряжения) ПОКУПАТЕЛЕМ Медынской Наталией Альбертовной, получившей государственный сертификат на материнский (семейный) капитал серии МК-8 № 0084423, на основании решения Управления Пенсионного Фонда РФ  в городе Коврове Владимирской области от 25 августа 2015 года № 260999, дата выдачи сертификата 25 августа 2015 года, о направлении ПРОДАВЦУ в полном объеме средств материнского (семейного) капитала на приобретение указанной Квартиры. Подтверждением оплаты денежных средств будет являться расписка ПРОДАВЦА о получении соответствующей суммы. 4.2.\\tДенежные средства в размере 537 480,60 (Пятьсот тридцать семь тысяч четыреста восемьдесят) рублей 60 копеек оплачивается ПРОДАВЦУ наличными средствами за счет собственных средств ПОКУПАТЕЛЕЙ в день подписания настоящего Договора. Подтверждением оплаты денежных средств является расписка ПРОДАВЦА о получении соответствующей суммы|\n",
      "|\\r\\n                                                                                                                                                                                                                                                                                                                                                                                                                                                                                                                                                                                                                                                                                                                                                                                                                                                                                                                                                                                                                                                                                                                                                                                                                                                                                                                                                                                                                                                                                                     |\n",
      "|\\r\\n\\r\\n                                                                                                                                                                                                                                                                                                                                                                                                                                                                                                                                                                                                                                                                                                                                                                                                                                                                                                                                                                                                                                                                                                                                                                                                                                                                                                                                                                                                                                                                                                 |\n",
      "|\\r\\n\\r\\n\\r\\n                                                                                                                                                                                                                                                                                                                                                                                                                                                                                                                                                                                                                                                                                                                                                                                                                                                                                                                                                                                                                                                                                                                                                                                                                                                                                                                                                                                                                                                                                             |\n",
      "|\\r\\n\\r\\n\\r\\n\\r\\n                                                                                                                                                                                                                                                                                                                                                                                                                                                                                                                                                                                                                                                                                                                                                                                                                                                                                                                                                                                                                                                                                                                                                                                                                                                                                                                                                                                                                                                                                         |\n",
      "|\\r\\n\\r\\n\\r\\n\\r\\n\\r\\n                                                                                                                                                                                                                                                                                                                                                                                                                                                                                                                                                                                                                                                                                                                                                                                                                                                                                                                                                                                                                                                                                                                                                                                                                                                                                                                                                                                                                                                                                     |\n",
      "|\\r\\n\\r\\n выписать отказников до сделки Калимуллион О.Т.\\r\\n                                                                                                                                                                                                                                                                                                                                                                                                                                                                                                                                                                                                                                                                                                                                                                                                                                                                                                                                                                                                                                                                                                                                                                                                                                                                                                                                                                                                                                              |\n",
      "|\\r\\n\\r\\n5) ВИДЕО БЫЛО НА ЗАДАТКЕ \\r\\n                                                                                                                                                                                                                                                                                                                                                                                                                                                                                                                                                                                                                                                                                                                                                                                                                                                                                                                                                                                                                                                                                                                                                                                                                                                                                                                                                                                                                                                                    |\n",
      "|\\r\\n                                                                                                                                                                                                                                                                                                                                                                                                                                                                                                                                                                                                                                                                                                                                                                                                                                                                                                                                                                                                                                                                                                                                                                                                                                                                                                                                                                                                                                                                                                     |\n",
      "+---------------------------------------------------------------------------------------------------------------------------------------------------------------------------------------------------------------------------------------------------------------------------------------------------------------------------------------------------------------------------------------------------------------------------------------------------------------------------------------------------------------------------------------------------------------------------------------------------------------------------------------------------------------------------------------------------------------------------------------------------------------------------------------------------------------------------------------------------------------------------------------------------------------------------------------------------------------------------------------------------------------------------------------------------------------------------------------------------------------------------------------------------------------------------------------------------------------------------------------------------------------------------------------------------------------------------------------------------------------------------------------------------------------------------------------------------------------------------------------------------------+\n",
      "only showing top 20 rows\n",
      "\n"
     ]
    },
    {
     "name": "stderr",
     "output_type": "stream",
     "text": [
      "                                                                                \r"
     ]
    },
    {
     "name": "stdout",
     "output_type": "stream",
     "text": [
      "+--------------------+\n",
      "|updated             |\n",
      "+--------------------+\n",
      "|2022-10-27T00:26:07Z|\n",
      "|2022-10-27T00:25:42Z|\n",
      "|2022-10-27T00:25:41Z|\n",
      "|2022-10-26T18:25:03Z|\n",
      "|2022-10-26T18:13:24Z|\n",
      "|2022-10-26T17:22:51Z|\n",
      "|2022-10-26T17:03:40Z|\n",
      "|2022-10-26T17:03:19Z|\n",
      "|2022-10-26T16:41:32Z|\n",
      "|2022-10-26T16:17:05Z|\n",
      "|2022-10-26T16:16:01Z|\n",
      "|2022-10-26T16:14:06Z|\n",
      "|2022-10-26T16:14:02Z|\n",
      "|2022-10-26T16:11:14Z|\n",
      "|2022-10-26T15:56:25Z|\n",
      "|2022-10-26T15:55:55Z|\n",
      "|2022-10-26T15:55:04Z|\n",
      "|2022-10-26T15:55:03Z|\n",
      "|2022-10-26T15:54:25Z|\n",
      "|2022-10-26T15:54:24Z|\n",
      "+--------------------+\n",
      "only showing top 20 rows\n",
      "\n",
      "None\n"
     ]
    },
    {
     "name": "stderr",
     "output_type": "stream",
     "text": [
      "[Stage 81:=====================================================>  (21 + 1) / 22]\r"
     ]
    },
    {
     "name": "stdout",
     "output_type": "stream",
     "text": [
      "+--------------------+\n",
      "|updated             |\n",
      "+--------------------+\n",
      "|2017-02-06T09:11:16Z|\n",
      "|2017-02-06T09:12:34Z|\n",
      "|2017-02-06T09:12:41Z|\n",
      "|2017-02-06T09:15:07Z|\n",
      "|2017-02-06T09:15:28Z|\n",
      "|2017-02-06T09:15:43Z|\n",
      "|2017-02-06T09:15:58Z|\n",
      "|2017-02-06T09:16:07Z|\n",
      "|2017-02-06T09:16:23Z|\n",
      "|2017-02-06T09:16:31Z|\n",
      "|2017-02-06T09:16:52Z|\n",
      "|2017-02-06T09:17:26Z|\n",
      "|2017-02-06T09:17:42Z|\n",
      "|2017-02-06T09:23:43Z|\n",
      "|2017-02-06T13:22:23Z|\n",
      "|2017-02-07T03:23:58Z|\n",
      "|2017-02-07T03:24:53Z|\n",
      "|2017-02-09T10:00:44Z|\n",
      "|2017-02-09T10:01:46Z|\n",
      "|2017-02-09T10:01:58Z|\n",
      "+--------------------+\n",
      "only showing top 20 rows\n",
      "\n"
     ]
    },
    {
     "name": "stderr",
     "output_type": "stream",
     "text": [
      "                                                                                \r"
     ]
    }
   ],
   "source": [
    "#Find dupes or misunderstanding or useless static values 3 244 006 total\n",
    "for col in eda_df.columns:\n",
    "    execute_template(col)"
   ]
  },
  {
   "cell_type": "markdown",
   "id": "a34abecb",
   "metadata": {},
   "source": [
    "## Bonus"
   ]
  },
  {
   "cell_type": "markdown",
   "id": "83df95a9",
   "metadata": {},
   "source": [
    "### 2nd solution (Cycle and variables)\n",
    "#### Slower but more simple and has more readability than the previous method "
   ]
  },
  {
   "cell_type": "markdown",
   "id": "19b4d65b",
   "metadata": {},
   "source": [
    "### Create the list of variables to re-use if needed"
   ]
  },
  {
   "cell_type": "code",
   "execution_count": null,
   "id": "c4b8e5d6",
   "metadata": {},
   "outputs": [],
   "source": [
    "useless_columns = []\n",
    "null_values = []\n",
    "zero_values = []\n",
    "empty_string = []\n",
    "col_name = []"
   ]
  },
  {
   "cell_type": "code",
   "execution_count": null,
   "id": "82a51d3d",
   "metadata": {},
   "outputs": [],
   "source": [
    "for col in eda_df.columns:\n",
    "    null = round((eda_df.filter(eda_df[col].isNull()).count()/eda_df.count())*100, 3)\n",
    "    zero = round(eda_df.filter(eda_df[col]==0).count()/eda_df.count()*100, 3)\n",
    "    empty = round(eda_df.filter(eda_df[col]=='').count()/eda_df.count()*100, 3)\n",
    "    if null in [0, 100] and zero in [0, 100] and empty in [0, 100]:\n",
    "        useless_columns.append(col)\n",
    "        continue\n",
    "    null_values.append(null)\n",
    "    zero_values.append(zero)\n",
    "    empty_string.append(empty)\n",
    "    col_name.append(col)"
   ]
  },
  {
   "cell_type": "code",
   "execution_count": null,
   "id": "6b405596",
   "metadata": {},
   "outputs": [],
   "source": [
    "zipped = list(zip(null_values, zero_values, empty_string))\n",
    "eda_df_pandas2 = pd.DataFrame(zipped, index=col_name, columns=['NULL', 'Zero', 'Empty'])\n",
    "eda_df_pandas2"
   ]
  },
  {
   "cell_type": "markdown",
   "id": "16caef6a",
   "metadata": {},
   "source": [
    "### Remove useless columns"
   ]
  },
  {
   "cell_type": "code",
   "execution_count": null,
   "id": "c1ea0350",
   "metadata": {},
   "outputs": [],
   "source": [
    "eda_df = eda_df.drop(*useless_columns)"
   ]
  },
  {
   "cell_type": "code",
   "execution_count": null,
   "id": "c8306999",
   "metadata": {},
   "outputs": [],
   "source": [
    "pd.DataFrame(eda_df.dtypes, columns = ['Column Name','Data type'])"
   ]
  },
  {
   "cell_type": "code",
   "execution_count": 615,
   "id": "89b3aa90",
   "metadata": {},
   "outputs": [
    {
     "name": "stderr",
     "output_type": "stream",
     "text": [
      "I1120 00:58:34.399523 10390 sched.cpp:2174] Asked to stop the driver\n",
      "I1120 00:58:34.399699 10531 sched.cpp:1207] Stopping framework 89161c75-8817-4ae4-ab24-cba26241d6f9-75605\n"
     ]
    }
   ],
   "source": [
    "spark.stop()"
   ]
  },
  {
   "cell_type": "code",
   "execution_count": null,
   "id": "063105aa",
   "metadata": {},
   "outputs": [],
   "source": []
  }
 ],
 "metadata": {
  "kernelspec": {
   "display_name": "jupyter_P24",
   "language": "python",
   "name": "jupyter_p24"
  },
  "language_info": {
   "codemirror_mode": {
    "name": "ipython",
    "version": 3
   },
   "file_extension": ".py",
   "mimetype": "text/x-python",
   "name": "python",
   "nbconvert_exporter": "python",
   "pygments_lexer": "ipython3",
   "version": "3.9.13"
  }
 },
 "nbformat": 4,
 "nbformat_minor": 5
}
