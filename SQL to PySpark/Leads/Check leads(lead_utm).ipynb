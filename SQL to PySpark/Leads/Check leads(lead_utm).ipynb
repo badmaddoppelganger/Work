{
 "cells": [
  {
   "cell_type": "markdown",
   "id": "93ca94f4",
   "metadata": {},
   "source": [
    "# Tech Intro"
   ]
  },
  {
   "cell_type": "markdown",
   "id": "2fce20ac",
   "metadata": {},
   "source": [
    "## Main tables"
   ]
  },
  {
   "cell_type": "code",
   "execution_count": 102,
   "id": "e46f86d7",
   "metadata": {},
   "outputs": [],
   "source": [
    "# Real Estate's objects\n",
    "real_estate_list: list = [\n",
    "    'ag_object',\n",
    "    'ag_parse_ad',\n",
    "    'ag_lead_object',\n",
    "    'ag_presentation_object',\n",
    "    'ag_object_platform',\n",
    "    'ag_posting_ad_realty',\n",
    "    'native_realty_filial',\n",
    "    'foreign_realty_filial',\n",
    "    'spr_metro',\n",
    "    'spr_metro_connection',\n",
    "    'ag_object_parking']\n",
    "# Lead's objects\n",
    "lead_list: list = [\n",
    "    'leads',\n",
    "    'lead_utm',\n",
    "    'client_wishes',\n",
    "    'leads_email_order',\n",
    "    'request_from_site',\n",
    "    'lead_finance',\n",
    "    'leads_source_spr',\n",
    "    'leads_calls_connection',\n",
    "    'leads_pipeline',\n",
    "    'leads_not_implemented_reason',\n",
    "    'leads_status',\n",
    "    'ag_pipeline',\n",
    "    'ag_pipeline_status',\n",
    "    'leads_meta',\n",
    "    'leads_meta_fields',\n",
    "    'leads_meta_group',\n",
    "    'leads_contacts_connect',\n",
    "    'leads_contact',\n",
    "    'leads_contact_meta',\n",
    "    'leads_contact_meta_fields']\n",
    "# Deal's objects\n",
    "deal_list: list = [\n",
    "    # Deal\n",
    "    'a_deal',\n",
    "    'a_deal_meta',\n",
    "    'deal_passport',\n",
    "    'a_deal_finance',\n",
    "    'a_deal_check',\n",
    "    'a_deal_test',\n",
    "    # Contractor\n",
    "    'a_contractor',\n",
    "    'a_contractor_meta',\n",
    "    'a_deal_contractor',\n",
    "    'a_deal_contractor_meta',\n",
    "    # Object\n",
    "    'a_object',\n",
    "    'a_object_meta',\n",
    "    'a_deal_object']"
   ]
  },
  {
   "cell_type": "markdown",
   "id": "86c6ee69",
   "metadata": {},
   "source": [
    "## Main Variables"
   ]
  },
  {
   "cell_type": "code",
   "execution_count": 103,
   "id": "f9fb4d41",
   "metadata": {},
   "outputs": [],
   "source": [
    "# Address and name of your notebook\n",
    "venv_path = \"/home/bigdata/a.umarov/jupyter_P24\"\n",
    "# Exploratory Data Analysis(EDA) table (eda_table)\n",
    "eda_table = lead_list[1] # You can generate full-EDA cycle if you want through the all of tables\n",
    "                                # Just iterate it !\n",
    "# Exploratory Data Analysis(EDA) obj as PySpark DataFrame\n",
    "eda_df = None\n",
    "# Set the date of checking\n",
    "sample_data_date = '20221027'"
   ]
  },
  {
   "cell_type": "markdown",
   "id": "79cec746",
   "metadata": {},
   "source": [
    "## Useful command and modules (can be transform into the 'importlib'- smart import logic)"
   ]
  },
  {
   "cell_type": "code",
   "execution_count": 104,
   "id": "19563688",
   "metadata": {},
   "outputs": [
    {
     "name": "stderr",
     "output_type": "stream",
     "text": [
      "W1119 14:12:21.381275 10390 process.cpp:2877] Attempted to spawn already running process version@10.62.4.11:44708\n",
      "I1119 14:12:21.381664 40276 sched.cpp:241] Version: 1.11.0\n",
      "I1119 14:12:21.382014 10561 sched.cpp:345] New master detected at master@10.62.4.8:5050\n",
      "I1119 14:12:21.382092 10561 sched.cpp:365] No credentials provided. Attempting to register without authentication\n",
      "I1119 14:12:21.383656 10568 sched.cpp:753] Framework registered with 89161c75-8817-4ae4-ab24-cba26241d6f9-75337\n"
     ]
    }
   ],
   "source": [
    "import os\n",
    "import pandas as pd\n",
    "# To data analyze need the module\n",
    "import pyspark.pandas as ps\n",
    "os.environ[\"PYSPARK_PYTHON\"] = f\"{venv_path}/bin/python3\"\n",
    "os.environ[\"PYSPARK_DRIVER_PYTHON\"] = f\"{venv_path}/bin/python3\"\n",
    "\n",
    "import findspark\n",
    "findspark.init(\"/opt/dev/spark/spark\")\n",
    " \n",
    "from pyspark import SparkContext, SparkConf\n",
    "from pyspark.sql import SparkSession, SQLContext, DataFrameNaFunctions, \\\n",
    "                        Window, DataFrame, DataFrameStatFunctions, \\\n",
    "                        Column, Row, GroupedData, functions, types\n",
    "from pyspark.sql.functions import isnan, when, count, col\n",
    "\n",
    "\n",
    "conf = SparkConf().setAppName(\"get_info_from_\" + eda_table + \"_table\")\n",
    "sc = SparkContext(conf=conf)\n",
    "sc.setLogLevel(\"ERROR\")\n",
    "spark = SparkSession(sc)"
   ]
  },
  {
   "cell_type": "markdown",
   "id": "025c6aa9",
   "metadata": {},
   "source": [
    "## Read the spec-file from Hadoop and show some data sample"
   ]
  },
  {
   "cell_type": "code",
   "execution_count": 105,
   "id": "578e3061",
   "metadata": {
    "scrolled": true
   },
   "outputs": [
    {
     "name": "stderr",
     "output_type": "stream",
     "text": [
      "[Stage 1:>                                                          (0 + 1) / 1]\r"
     ]
    },
    {
     "name": "stdout",
     "output_type": "stream",
     "text": [
      "+--------+------------+-----------+-----------------------+----------+--------+-----+-----+\n",
      "|lead_id |utm_campaign|utm_content|utm_source             |utm_medium|utm_term|gclid|yclid|\n",
      "+--------+------------+-----------+-----------------------+----------+--------+-----+-----+\n",
      "|21715024|null        |null       |ufa.perspektiva24.com  |null      |null    |null |null |\n",
      "|21715204|null        |null       |google                 |null      |null    |null |null |\n",
      "|21715420|null        |null       |kazan.perspektiva24.com|null      |null    |null |null |\n",
      "|21715549|null        |null       |ufa.perspektiva24.com  |null      |null    |null |null |\n",
      "|21715555|null        |null       |perspektiva24.com      |null      |null    |null |null |\n",
      "|21716637|null        |null       |ufa.perspektiva24.com  |null      |null    |null |null |\n",
      "|21716732|null        |null       |ufa.perspektiva24.com  |null      |null    |null |null |\n",
      "|21717011|null        |null       |google                 |null      |null    |null |null |\n",
      "|21717246|null        |null       |yandex                 |null      |null    |null |null |\n",
      "|21717609|null        |null       |perspektiva-24.ru      |null      |null    |null |null |\n",
      "+--------+------------+-----------+-----------------------+----------+--------+-----+-----+\n",
      "only showing top 10 rows\n",
      "\n"
     ]
    },
    {
     "name": "stderr",
     "output_type": "stream",
     "text": [
      "                                                                                \r"
     ]
    }
   ],
   "source": [
    "eda_df = spark.read.parquet(\"/prod/source/p24/\" + eda_table + \"/datekey=\" + sample_data_date)\n",
    "eda_df.show(10, False)"
   ]
  },
  {
   "cell_type": "markdown",
   "id": "c62a4902",
   "metadata": {},
   "source": [
    "## Show columns' properties"
   ]
  },
  {
   "cell_type": "code",
   "execution_count": 106,
   "id": "f8ff7f9c",
   "metadata": {},
   "outputs": [
    {
     "name": "stdout",
     "output_type": "stream",
     "text": [
      "Data overview\n",
      "root\n",
      " |-- lead_id: string (nullable = true)\n",
      " |-- utm_campaign: string (nullable = true)\n",
      " |-- utm_content: string (nullable = true)\n",
      " |-- utm_source: string (nullable = true)\n",
      " |-- utm_medium: string (nullable = true)\n",
      " |-- utm_term: string (nullable = true)\n",
      " |-- gclid: string (nullable = true)\n",
      " |-- yclid: string (nullable = true)\n",
      "\n"
     ]
    }
   ],
   "source": [
    "print('Data overview')\n",
    "eda_df.printSchema()"
   ]
  },
  {
   "cell_type": "markdown",
   "id": "04bc5dc3",
   "metadata": {},
   "source": [
    "## Total rows (count)"
   ]
  },
  {
   "cell_type": "code",
   "execution_count": 108,
   "id": "d8a63c96",
   "metadata": {},
   "outputs": [
    {
     "data": {
      "text/plain": [
       "1964"
      ]
     },
     "execution_count": 108,
     "metadata": {},
     "output_type": "execute_result"
    }
   ],
   "source": [
    "eda_df.count()"
   ]
  },
  {
   "cell_type": "markdown",
   "id": "d6c93fce",
   "metadata": {},
   "source": [
    "## Simple func to execute and show the result of the SQL-instruction"
   ]
  },
  {
   "cell_type": "code",
   "execution_count": 109,
   "id": "29bbb505",
   "metadata": {},
   "outputs": [],
   "source": [
    "def execute(select_instruction: str = \"select count(*) from eda_sql\") -> object:\n",
    "    \"\"\"\n",
    "    Method to execute and show the result of your SQL-instruction\n",
    "    :default -> \"select count(*) from eda_sql\"\n",
    "    :param :string select_instruction: SQL statement\n",
    "    :return: result of the SQL-operation as a table\n",
    "    \"\"\"\n",
    "    return spark.sql(select_instruction).show(truncate = False)"
   ]
  },
  {
   "cell_type": "markdown",
   "id": "06551cc5",
   "metadata": {},
   "source": [
    "## Create the temp-table-view from the DF (called as \"eda_sql\")"
   ]
  },
  {
   "cell_type": "code",
   "execution_count": 110,
   "id": "673475aa",
   "metadata": {},
   "outputs": [],
   "source": [
    "eda_df.createOrReplaceTempView(\"eda_sql\")"
   ]
  },
  {
   "cell_type": "markdown",
   "id": "d98e84ed",
   "metadata": {},
   "source": [
    "## Check the method and temp-table"
   ]
  },
  {
   "cell_type": "code",
   "execution_count": 111,
   "id": "a2d571a0",
   "metadata": {},
   "outputs": [
    {
     "name": "stdout",
     "output_type": "stream",
     "text": [
      "+--------+\n",
      "|count(1)|\n",
      "+--------+\n",
      "|1964    |\n",
      "+--------+\n",
      "\n"
     ]
    }
   ],
   "source": [
    "execute(\"select count(*) from eda_sql\")"
   ]
  },
  {
   "cell_type": "markdown",
   "id": "baeadc7c",
   "metadata": {},
   "source": [
    "## Detect missing values and abnormal zeroes and print it"
   ]
  },
  {
   "cell_type": "markdown",
   "id": "69ed9472",
   "metadata": {},
   "source": [
    "###### Check-rule Matrix\n",
    "\n",
    "\n",
    "|  Name of the rule    |Available                   \n",
    "|----------------------|-------------------------|\n",
    "|NULL/NaN/NA           |+                        |\n",
    "|'Zero'-value          |+                        |\n",
    "|'Empty-string'        |+                        |"
   ]
  },
  {
   "cell_type": "markdown",
   "id": "8bfc12ee",
   "metadata": {},
   "source": [
    "### 1st solution (PySpark & Pandas version)\n",
    "#### Max perfomance but harder to read & understand"
   ]
  },
  {
   "cell_type": "markdown",
   "id": "ceb2d291",
   "metadata": {},
   "source": [
    "##### Filter and count after - all the values in the  our EDA-DF"
   ]
  },
  {
   "cell_type": "code",
   "execution_count": 112,
   "id": "a69cc029",
   "metadata": {},
   "outputs": [
    {
     "data": {
      "text/html": [
       "<div>\n",
       "<style scoped>\n",
       "    .dataframe tbody tr th:only-of-type {\n",
       "        vertical-align: middle;\n",
       "    }\n",
       "\n",
       "    .dataframe tbody tr th {\n",
       "        vertical-align: top;\n",
       "    }\n",
       "\n",
       "    .dataframe thead th {\n",
       "        text-align: right;\n",
       "    }\n",
       "</style>\n",
       "<table border=\"1\" class=\"dataframe\">\n",
       "  <thead>\n",
       "    <tr style=\"text-align: right;\">\n",
       "      <th></th>\n",
       "      <th>lead_id</th>\n",
       "      <th>utm_campaign</th>\n",
       "      <th>utm_content</th>\n",
       "      <th>utm_source</th>\n",
       "      <th>utm_medium</th>\n",
       "      <th>utm_term</th>\n",
       "      <th>gclid</th>\n",
       "      <th>yclid</th>\n",
       "    </tr>\n",
       "  </thead>\n",
       "  <tbody>\n",
       "    <tr>\n",
       "      <th>0</th>\n",
       "      <td>0</td>\n",
       "      <td>1963</td>\n",
       "      <td>1951</td>\n",
       "      <td>1174</td>\n",
       "      <td>1963</td>\n",
       "      <td>1963</td>\n",
       "      <td>1964</td>\n",
       "      <td>1125</td>\n",
       "    </tr>\n",
       "  </tbody>\n",
       "</table>\n",
       "</div>"
      ],
      "text/plain": [
       "   lead_id  utm_campaign  utm_content  utm_source  utm_medium  utm_term  \\\n",
       "0        0          1963         1951        1174        1963      1963   \n",
       "\n",
       "   gclid  yclid  \n",
       "0   1964   1125  "
      ]
     },
     "execution_count": 112,
     "metadata": {},
     "output_type": "execute_result"
    }
   ],
   "source": [
    "# NULL/NaN/NA values condition\n",
    "eda_df_null_values = eda_df.select([count(when(isnan(c) | col(c).isNull(), c)).alias(c) \\\n",
    "                                    for c in eda_df.columns]).toPandas()\n",
    "eda_df_null_values"
   ]
  },
  {
   "cell_type": "code",
   "execution_count": 113,
   "id": "e08597da",
   "metadata": {},
   "outputs": [
    {
     "data": {
      "text/html": [
       "<div>\n",
       "<style scoped>\n",
       "    .dataframe tbody tr th:only-of-type {\n",
       "        vertical-align: middle;\n",
       "    }\n",
       "\n",
       "    .dataframe tbody tr th {\n",
       "        vertical-align: top;\n",
       "    }\n",
       "\n",
       "    .dataframe thead th {\n",
       "        text-align: right;\n",
       "    }\n",
       "</style>\n",
       "<table border=\"1\" class=\"dataframe\">\n",
       "  <thead>\n",
       "    <tr style=\"text-align: right;\">\n",
       "      <th></th>\n",
       "      <th>lead_id</th>\n",
       "      <th>utm_campaign</th>\n",
       "      <th>utm_content</th>\n",
       "      <th>utm_source</th>\n",
       "      <th>utm_medium</th>\n",
       "      <th>utm_term</th>\n",
       "      <th>gclid</th>\n",
       "      <th>yclid</th>\n",
       "    </tr>\n",
       "  </thead>\n",
       "  <tbody>\n",
       "    <tr>\n",
       "      <th>0</th>\n",
       "      <td>0</td>\n",
       "      <td>0</td>\n",
       "      <td>0</td>\n",
       "      <td>0</td>\n",
       "      <td>0</td>\n",
       "      <td>0</td>\n",
       "      <td>0</td>\n",
       "      <td>0</td>\n",
       "    </tr>\n",
       "  </tbody>\n",
       "</table>\n",
       "</div>"
      ],
      "text/plain": [
       "   lead_id  utm_campaign  utm_content  utm_source  utm_medium  utm_term  \\\n",
       "0        0             0            0           0           0         0   \n",
       "\n",
       "   gclid  yclid  \n",
       "0      0      0  "
      ]
     },
     "execution_count": 113,
     "metadata": {},
     "output_type": "execute_result"
    }
   ],
   "source": [
    "# Zero values condition\n",
    "eda_df_zero_values = eda_df.select([count(when(col(c) == 0, c)).alias(c) \\\n",
    "                                    for c in eda_df.columns]).toPandas()\n",
    "eda_df_zero_values"
   ]
  },
  {
   "cell_type": "code",
   "execution_count": 114,
   "id": "5a6cb426",
   "metadata": {},
   "outputs": [
    {
     "data": {
      "text/html": [
       "<div>\n",
       "<style scoped>\n",
       "    .dataframe tbody tr th:only-of-type {\n",
       "        vertical-align: middle;\n",
       "    }\n",
       "\n",
       "    .dataframe tbody tr th {\n",
       "        vertical-align: top;\n",
       "    }\n",
       "\n",
       "    .dataframe thead th {\n",
       "        text-align: right;\n",
       "    }\n",
       "</style>\n",
       "<table border=\"1\" class=\"dataframe\">\n",
       "  <thead>\n",
       "    <tr style=\"text-align: right;\">\n",
       "      <th></th>\n",
       "      <th>lead_id</th>\n",
       "      <th>utm_campaign</th>\n",
       "      <th>utm_content</th>\n",
       "      <th>utm_source</th>\n",
       "      <th>utm_medium</th>\n",
       "      <th>utm_term</th>\n",
       "      <th>gclid</th>\n",
       "      <th>yclid</th>\n",
       "    </tr>\n",
       "  </thead>\n",
       "  <tbody>\n",
       "    <tr>\n",
       "      <th>0</th>\n",
       "      <td>0</td>\n",
       "      <td>0</td>\n",
       "      <td>0</td>\n",
       "      <td>0</td>\n",
       "      <td>0</td>\n",
       "      <td>0</td>\n",
       "      <td>0</td>\n",
       "      <td>42</td>\n",
       "    </tr>\n",
       "  </tbody>\n",
       "</table>\n",
       "</div>"
      ],
      "text/plain": [
       "   lead_id  utm_campaign  utm_content  utm_source  utm_medium  utm_term  \\\n",
       "0        0             0            0           0           0         0   \n",
       "\n",
       "   gclid  yclid  \n",
       "0      0     42  "
      ]
     },
     "execution_count": 114,
     "metadata": {},
     "output_type": "execute_result"
    }
   ],
   "source": [
    "# Empty-string values condition\n",
    "eda_df_empty_values = eda_df.select([count(when(col(c) == '', c)).alias(c) \\\n",
    "                                     for c in eda_df.columns]).toPandas()\n",
    "eda_df_empty_values"
   ]
  },
  {
   "cell_type": "code",
   "execution_count": 115,
   "id": "6e9f5025",
   "metadata": {},
   "outputs": [
    {
     "data": {
      "text/html": [
       "<div>\n",
       "<style scoped>\n",
       "    .dataframe tbody tr th:only-of-type {\n",
       "        vertical-align: middle;\n",
       "    }\n",
       "\n",
       "    .dataframe tbody tr th {\n",
       "        vertical-align: top;\n",
       "    }\n",
       "\n",
       "    .dataframe thead th {\n",
       "        text-align: right;\n",
       "    }\n",
       "</style>\n",
       "<table border=\"1\" class=\"dataframe\">\n",
       "  <thead>\n",
       "    <tr style=\"text-align: right;\">\n",
       "      <th></th>\n",
       "      <th>NULL</th>\n",
       "      <th>Zero</th>\n",
       "      <th>Empty_string</th>\n",
       "    </tr>\n",
       "  </thead>\n",
       "  <tbody>\n",
       "    <tr>\n",
       "      <th>lead_id</th>\n",
       "      <td>0</td>\n",
       "      <td>0</td>\n",
       "      <td>0</td>\n",
       "    </tr>\n",
       "    <tr>\n",
       "      <th>utm_campaign</th>\n",
       "      <td>1963</td>\n",
       "      <td>0</td>\n",
       "      <td>0</td>\n",
       "    </tr>\n",
       "    <tr>\n",
       "      <th>utm_content</th>\n",
       "      <td>1951</td>\n",
       "      <td>0</td>\n",
       "      <td>0</td>\n",
       "    </tr>\n",
       "    <tr>\n",
       "      <th>utm_source</th>\n",
       "      <td>1174</td>\n",
       "      <td>0</td>\n",
       "      <td>0</td>\n",
       "    </tr>\n",
       "    <tr>\n",
       "      <th>utm_medium</th>\n",
       "      <td>1963</td>\n",
       "      <td>0</td>\n",
       "      <td>0</td>\n",
       "    </tr>\n",
       "    <tr>\n",
       "      <th>utm_term</th>\n",
       "      <td>1963</td>\n",
       "      <td>0</td>\n",
       "      <td>0</td>\n",
       "    </tr>\n",
       "    <tr>\n",
       "      <th>gclid</th>\n",
       "      <td>1964</td>\n",
       "      <td>0</td>\n",
       "      <td>0</td>\n",
       "    </tr>\n",
       "    <tr>\n",
       "      <th>yclid</th>\n",
       "      <td>1125</td>\n",
       "      <td>0</td>\n",
       "      <td>42</td>\n",
       "    </tr>\n",
       "  </tbody>\n",
       "</table>\n",
       "</div>"
      ],
      "text/plain": [
       "              NULL  Zero  Empty_string\n",
       "lead_id          0     0             0\n",
       "utm_campaign  1963     0             0\n",
       "utm_content   1951     0             0\n",
       "utm_source    1174     0             0\n",
       "utm_medium    1963     0             0\n",
       "utm_term      1963     0             0\n",
       "gclid         1964     0             0\n",
       "yclid         1125     0            42"
      ]
     },
     "execution_count": 115,
     "metadata": {},
     "output_type": "execute_result"
    }
   ],
   "source": [
    "# Unlock the limit to display all the columns\n",
    "pd.options.display.max_rows = None\n",
    "# To transpose a dataframe - use .T method\n",
    "eda_df_pandas = pd.concat([eda_df_null_values, eda_df_zero_values, eda_df_empty_values], axis = 'index').T\n",
    "# To rename columns to anything else after the transpose\n",
    "eda_df_pandas.columns = (['NULL','Zero','Empty_string'])\n",
    "eda_df_pandas"
   ]
  },
  {
   "cell_type": "code",
   "execution_count": 116,
   "id": "7b26312a",
   "metadata": {},
   "outputs": [],
   "source": [
    "def set_result_to_percent(df: object = None) -> object:\n",
    "    \"\"\"\n",
    "    Method to execute and show the result of your PandasDataFrame\n",
    "    :default -> None-object\n",
    "    :param :Pandas DF\n",
    "    :return: DF after the conversion (absolute -> percent)\n",
    "    \"\"\"\n",
    "    if df is None:\n",
    "        return \"Please incl. at least one Pandas DF as a parameter\"\n",
    "    return round(df * 100 / eda_df.count(), 3)"
   ]
  },
  {
   "cell_type": "code",
   "execution_count": 117,
   "id": "0fd205c2",
   "metadata": {},
   "outputs": [
    {
     "data": {
      "text/html": [
       "<div>\n",
       "<style scoped>\n",
       "    .dataframe tbody tr th:only-of-type {\n",
       "        vertical-align: middle;\n",
       "    }\n",
       "\n",
       "    .dataframe tbody tr th {\n",
       "        vertical-align: top;\n",
       "    }\n",
       "\n",
       "    .dataframe thead th {\n",
       "        text-align: right;\n",
       "    }\n",
       "</style>\n",
       "<table border=\"1\" class=\"dataframe\">\n",
       "  <thead>\n",
       "    <tr style=\"text-align: right;\">\n",
       "      <th></th>\n",
       "      <th>NULL</th>\n",
       "      <th>Zero</th>\n",
       "      <th>Empty_string</th>\n",
       "    </tr>\n",
       "  </thead>\n",
       "  <tbody>\n",
       "    <tr>\n",
       "      <th>lead_id</th>\n",
       "      <td>0.000</td>\n",
       "      <td>0.0</td>\n",
       "      <td>0.000</td>\n",
       "    </tr>\n",
       "    <tr>\n",
       "      <th>utm_campaign</th>\n",
       "      <td>99.949</td>\n",
       "      <td>0.0</td>\n",
       "      <td>0.000</td>\n",
       "    </tr>\n",
       "    <tr>\n",
       "      <th>utm_content</th>\n",
       "      <td>99.338</td>\n",
       "      <td>0.0</td>\n",
       "      <td>0.000</td>\n",
       "    </tr>\n",
       "    <tr>\n",
       "      <th>utm_source</th>\n",
       "      <td>59.776</td>\n",
       "      <td>0.0</td>\n",
       "      <td>0.000</td>\n",
       "    </tr>\n",
       "    <tr>\n",
       "      <th>utm_medium</th>\n",
       "      <td>99.949</td>\n",
       "      <td>0.0</td>\n",
       "      <td>0.000</td>\n",
       "    </tr>\n",
       "    <tr>\n",
       "      <th>utm_term</th>\n",
       "      <td>99.949</td>\n",
       "      <td>0.0</td>\n",
       "      <td>0.000</td>\n",
       "    </tr>\n",
       "    <tr>\n",
       "      <th>gclid</th>\n",
       "      <td>100.000</td>\n",
       "      <td>0.0</td>\n",
       "      <td>0.000</td>\n",
       "    </tr>\n",
       "    <tr>\n",
       "      <th>yclid</th>\n",
       "      <td>57.281</td>\n",
       "      <td>0.0</td>\n",
       "      <td>2.138</td>\n",
       "    </tr>\n",
       "  </tbody>\n",
       "</table>\n",
       "</div>"
      ],
      "text/plain": [
       "                 NULL  Zero  Empty_string\n",
       "lead_id         0.000   0.0         0.000\n",
       "utm_campaign   99.949   0.0         0.000\n",
       "utm_content    99.338   0.0         0.000\n",
       "utm_source     59.776   0.0         0.000\n",
       "utm_medium     99.949   0.0         0.000\n",
       "utm_term       99.949   0.0         0.000\n",
       "gclid         100.000   0.0         0.000\n",
       "yclid          57.281   0.0         2.138"
      ]
     },
     "execution_count": 117,
     "metadata": {},
     "output_type": "execute_result"
    }
   ],
   "source": [
    "set_result_to_percent(eda_df_pandas)"
   ]
  },
  {
   "cell_type": "markdown",
   "id": "99ca0812",
   "metadata": {},
   "source": [
    "### SQL-instructions"
   ]
  },
  {
   "cell_type": "code",
   "execution_count": 118,
   "id": "3790ddd5",
   "metadata": {},
   "outputs": [
    {
     "name": "stdout",
     "output_type": "stream",
     "text": [
      "+-----------------------+\n",
      "|count(DISTINCT lead_id)|\n",
      "+-----------------------+\n",
      "|1964                   |\n",
      "+-----------------------+\n",
      "\n",
      "+----------------------------+\n",
      "|count(DISTINCT utm_campaign)|\n",
      "+----------------------------+\n",
      "|1                           |\n",
      "+----------------------------+\n",
      "\n",
      "+---------------------------+\n",
      "|count(DISTINCT utm_content)|\n",
      "+---------------------------+\n",
      "|2                          |\n",
      "+---------------------------+\n",
      "\n",
      "+--------------------------+\n",
      "|count(DISTINCT utm_source)|\n",
      "+--------------------------+\n",
      "|35                        |\n",
      "+--------------------------+\n",
      "\n",
      "+--------------------------+\n",
      "|count(DISTINCT utm_medium)|\n",
      "+--------------------------+\n",
      "|1                         |\n",
      "+--------------------------+\n",
      "\n",
      "+------------------------+\n",
      "|count(DISTINCT utm_term)|\n",
      "+------------------------+\n",
      "|1                       |\n",
      "+------------------------+\n",
      "\n",
      "+---------------------+\n",
      "|count(DISTINCT gclid)|\n",
      "+---------------------+\n",
      "|0                    |\n",
      "+---------------------+\n",
      "\n",
      "+---------------------+\n",
      "|count(DISTINCT yclid)|\n",
      "+---------------------+\n",
      "|502                  |\n",
      "+---------------------+\n",
      "\n"
     ]
    }
   ],
   "source": [
    "#Find dupes or misunderstanding or useless static values 981 633 total\n",
    "for col in eda_df.columns:\n",
    "    execute(\"select count(distinct(\"+ col + \")) from eda_sql\")"
   ]
  },
  {
   "cell_type": "code",
   "execution_count": 129,
   "id": "87c1d8d8",
   "metadata": {},
   "outputs": [
    {
     "name": "stdout",
     "output_type": "stream",
     "text": [
      "+-----------------------------+\n",
      "|utm_source                   |\n",
      "+-----------------------------+\n",
      "|yandex                       |\n",
      "|yalutorovsk.perspektiva24.com|\n",
      "|vn.perspektiva24.com         |\n",
      "|ufa.perspektiva24.com        |\n",
      "|ufa-sever.perspektiva24.com  |\n",
      "|test                         |\n",
      "|taplink.cc                   |\n",
      "|string                       |\n",
      "|spb.perspektiva24.com        |\n",
      "|samoletplus.ru               |\n",
      "|samolet.ru                   |\n",
      "|ru.m.wikipedia.org           |\n",
      "|podolsk.perspektiva24.com    |\n",
      "|perspektiva24.com            |\n",
      "|perspektiva-24.ru            |\n",
      "|oferta.onperspektiva24.com   |\n",
      "|mscrm.mtt.ru                 |\n",
      "|m.vk.com                     |\n",
      "|link.2gis.ru                 |\n",
      "|link.2gis.com                |\n",
      "+-----------------------------+\n",
      "only showing top 20 rows\n",
      "\n",
      "+-----------+\n",
      "|utm_content|\n",
      "+-----------+\n",
      "|null       |\n",
      "|string     |\n",
      "|{ad_id}    |\n",
      "+-----------+\n",
      "\n",
      "+--------------------+\n",
      "|yclid               |\n",
      "+--------------------+\n",
      "|string              |\n",
      "|5766598676845223953 |\n",
      "|5106249847812182918 |\n",
      "|5040976051008768037 |\n",
      "|5040557316919330904 |\n",
      "|4895309274856612734 |\n",
      "|4879536145223967757 |\n",
      "|4811215054466252969 |\n",
      "|17698179619011946   |\n",
      "|16741516068804100095|\n",
      "|1666800148806830921 |\n",
      "|1666800139713228876 |\n",
      "|16668000431032894086|\n",
      "|1666794537707713531 |\n",
      "|16667945281029268149|\n",
      "|16667944481042898460|\n",
      "|1666794331823207907 |\n",
      "|16667943221005224602|\n",
      "|1666794243274136746 |\n",
      "|1666793970472794115 |\n",
      "+--------------------+\n",
      "only showing top 20 rows\n",
      "\n"
     ]
    }
   ],
   "source": [
    "#Find dupes or misunderstanding or useless static values 1964 total\n",
    "\n",
    "execute(\"SELECT DISTINCT(utm_source)\\\n",
    "        FROM eda_sql\\\n",
    "        WHERE 1 = 1 \\\n",
    "        ORDER BY utm_source DESC\")\n",
    "\n",
    "execute(\"SELECT DISTINCT(utm_content)\\\n",
    "        FROM eda_sql\\\n",
    "        WHERE 1 = 1 \\\n",
    "        ORDER BY utm_content ASC\")\n",
    "\n",
    "execute(\"SELECT DISTINCT(yclid)\\\n",
    "        FROM eda_sql\\\n",
    "        WHERE 1 = 1 \\\n",
    "        ORDER BY yclid DESC\")\n"
   ]
  },
  {
   "cell_type": "markdown",
   "id": "a34abecb",
   "metadata": {},
   "source": [
    "## Bonus"
   ]
  },
  {
   "cell_type": "markdown",
   "id": "83df95a9",
   "metadata": {},
   "source": [
    "### 2nd solution (Cycle and variables)\n",
    "#### Slower but more simple and has more readability than the previous method "
   ]
  },
  {
   "cell_type": "markdown",
   "id": "19b4d65b",
   "metadata": {},
   "source": [
    "### Create the list of variables to re-use if needed"
   ]
  },
  {
   "cell_type": "code",
   "execution_count": null,
   "id": "c4b8e5d6",
   "metadata": {},
   "outputs": [],
   "source": [
    "useless_columns = []\n",
    "null_values = []\n",
    "zero_values = []\n",
    "empty_string = []\n",
    "col_name = []"
   ]
  },
  {
   "cell_type": "code",
   "execution_count": null,
   "id": "82a51d3d",
   "metadata": {},
   "outputs": [],
   "source": [
    "for col in eda_df.columns:\n",
    "    null = round((eda_df.filter(eda_df[col].isNull()).count()/eda_df.count())*100, 3)\n",
    "    zero = round(eda_df.filter(eda_df[col]==0).count()/eda_df.count()*100, 3)\n",
    "    empty = round(eda_df.filter(eda_df[col]=='').count()/eda_df.count()*100, 3)\n",
    "    if null in [0, 100] and zero in [0, 100] and empty in [0, 100]:\n",
    "        useless_columns.append(col)\n",
    "        continue\n",
    "    null_values.append(null)\n",
    "    zero_values.append(zero)\n",
    "    empty_string.append(empty)\n",
    "    col_name.append(col)"
   ]
  },
  {
   "cell_type": "code",
   "execution_count": null,
   "id": "6b405596",
   "metadata": {},
   "outputs": [],
   "source": [
    "zipped = list(zip(null_values, zero_values, empty_string))\n",
    "eda_df_pandas2 = pd.DataFrame(zipped, index=col_name, columns=['NULL', 'Zero', 'Empty'])\n",
    "eda_df_pandas2"
   ]
  },
  {
   "cell_type": "markdown",
   "id": "16caef6a",
   "metadata": {},
   "source": [
    "### Remove useless columns"
   ]
  },
  {
   "cell_type": "code",
   "execution_count": null,
   "id": "c1ea0350",
   "metadata": {},
   "outputs": [],
   "source": [
    "eda_df = eda_df.drop(*useless_columns)"
   ]
  },
  {
   "cell_type": "code",
   "execution_count": null,
   "id": "c8306999",
   "metadata": {},
   "outputs": [],
   "source": [
    "pd.DataFrame(eda_df.dtypes, columns = ['Column Name','Data type'])"
   ]
  },
  {
   "cell_type": "code",
   "execution_count": 101,
   "id": "89b3aa90",
   "metadata": {},
   "outputs": [
    {
     "name": "stderr",
     "output_type": "stream",
     "text": [
      "I1119 14:12:15.289315 10390 sched.cpp:2174] Asked to stop the driver\n",
      "I1119 14:12:15.289451 10556 sched.cpp:1207] Stopping framework 89161c75-8817-4ae4-ab24-cba26241d6f9-75308\n"
     ]
    }
   ],
   "source": [
    "spark.stop()"
   ]
  },
  {
   "cell_type": "code",
   "execution_count": null,
   "id": "063105aa",
   "metadata": {},
   "outputs": [],
   "source": []
  }
 ],
 "metadata": {
  "kernelspec": {
   "display_name": "jupyter_P24",
   "language": "python",
   "name": "jupyter_p24"
  },
  "language_info": {
   "codemirror_mode": {
    "name": "ipython",
    "version": 3
   },
   "file_extension": ".py",
   "mimetype": "text/x-python",
   "name": "python",
   "nbconvert_exporter": "python",
   "pygments_lexer": "ipython3",
   "version": "3.9.13"
  }
 },
 "nbformat": 4,
 "nbformat_minor": 5
}
