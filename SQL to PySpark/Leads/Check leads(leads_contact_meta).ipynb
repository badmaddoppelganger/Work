{
 "cells": [
  {
   "cell_type": "markdown",
   "id": "93ca94f4",
   "metadata": {},
   "source": [
    "# Tech Intro"
   ]
  },
  {
   "cell_type": "markdown",
   "id": "2fce20ac",
   "metadata": {},
   "source": [
    "## Main tables"
   ]
  },
  {
   "cell_type": "code",
   "execution_count": 559,
   "id": "e46f86d7",
   "metadata": {},
   "outputs": [],
   "source": [
    "# Real Estate's objects\n",
    "real_estate_list: list = [\n",
    "    'ag_object',\n",
    "    'ag_parse_ad',\n",
    "    'ag_lead_object',\n",
    "    'ag_presentation_object',\n",
    "    'ag_object_platform',\n",
    "    'ag_posting_ad_realty',\n",
    "    'native_realty_filial',\n",
    "    'foreign_realty_filial',\n",
    "    'spr_metro',\n",
    "    'spr_metro_connection',\n",
    "    'ag_object_parking']\n",
    "# Lead's objects\n",
    "lead_list: list = [\n",
    "    'leads',\n",
    "    'lead_utm',\n",
    "    'client_wishes',\n",
    "    'leads_email_order',\n",
    "    'request_from_site',\n",
    "    'lead_finance',\n",
    "    'leads_source_spr',\n",
    "    'leads_calls_connection',\n",
    "    'leads_pipeline',\n",
    "    'leads_not_implemented_reason',\n",
    "    'leads_status',\n",
    "    'ag_pipeline',\n",
    "    'ag_pipeline_status',\n",
    "    'leads_meta',\n",
    "    'leads_meta_fields',\n",
    "    'leads_meta_group',\n",
    "    'leads_contacts_connect',\n",
    "    'leads_contact',\n",
    "    'leads_contact_meta',\n",
    "    'leads_contact_meta_fields']\n",
    "# Deal's objects\n",
    "deal_list: list = [\n",
    "    # Deal\n",
    "    'a_deal',\n",
    "    'a_deal_meta',\n",
    "    'deal_passport',\n",
    "    'a_deal_finance',\n",
    "    'a_deal_check',\n",
    "    'a_deal_test',\n",
    "    # Contractor\n",
    "    'a_contractor',\n",
    "    'a_contractor_meta',\n",
    "    'a_deal_contractor',\n",
    "    'a_deal_contractor_meta',\n",
    "    # Object\n",
    "    'a_object',\n",
    "    'a_object_meta',\n",
    "    'a_deal_object']"
   ]
  },
  {
   "cell_type": "markdown",
   "id": "86c6ee69",
   "metadata": {},
   "source": [
    "## Main Variables"
   ]
  },
  {
   "cell_type": "code",
   "execution_count": 560,
   "id": "f9fb4d41",
   "metadata": {},
   "outputs": [],
   "source": [
    "# Address and name of your notebook\n",
    "venv_path = \"/home/bigdata/a.umarov/jupyter_P24\"\n",
    "# Exploratory Data Analysis(EDA) table (eda_table)\n",
    "eda_table = lead_list[18] # You can generate full-EDA cycle if you want through the all of tables\n",
    "                                # Just iterate it !\n",
    "# Exploratory Data Analysis(EDA) obj as PySpark DataFrame\n",
    "eda_df = None\n",
    "# Set the date of checking\n",
    "sample_data_date = '20221027'"
   ]
  },
  {
   "cell_type": "markdown",
   "id": "79cec746",
   "metadata": {},
   "source": [
    "## Useful command and modules (can be transform into the 'importlib'- smart import logic)"
   ]
  },
  {
   "cell_type": "code",
   "execution_count": 561,
   "id": "19563688",
   "metadata": {},
   "outputs": [
    {
     "name": "stderr",
     "output_type": "stream",
     "text": [
      "W1120 00:31:14.351390 10390 process.cpp:2877] Attempted to spawn already running process version@10.62.4.11:44708\n",
      "I1120 00:31:14.352130 22925 sched.cpp:241] Version: 1.11.0\n",
      "I1120 00:31:14.352370 10586 sched.cpp:345] New master detected at master@10.62.4.8:5050\n",
      "I1120 00:31:14.352473 10586 sched.cpp:365] No credentials provided. Attempting to register without authentication\n",
      "I1120 00:31:14.354116 10587 sched.cpp:753] Framework registered with 89161c75-8817-4ae4-ab24-cba26241d6f9-75603\n"
     ]
    }
   ],
   "source": [
    "import os\n",
    "import pandas as pd\n",
    "# To data analyze need the module\n",
    "import pyspark.pandas as ps\n",
    "os.environ[\"PYSPARK_PYTHON\"] = f\"{venv_path}/bin/python3\"\n",
    "os.environ[\"PYSPARK_DRIVER_PYTHON\"] = f\"{venv_path}/bin/python3\"\n",
    "\n",
    "import findspark\n",
    "findspark.init(\"/opt/dev/spark/spark\")\n",
    " \n",
    "from pyspark import SparkContext, SparkConf\n",
    "from pyspark.sql import SparkSession, SQLContext, DataFrameNaFunctions, \\\n",
    "                        Window, DataFrame, DataFrameStatFunctions, \\\n",
    "                        Column, Row, GroupedData, functions, types\n",
    "from pyspark.sql.functions import isnan, when, count, col\n",
    "\n",
    "\n",
    "conf = SparkConf().setAppName(\"get_info_from_\" + eda_table + \"_table\")\n",
    "sc = SparkContext(conf=conf)\n",
    "sc.setLogLevel(\"ERROR\")\n",
    "spark = SparkSession(sc)"
   ]
  },
  {
   "cell_type": "markdown",
   "id": "025c6aa9",
   "metadata": {},
   "source": [
    "## Read the spec-file from Hadoop and show some data sample"
   ]
  },
  {
   "cell_type": "code",
   "execution_count": 562,
   "id": "578e3061",
   "metadata": {
    "scrolled": true
   },
   "outputs": [
    {
     "name": "stderr",
     "output_type": "stream",
     "text": [
      "                                                                                \r"
     ]
    },
    {
     "name": "stdout",
     "output_type": "stream",
     "text": [
      "+-------+----------------+--------------------+-----+-------+-----------+----------------+\n",
      "|id     |leads_contact_id|leads_meta_fields_id|code |name   |value      |phone_normalized|\n",
      "+-------+----------------+--------------------+-----+-------+-----------+----------------+\n",
      "|1000006|43136815        |null                |PHONE|Телефон|79184399790|79184399790     |\n",
      "|1000020|43137192        |null                |PHONE|Телефон|79057178996|79057178996     |\n",
      "|1000022|43136803        |null                |PHONE|Телефон|79084613205|79084613205     |\n",
      "|1000076|43138201        |null                |PHONE|Телефон|79772967399|79772967399     |\n",
      "|10001  |34435283        |null                |PHONE|Телефон|79191456206|79191456206     |\n",
      "|1000186|43138111        |null                |PHONE|Телефон|79371642279|79371642279     |\n",
      "|1000203|43137998        |null                |PHONE|Телефон|79174403889|79174403889     |\n",
      "|1000211|43137000        |null                |PHONE|Телефон|79775563193|79775563193     |\n",
      "|1000216|43133683        |null                |PHONE|Телефон|79803897415|79803897415     |\n",
      "|1000260|43138231        |null                |PHONE|Телефон|79270948975|79270948975     |\n",
      "+-------+----------------+--------------------+-----+-------+-----------+----------------+\n",
      "only showing top 10 rows\n",
      "\n"
     ]
    }
   ],
   "source": [
    "eda_df = spark.read.parquet(\"/prod/source/p24/\" + eda_table + \"/datekey=\" + sample_data_date)\n",
    "eda_df.show(10, False)"
   ]
  },
  {
   "cell_type": "markdown",
   "id": "c62a4902",
   "metadata": {},
   "source": [
    "## Show columns' properties"
   ]
  },
  {
   "cell_type": "code",
   "execution_count": 563,
   "id": "f8ff7f9c",
   "metadata": {},
   "outputs": [
    {
     "name": "stdout",
     "output_type": "stream",
     "text": [
      "Data overview\n",
      "root\n",
      " |-- id: string (nullable = true)\n",
      " |-- leads_contact_id: string (nullable = true)\n",
      " |-- leads_meta_fields_id: string (nullable = true)\n",
      " |-- code: string (nullable = true)\n",
      " |-- name: string (nullable = true)\n",
      " |-- value: string (nullable = true)\n",
      " |-- phone_normalized: string (nullable = true)\n",
      "\n"
     ]
    }
   ],
   "source": [
    "print('Data overview')\n",
    "eda_df.printSchema()"
   ]
  },
  {
   "cell_type": "markdown",
   "id": "04bc5dc3",
   "metadata": {},
   "source": [
    "## Total rows (count)"
   ]
  },
  {
   "cell_type": "code",
   "execution_count": 564,
   "id": "d8a63c96",
   "metadata": {},
   "outputs": [
    {
     "data": {
      "text/plain": [
       "635283"
      ]
     },
     "execution_count": 564,
     "metadata": {},
     "output_type": "execute_result"
    }
   ],
   "source": [
    "eda_df.count()"
   ]
  },
  {
   "cell_type": "markdown",
   "id": "d6c93fce",
   "metadata": {},
   "source": [
    "## Simple func to execute and show the result of the SQL-instruction"
   ]
  },
  {
   "cell_type": "code",
   "execution_count": 565,
   "id": "29bbb505",
   "metadata": {},
   "outputs": [],
   "source": [
    "def execute(select_instruction: str = \"select count(*) from eda_sql\") -> object:\n",
    "    \"\"\"\n",
    "    Method to execute and show the result of your SQL-instruction\n",
    "    :default -> \"select count(*) from eda_sql\"\n",
    "    :param :string select_instruction: SQL statement\n",
    "    :return: result of the SQL-operation as a table\n",
    "    \"\"\"\n",
    "    return spark.sql(select_instruction).show(truncate = False)"
   ]
  },
  {
   "cell_type": "markdown",
   "id": "06551cc5",
   "metadata": {},
   "source": [
    "## Create the temp-table-view from the DF (called as \"eda_sql\")"
   ]
  },
  {
   "cell_type": "code",
   "execution_count": 566,
   "id": "673475aa",
   "metadata": {},
   "outputs": [],
   "source": [
    "eda_df.createOrReplaceTempView(\"eda_sql\")"
   ]
  },
  {
   "cell_type": "markdown",
   "id": "d98e84ed",
   "metadata": {},
   "source": [
    "## Check the method and temp-table"
   ]
  },
  {
   "cell_type": "code",
   "execution_count": 567,
   "id": "a2d571a0",
   "metadata": {},
   "outputs": [
    {
     "name": "stderr",
     "output_type": "stream",
     "text": [
      "[Stage 6:===============================================>           (4 + 1) / 5]\r"
     ]
    },
    {
     "name": "stdout",
     "output_type": "stream",
     "text": [
      "+--------+\n",
      "|count(1)|\n",
      "+--------+\n",
      "|635283  |\n",
      "+--------+\n",
      "\n"
     ]
    },
    {
     "name": "stderr",
     "output_type": "stream",
     "text": [
      "                                                                                \r"
     ]
    }
   ],
   "source": [
    "execute(\"select count(*) from eda_sql\")"
   ]
  },
  {
   "cell_type": "markdown",
   "id": "baeadc7c",
   "metadata": {},
   "source": [
    "## Detect missing values and abnormal zeroes and print it"
   ]
  },
  {
   "cell_type": "markdown",
   "id": "69ed9472",
   "metadata": {},
   "source": [
    "###### Check-rule Matrix\n",
    "\n",
    "\n",
    "|  Name of the rule    |Available                   \n",
    "|----------------------|-------------------------|\n",
    "|NULL/NaN/NA           |+                        |\n",
    "|'Zero'-value          |+                        |\n",
    "|'Empty-string'        |+                        |"
   ]
  },
  {
   "cell_type": "markdown",
   "id": "8bfc12ee",
   "metadata": {},
   "source": [
    "### 1st solution (PySpark & Pandas version)\n",
    "#### Max perfomance but harder to read & understand"
   ]
  },
  {
   "cell_type": "markdown",
   "id": "ceb2d291",
   "metadata": {},
   "source": [
    "##### Filter and count after - all the values in the  our EDA-DF"
   ]
  },
  {
   "cell_type": "code",
   "execution_count": 568,
   "id": "a69cc029",
   "metadata": {},
   "outputs": [
    {
     "name": "stderr",
     "output_type": "stream",
     "text": [
      "                                                                                \r"
     ]
    },
    {
     "data": {
      "text/html": [
       "<div>\n",
       "<style scoped>\n",
       "    .dataframe tbody tr th:only-of-type {\n",
       "        vertical-align: middle;\n",
       "    }\n",
       "\n",
       "    .dataframe tbody tr th {\n",
       "        vertical-align: top;\n",
       "    }\n",
       "\n",
       "    .dataframe thead th {\n",
       "        text-align: right;\n",
       "    }\n",
       "</style>\n",
       "<table border=\"1\" class=\"dataframe\">\n",
       "  <thead>\n",
       "    <tr style=\"text-align: right;\">\n",
       "      <th></th>\n",
       "      <th>id</th>\n",
       "      <th>leads_contact_id</th>\n",
       "      <th>leads_meta_fields_id</th>\n",
       "      <th>code</th>\n",
       "      <th>name</th>\n",
       "      <th>value</th>\n",
       "      <th>phone_normalized</th>\n",
       "    </tr>\n",
       "  </thead>\n",
       "  <tbody>\n",
       "    <tr>\n",
       "      <th>0</th>\n",
       "      <td>0</td>\n",
       "      <td>0</td>\n",
       "      <td>635059</td>\n",
       "      <td>14915</td>\n",
       "      <td>0</td>\n",
       "      <td>170</td>\n",
       "      <td>21068</td>\n",
       "    </tr>\n",
       "  </tbody>\n",
       "</table>\n",
       "</div>"
      ],
      "text/plain": [
       "   id  leads_contact_id  leads_meta_fields_id   code  name  value  \\\n",
       "0   0                 0                635059  14915     0    170   \n",
       "\n",
       "   phone_normalized  \n",
       "0             21068  "
      ]
     },
     "execution_count": 568,
     "metadata": {},
     "output_type": "execute_result"
    }
   ],
   "source": [
    "# NULL/NaN/NA values condition\n",
    "eda_df_null_values = eda_df.select([count(when(isnan(c) | col(c).isNull(), c)).alias(c) \\\n",
    "                                    for c in eda_df.columns]).toPandas()\n",
    "eda_df_null_values"
   ]
  },
  {
   "cell_type": "code",
   "execution_count": 569,
   "id": "e08597da",
   "metadata": {},
   "outputs": [
    {
     "data": {
      "text/html": [
       "<div>\n",
       "<style scoped>\n",
       "    .dataframe tbody tr th:only-of-type {\n",
       "        vertical-align: middle;\n",
       "    }\n",
       "\n",
       "    .dataframe tbody tr th {\n",
       "        vertical-align: top;\n",
       "    }\n",
       "\n",
       "    .dataframe thead th {\n",
       "        text-align: right;\n",
       "    }\n",
       "</style>\n",
       "<table border=\"1\" class=\"dataframe\">\n",
       "  <thead>\n",
       "    <tr style=\"text-align: right;\">\n",
       "      <th></th>\n",
       "      <th>id</th>\n",
       "      <th>leads_contact_id</th>\n",
       "      <th>leads_meta_fields_id</th>\n",
       "      <th>code</th>\n",
       "      <th>name</th>\n",
       "      <th>value</th>\n",
       "      <th>phone_normalized</th>\n",
       "    </tr>\n",
       "  </thead>\n",
       "  <tbody>\n",
       "    <tr>\n",
       "      <th>0</th>\n",
       "      <td>0</td>\n",
       "      <td>0</td>\n",
       "      <td>0</td>\n",
       "      <td>0</td>\n",
       "      <td>0</td>\n",
       "      <td>28</td>\n",
       "      <td>0</td>\n",
       "    </tr>\n",
       "  </tbody>\n",
       "</table>\n",
       "</div>"
      ],
      "text/plain": [
       "   id  leads_contact_id  leads_meta_fields_id  code  name  value  \\\n",
       "0   0                 0                     0     0     0     28   \n",
       "\n",
       "   phone_normalized  \n",
       "0                 0  "
      ]
     },
     "execution_count": 569,
     "metadata": {},
     "output_type": "execute_result"
    }
   ],
   "source": [
    "# Zero values condition\n",
    "eda_df_zero_values = eda_df.select([count(when(col(c) == 0, c)).alias(c) \\\n",
    "                                    for c in eda_df.columns]).toPandas()\n",
    "eda_df_zero_values"
   ]
  },
  {
   "cell_type": "code",
   "execution_count": 570,
   "id": "5a6cb426",
   "metadata": {},
   "outputs": [
    {
     "data": {
      "text/html": [
       "<div>\n",
       "<style scoped>\n",
       "    .dataframe tbody tr th:only-of-type {\n",
       "        vertical-align: middle;\n",
       "    }\n",
       "\n",
       "    .dataframe tbody tr th {\n",
       "        vertical-align: top;\n",
       "    }\n",
       "\n",
       "    .dataframe thead th {\n",
       "        text-align: right;\n",
       "    }\n",
       "</style>\n",
       "<table border=\"1\" class=\"dataframe\">\n",
       "  <thead>\n",
       "    <tr style=\"text-align: right;\">\n",
       "      <th></th>\n",
       "      <th>id</th>\n",
       "      <th>leads_contact_id</th>\n",
       "      <th>leads_meta_fields_id</th>\n",
       "      <th>code</th>\n",
       "      <th>name</th>\n",
       "      <th>value</th>\n",
       "      <th>phone_normalized</th>\n",
       "    </tr>\n",
       "  </thead>\n",
       "  <tbody>\n",
       "    <tr>\n",
       "      <th>0</th>\n",
       "      <td>0</td>\n",
       "      <td>0</td>\n",
       "      <td>0</td>\n",
       "      <td>0</td>\n",
       "      <td>0</td>\n",
       "      <td>480</td>\n",
       "      <td>0</td>\n",
       "    </tr>\n",
       "  </tbody>\n",
       "</table>\n",
       "</div>"
      ],
      "text/plain": [
       "   id  leads_contact_id  leads_meta_fields_id  code  name  value  \\\n",
       "0   0                 0                     0     0     0    480   \n",
       "\n",
       "   phone_normalized  \n",
       "0                 0  "
      ]
     },
     "execution_count": 570,
     "metadata": {},
     "output_type": "execute_result"
    }
   ],
   "source": [
    "# Empty-string values condition\n",
    "eda_df_empty_values = eda_df.select([count(when(col(c) == '', c)).alias(c) \\\n",
    "                                     for c in eda_df.columns]).toPandas()\n",
    "eda_df_empty_values"
   ]
  },
  {
   "cell_type": "code",
   "execution_count": 571,
   "id": "6e9f5025",
   "metadata": {},
   "outputs": [
    {
     "data": {
      "text/html": [
       "<div>\n",
       "<style scoped>\n",
       "    .dataframe tbody tr th:only-of-type {\n",
       "        vertical-align: middle;\n",
       "    }\n",
       "\n",
       "    .dataframe tbody tr th {\n",
       "        vertical-align: top;\n",
       "    }\n",
       "\n",
       "    .dataframe thead th {\n",
       "        text-align: right;\n",
       "    }\n",
       "</style>\n",
       "<table border=\"1\" class=\"dataframe\">\n",
       "  <thead>\n",
       "    <tr style=\"text-align: right;\">\n",
       "      <th></th>\n",
       "      <th>NULL</th>\n",
       "      <th>Zero</th>\n",
       "      <th>Empty_string</th>\n",
       "    </tr>\n",
       "  </thead>\n",
       "  <tbody>\n",
       "    <tr>\n",
       "      <th>id</th>\n",
       "      <td>0</td>\n",
       "      <td>0</td>\n",
       "      <td>0</td>\n",
       "    </tr>\n",
       "    <tr>\n",
       "      <th>leads_contact_id</th>\n",
       "      <td>0</td>\n",
       "      <td>0</td>\n",
       "      <td>0</td>\n",
       "    </tr>\n",
       "    <tr>\n",
       "      <th>leads_meta_fields_id</th>\n",
       "      <td>635059</td>\n",
       "      <td>0</td>\n",
       "      <td>0</td>\n",
       "    </tr>\n",
       "    <tr>\n",
       "      <th>code</th>\n",
       "      <td>14915</td>\n",
       "      <td>0</td>\n",
       "      <td>0</td>\n",
       "    </tr>\n",
       "    <tr>\n",
       "      <th>name</th>\n",
       "      <td>0</td>\n",
       "      <td>0</td>\n",
       "      <td>0</td>\n",
       "    </tr>\n",
       "    <tr>\n",
       "      <th>value</th>\n",
       "      <td>170</td>\n",
       "      <td>28</td>\n",
       "      <td>480</td>\n",
       "    </tr>\n",
       "    <tr>\n",
       "      <th>phone_normalized</th>\n",
       "      <td>21068</td>\n",
       "      <td>0</td>\n",
       "      <td>0</td>\n",
       "    </tr>\n",
       "  </tbody>\n",
       "</table>\n",
       "</div>"
      ],
      "text/plain": [
       "                        NULL  Zero  Empty_string\n",
       "id                         0     0             0\n",
       "leads_contact_id           0     0             0\n",
       "leads_meta_fields_id  635059     0             0\n",
       "code                   14915     0             0\n",
       "name                       0     0             0\n",
       "value                    170    28           480\n",
       "phone_normalized       21068     0             0"
      ]
     },
     "execution_count": 571,
     "metadata": {},
     "output_type": "execute_result"
    }
   ],
   "source": [
    "# Unlock the limit to display all the columns\n",
    "pd.options.display.max_rows = None\n",
    "# To transpose a dataframe - use .T method\n",
    "eda_df_pandas = pd.concat([eda_df_null_values, eda_df_zero_values, eda_df_empty_values], axis = 'index').T\n",
    "# To rename columns to anything else after the transpose\n",
    "eda_df_pandas.columns = (['NULL','Zero','Empty_string'])\n",
    "eda_df_pandas"
   ]
  },
  {
   "cell_type": "code",
   "execution_count": 572,
   "id": "7b26312a",
   "metadata": {},
   "outputs": [],
   "source": [
    "def set_result_to_percent(df: object = None) -> object:\n",
    "    \"\"\"\n",
    "    Method to execute and show the result of your PandasDataFrame\n",
    "    :default -> None-object\n",
    "    :param :Pandas DF\n",
    "    :return: DF after the conversion (absolute -> percent)\n",
    "    \"\"\"\n",
    "    if df is None:\n",
    "        return \"Please incl. at least one Pandas DF as a parameter\"\n",
    "    return round(df * 100 / eda_df.count(), 3)"
   ]
  },
  {
   "cell_type": "code",
   "execution_count": 573,
   "id": "0fd205c2",
   "metadata": {},
   "outputs": [
    {
     "data": {
      "text/html": [
       "<div>\n",
       "<style scoped>\n",
       "    .dataframe tbody tr th:only-of-type {\n",
       "        vertical-align: middle;\n",
       "    }\n",
       "\n",
       "    .dataframe tbody tr th {\n",
       "        vertical-align: top;\n",
       "    }\n",
       "\n",
       "    .dataframe thead th {\n",
       "        text-align: right;\n",
       "    }\n",
       "</style>\n",
       "<table border=\"1\" class=\"dataframe\">\n",
       "  <thead>\n",
       "    <tr style=\"text-align: right;\">\n",
       "      <th></th>\n",
       "      <th>NULL</th>\n",
       "      <th>Zero</th>\n",
       "      <th>Empty_string</th>\n",
       "    </tr>\n",
       "  </thead>\n",
       "  <tbody>\n",
       "    <tr>\n",
       "      <th>id</th>\n",
       "      <td>0.000</td>\n",
       "      <td>0.000</td>\n",
       "      <td>0.000</td>\n",
       "    </tr>\n",
       "    <tr>\n",
       "      <th>leads_contact_id</th>\n",
       "      <td>0.000</td>\n",
       "      <td>0.000</td>\n",
       "      <td>0.000</td>\n",
       "    </tr>\n",
       "    <tr>\n",
       "      <th>leads_meta_fields_id</th>\n",
       "      <td>99.965</td>\n",
       "      <td>0.000</td>\n",
       "      <td>0.000</td>\n",
       "    </tr>\n",
       "    <tr>\n",
       "      <th>code</th>\n",
       "      <td>2.348</td>\n",
       "      <td>0.000</td>\n",
       "      <td>0.000</td>\n",
       "    </tr>\n",
       "    <tr>\n",
       "      <th>name</th>\n",
       "      <td>0.000</td>\n",
       "      <td>0.000</td>\n",
       "      <td>0.000</td>\n",
       "    </tr>\n",
       "    <tr>\n",
       "      <th>value</th>\n",
       "      <td>0.027</td>\n",
       "      <td>0.004</td>\n",
       "      <td>0.076</td>\n",
       "    </tr>\n",
       "    <tr>\n",
       "      <th>phone_normalized</th>\n",
       "      <td>3.316</td>\n",
       "      <td>0.000</td>\n",
       "      <td>0.000</td>\n",
       "    </tr>\n",
       "  </tbody>\n",
       "</table>\n",
       "</div>"
      ],
      "text/plain": [
       "                        NULL   Zero  Empty_string\n",
       "id                     0.000  0.000         0.000\n",
       "leads_contact_id       0.000  0.000         0.000\n",
       "leads_meta_fields_id  99.965  0.000         0.000\n",
       "code                   2.348  0.000         0.000\n",
       "name                   0.000  0.000         0.000\n",
       "value                  0.027  0.004         0.076\n",
       "phone_normalized       3.316  0.000         0.000"
      ]
     },
     "execution_count": 573,
     "metadata": {},
     "output_type": "execute_result"
    }
   ],
   "source": [
    "set_result_to_percent(eda_df_pandas)"
   ]
  },
  {
   "cell_type": "markdown",
   "id": "99ca0812",
   "metadata": {},
   "source": [
    "### SQL-instructions"
   ]
  },
  {
   "cell_type": "code",
   "execution_count": 574,
   "id": "3790ddd5",
   "metadata": {},
   "outputs": [
    {
     "name": "stderr",
     "output_type": "stream",
     "text": [
      "                                                                                \r"
     ]
    },
    {
     "name": "stdout",
     "output_type": "stream",
     "text": [
      "+------------------+\n",
      "|count(DISTINCT id)|\n",
      "+------------------+\n",
      "|635283            |\n",
      "+------------------+\n",
      "\n",
      "+--------------------------------+\n",
      "|count(DISTINCT leads_contact_id)|\n",
      "+--------------------------------+\n",
      "|617689                          |\n",
      "+--------------------------------+\n",
      "\n",
      "+------------------------------------+\n",
      "|count(DISTINCT leads_meta_fields_id)|\n",
      "+------------------------------------+\n",
      "|2                                   |\n",
      "+------------------------------------+\n",
      "\n",
      "+--------------------+\n",
      "|count(DISTINCT code)|\n",
      "+--------------------+\n",
      "|4                   |\n",
      "+--------------------+\n",
      "\n",
      "+--------------------+\n",
      "|count(DISTINCT name)|\n",
      "+--------------------+\n",
      "|24                  |\n",
      "+--------------------+\n",
      "\n",
      "+---------------------+\n",
      "|count(DISTINCT value)|\n",
      "+---------------------+\n",
      "|563901               |\n",
      "+---------------------+\n",
      "\n",
      "+--------------------------------+\n",
      "|count(DISTINCT phone_normalized)|\n",
      "+--------------------------------+\n",
      "|546431                          |\n",
      "+--------------------------------+\n",
      "\n"
     ]
    }
   ],
   "source": [
    "#Find dupes or misunderstanding or useless static values 635 283 total\n",
    "for col in eda_df.columns:\n",
    "    execute(\"select count(distinct(\"+ col + \")) from eda_sql\")"
   ]
  },
  {
   "cell_type": "code",
   "execution_count": 575,
   "id": "32c57a97",
   "metadata": {},
   "outputs": [],
   "source": [
    "def execute_template(column: str ='id') -> object:\n",
    "    \"\"\"\n",
    "    Method to execute and show the result of your SQL-instruction\n",
    "    :default -> \"ID incl.\"\n",
    "    :param :string select_instruction: column name\n",
    "    :return: result of the SQL-operation as a table\n",
    "    \"\"\"\n",
    "    print(execute(\"SELECT DISTINCT(\" + column + \")\\\n",
    "                FROM eda_sql\\\n",
    "                WHERE 1 = 1 \\\n",
    "                ORDER BY \" + column + \" DESC\"))\n",
    "    return execute(\"SELECT DISTINCT(\" + column + \")\\\n",
    "                    FROM eda_sql\\\n",
    "                    WHERE 1 = 1 \\\n",
    "                    ORDER BY \" + column + \" ASC\")"
   ]
  },
  {
   "cell_type": "code",
   "execution_count": 576,
   "id": "87c1d8d8",
   "metadata": {},
   "outputs": [
    {
     "name": "stdout",
     "output_type": "stream",
     "text": [
      "+------+\n",
      "|id    |\n",
      "+------+\n",
      "|999995|\n",
      "|999994|\n",
      "|999992|\n",
      "|999989|\n",
      "|999982|\n",
      "|99998 |\n",
      "|999979|\n",
      "|999977|\n",
      "|999974|\n",
      "|999960|\n",
      "|999956|\n",
      "|999955|\n",
      "|999950|\n",
      "|99995 |\n",
      "|999949|\n",
      "|999947|\n",
      "|999943|\n",
      "|999941|\n",
      "|999940|\n",
      "|99994 |\n",
      "+------+\n",
      "only showing top 20 rows\n",
      "\n",
      "None\n",
      "+-------+\n",
      "|id     |\n",
      "+-------+\n",
      "|100    |\n",
      "|10000  |\n",
      "|1000006|\n",
      "|100001 |\n",
      "|1000020|\n",
      "|1000022|\n",
      "|1000029|\n",
      "|100003 |\n",
      "|1000042|\n",
      "|1000043|\n",
      "|1000044|\n",
      "|1000049|\n",
      "|1000053|\n",
      "|1000057|\n",
      "|1000060|\n",
      "|1000066|\n",
      "|1000067|\n",
      "|1000070|\n",
      "|1000071|\n",
      "|1000072|\n",
      "+-------+\n",
      "only showing top 20 rows\n",
      "\n",
      "+----------------+\n",
      "|leads_contact_id|\n",
      "+----------------+\n",
      "|9982181         |\n",
      "|9943669         |\n",
      "|9904539         |\n",
      "|9903901         |\n",
      "|9903667         |\n",
      "|9896645         |\n",
      "|9756943         |\n",
      "|9731949         |\n",
      "|9572987         |\n",
      "|9569741         |\n",
      "|951085          |\n",
      "|947175          |\n",
      "|9358031         |\n",
      "|9356789         |\n",
      "|9219869         |\n",
      "|9188321         |\n",
      "|9187103         |\n",
      "|9177179         |\n",
      "|9168943         |\n",
      "|9102633         |\n",
      "+----------------+\n",
      "only showing top 20 rows\n",
      "\n",
      "None\n",
      "+----------------+\n",
      "|leads_contact_id|\n",
      "+----------------+\n",
      "|10053613        |\n",
      "|10062929        |\n",
      "|10071263        |\n",
      "|10074673        |\n",
      "|10102823        |\n",
      "|10113025        |\n",
      "|10298937        |\n",
      "|10383005        |\n",
      "|10629197        |\n",
      "|10705867        |\n",
      "|1072713         |\n",
      "|1079425         |\n",
      "|10823795        |\n",
      "|10848913        |\n",
      "|10906519        |\n",
      "|10907411        |\n",
      "|10913867        |\n",
      "|10961343        |\n",
      "|10983383        |\n",
      "|1106223         |\n",
      "+----------------+\n",
      "only showing top 20 rows\n",
      "\n",
      "+--------------------+\n",
      "|leads_meta_fields_id|\n",
      "+--------------------+\n",
      "|2                   |\n",
      "|1                   |\n",
      "|null                |\n",
      "+--------------------+\n",
      "\n",
      "None\n",
      "+--------------------+\n",
      "|leads_meta_fields_id|\n",
      "+--------------------+\n",
      "|null                |\n",
      "|1                   |\n",
      "|2                   |\n",
      "+--------------------+\n",
      "\n",
      "+--------+\n",
      "|code    |\n",
      "+--------+\n",
      "|TAGS    |\n",
      "|POSITION|\n",
      "|PHONE   |\n",
      "|EMAIL   |\n",
      "|null    |\n",
      "+--------+\n",
      "\n",
      "None\n",
      "+--------+\n",
      "|code    |\n",
      "+--------+\n",
      "|null    |\n",
      "|EMAIL   |\n",
      "|PHONE   |\n",
      "|POSITION|\n",
      "|TAGS    |\n",
      "+--------+\n",
      "\n",
      "+--------------------+\n",
      "|name                |\n",
      "+--------------------+\n",
      "|Тэги                |\n",
      "|Точка отправки формы|\n",
      "|Телефон             |\n",
      "|Содержание РК       |\n",
      "|Сегмент             |\n",
      "|РК                  |\n",
      "|Канал трафика       |\n",
      "|Канал               |\n",
      "|Источник            |\n",
      "|Запрос              |\n",
      "|Должность           |\n",
      "|Город               |\n",
      "|Входящий номер      |\n",
      "|utm_term            |\n",
      "|utm_source          |\n",
      "|utm_medium          |\n",
      "|utm_content         |\n",
      "|communication_type  |\n",
      "|communication_time  |\n",
      "|communication_source|\n",
      "+--------------------+\n",
      "only showing top 20 rows\n",
      "\n",
      "None\n",
      "+--------------------+\n",
      "|name                |\n",
      "+--------------------+\n",
      "|Email               |\n",
      "|GOOGLE_ID           |\n",
      "|PRIMEGATE_ID        |\n",
      "|communication_id    |\n",
      "|communication_source|\n",
      "|communication_time  |\n",
      "|communication_type  |\n",
      "|utm_content         |\n",
      "|utm_medium          |\n",
      "|utm_source          |\n",
      "|utm_term            |\n",
      "|Входящий номер      |\n",
      "|Город               |\n",
      "|Должность           |\n",
      "|Запрос              |\n",
      "|Источник            |\n",
      "|Канал               |\n",
      "|Канал трафика       |\n",
      "|РК                  |\n",
      "|Сегмент             |\n",
      "+--------------------+\n",
      "only showing top 20 rows\n",
      "\n",
      "+---------------------------------------+\n",
      "|value                                  |\n",
      "+---------------------------------------+\n",
      "|‭+79867092783‬                         |\n",
      "|‎+7 967 772-53-71                      |\n",
      "|ярославль агентство недвижимости       |\n",
      "|этажи уфа недвижимость официальный сайт|\n",
      "|этажи уфа недвижимость                 |\n",
      "|этажи уфа                              |\n",
      "|этажи трехкомнатные квартиры           |\n",
      "|этажи купить                           |\n",
      "|этажи ан                               |\n",
      "|этажи агентство недвижимости           |\n",
      "|этажи                                  |\n",
      "|эрмитаж  глумилино                     |\n",
      "|элитные квартиры в уфе                 |\n",
      "|эксперт недвижимость                   |\n",
      "|эксперт ан                             |\n",
      "|эксперт агентство                      |\n",
      "|экопарк сосны                          |\n",
      "|шмелева                                |\n",
      "|хуй22@imgay.com                        |\n",
      "|хуй вам                                |\n",
      "+---------------------------------------+\n",
      "only showing top 20 rows\n",
      "\n",
      "None\n",
      "+---------------+\n",
      "|value          |\n",
      "+---------------+\n",
      "|null           |\n",
      "|               |\n",
      "|\\t +79174125112|\n",
      "|\\t+            |\n",
      "|\\t+74565675678 |\n",
      "|\\t+75555555555 |\n",
      "|\\t+79003214748 |\n",
      "|\\t+79003238525 |\n",
      "|\\t+79003266828 |\n",
      "|\\t+79014978888 |\n",
      "|\\t+79020051112 |\n",
      "|\\t+79021051683 |\n",
      "|\\t+79026711739 |\n",
      "|\\t+79027114778 |\n",
      "|\\t+79033053807 |\n",
      "|\\t+79033058400 |\n",
      "|\\t+79033116384 |\n",
      "|\\t+79033116930 |\n",
      "|\\t+79033118182 |\n",
      "|\\t+79033119545 |\n",
      "+---------------+\n",
      "only showing top 20 rows\n",
      "\n",
      "+----------------+\n",
      "|phone_normalized|\n",
      "+----------------+\n",
      "|79999999999     |\n",
      "|79999999998     |\n",
      "|79999999997     |\n",
      "|79999999996     |\n",
      "|79999999995     |\n",
      "|79999999994     |\n",
      "|79999999993     |\n",
      "|79999999992     |\n",
      "|79999999991     |\n",
      "|79999999990     |\n",
      "|79999999989     |\n",
      "|79999999988     |\n",
      "|79999999987     |\n",
      "|79999999985     |\n",
      "|79999999983     |\n",
      "|79999999977     |\n",
      "|79999999972     |\n",
      "|79999999966     |\n",
      "|79999999958     |\n",
      "|79999999955     |\n",
      "+----------------+\n",
      "only showing top 20 rows\n",
      "\n",
      "None\n",
      "+----------------+\n",
      "|phone_normalized|\n",
      "+----------------+\n",
      "|null            |\n",
      "|70000000000     |\n",
      "|70000000001     |\n",
      "|70000000002     |\n",
      "|70000000003     |\n",
      "|70000000004     |\n",
      "|70000000005     |\n",
      "|70000000006     |\n",
      "|70000000007     |\n",
      "|70000000008     |\n",
      "|70000000009     |\n",
      "|70000000010     |\n",
      "|70000000011     |\n",
      "|70000000012     |\n",
      "|70000000013     |\n",
      "|70000000014     |\n",
      "|70000000015     |\n",
      "|70000000016     |\n",
      "|70000000017     |\n",
      "|70000000019     |\n",
      "+----------------+\n",
      "only showing top 20 rows\n",
      "\n"
     ]
    }
   ],
   "source": [
    "#Find dupes or misunderstanding or useless static values 635 283 total\n",
    "for col in eda_df.columns:\n",
    "    execute_template(col)"
   ]
  },
  {
   "cell_type": "markdown",
   "id": "a34abecb",
   "metadata": {},
   "source": [
    "## Bonus"
   ]
  },
  {
   "cell_type": "markdown",
   "id": "83df95a9",
   "metadata": {},
   "source": [
    "### 2nd solution (Cycle and variables)\n",
    "#### Slower but more simple and has more readability than the previous method "
   ]
  },
  {
   "cell_type": "markdown",
   "id": "19b4d65b",
   "metadata": {},
   "source": [
    "### Create the list of variables to re-use if needed"
   ]
  },
  {
   "cell_type": "code",
   "execution_count": null,
   "id": "c4b8e5d6",
   "metadata": {},
   "outputs": [],
   "source": [
    "useless_columns = []\n",
    "null_values = []\n",
    "zero_values = []\n",
    "empty_string = []\n",
    "col_name = []"
   ]
  },
  {
   "cell_type": "code",
   "execution_count": null,
   "id": "82a51d3d",
   "metadata": {},
   "outputs": [],
   "source": [
    "for col in eda_df.columns:\n",
    "    null = round((eda_df.filter(eda_df[col].isNull()).count()/eda_df.count())*100, 3)\n",
    "    zero = round(eda_df.filter(eda_df[col]==0).count()/eda_df.count()*100, 3)\n",
    "    empty = round(eda_df.filter(eda_df[col]=='').count()/eda_df.count()*100, 3)\n",
    "    if null in [0, 100] and zero in [0, 100] and empty in [0, 100]:\n",
    "        useless_columns.append(col)\n",
    "        continue\n",
    "    null_values.append(null)\n",
    "    zero_values.append(zero)\n",
    "    empty_string.append(empty)\n",
    "    col_name.append(col)"
   ]
  },
  {
   "cell_type": "code",
   "execution_count": null,
   "id": "6b405596",
   "metadata": {},
   "outputs": [],
   "source": [
    "zipped = list(zip(null_values, zero_values, empty_string))\n",
    "eda_df_pandas2 = pd.DataFrame(zipped, index=col_name, columns=['NULL', 'Zero', 'Empty'])\n",
    "eda_df_pandas2"
   ]
  },
  {
   "cell_type": "markdown",
   "id": "16caef6a",
   "metadata": {},
   "source": [
    "### Remove useless columns"
   ]
  },
  {
   "cell_type": "code",
   "execution_count": null,
   "id": "c1ea0350",
   "metadata": {},
   "outputs": [],
   "source": [
    "eda_df = eda_df.drop(*useless_columns)"
   ]
  },
  {
   "cell_type": "code",
   "execution_count": null,
   "id": "c8306999",
   "metadata": {},
   "outputs": [],
   "source": [
    "pd.DataFrame(eda_df.dtypes, columns = ['Column Name','Data type'])"
   ]
  },
  {
   "cell_type": "code",
   "execution_count": 577,
   "id": "89b3aa90",
   "metadata": {},
   "outputs": [
    {
     "name": "stderr",
     "output_type": "stream",
     "text": [
      "I1120 00:36:48.959309 10390 sched.cpp:2174] Asked to stop the driver\n",
      "I1120 00:36:48.959415 10567 sched.cpp:1207] Stopping framework 89161c75-8817-4ae4-ab24-cba26241d6f9-75603\n"
     ]
    }
   ],
   "source": [
    "spark.stop()"
   ]
  },
  {
   "cell_type": "code",
   "execution_count": null,
   "id": "063105aa",
   "metadata": {},
   "outputs": [],
   "source": []
  }
 ],
 "metadata": {
  "kernelspec": {
   "display_name": "jupyter_P24",
   "language": "python",
   "name": "jupyter_p24"
  },
  "language_info": {
   "codemirror_mode": {
    "name": "ipython",
    "version": 3
   },
   "file_extension": ".py",
   "mimetype": "text/x-python",
   "name": "python",
   "nbconvert_exporter": "python",
   "pygments_lexer": "ipython3",
   "version": "3.9.13"
  }
 },
 "nbformat": 4,
 "nbformat_minor": 5
}
